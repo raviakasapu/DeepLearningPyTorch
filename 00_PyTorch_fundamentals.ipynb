{
  "nbformat": 4,
  "nbformat_minor": 0,
  "metadata": {
    "colab": {
      "provenance": [],
      "gpuType": "T4",
      "authorship_tag": "ABX9TyNVjU/FUzUfSWqbXB+SHCko",
      "include_colab_link": true
    },
    "kernelspec": {
      "name": "python3",
      "display_name": "Python 3"
    },
    "language_info": {
      "name": "python"
    }
  },
  "cells": [
    {
      "cell_type": "markdown",
      "metadata": {
        "id": "view-in-github",
        "colab_type": "text"
      },
      "source": [
        "<a href=\"https://colab.research.google.com/github/raviakasapu/DeepLearningPyTorch/blob/main/00_PyTorch_fundamentals.ipynb\" target=\"_parent\"><img src=\"https://colab.research.google.com/assets/colab-badge.svg\" alt=\"Open In Colab\"/></a>"
      ]
    },
    {
      "cell_type": "markdown",
      "source": [
        "# PyTorch Fundamentals"
      ],
      "metadata": {
        "id": "5qbSaywzZp5Z"
      }
    },
    {
      "cell_type": "markdown",
      "source": [
        "https://www.learnpytorch.io/00_pytorch_fundamentals/"
      ],
      "metadata": {
        "id": "oPN_O0b4ZkZe"
      }
    },
    {
      "cell_type": "markdown",
      "source": [
        "### import libraries"
      ],
      "metadata": {
        "id": "c4W-i7S2aw_T"
      }
    },
    {
      "cell_type": "code",
      "source": [
        "import torch\n",
        "print(torch.__version__)"
      ],
      "metadata": {
        "colab": {
          "base_uri": "https://localhost:8080/"
        },
        "id": "zBmWQbROZvox",
        "outputId": "65120472-a997-4aad-f025-257989a0c3d9"
      },
      "execution_count": 1,
      "outputs": [
        {
          "output_type": "stream",
          "name": "stdout",
          "text": [
            "2.0.1+cu118\n"
          ]
        }
      ]
    },
    {
      "cell_type": "code",
      "source": [
        "import pandas as pd\n",
        "import numpy as np\n",
        "import matplotlib.pyplot as plt\n"
      ],
      "metadata": {
        "id": "7omEl812aF2e"
      },
      "execution_count": 2,
      "outputs": []
    },
    {
      "cell_type": "markdown",
      "source": [
        "### Tensors"
      ],
      "metadata": {
        "id": "3bxdcJsFa80E"
      }
    },
    {
      "cell_type": "code",
      "source": [
        "# scalar\n",
        "scalar = torch.tensor(7)\n",
        "scalar"
      ],
      "metadata": {
        "colab": {
          "base_uri": "https://localhost:8080/"
        },
        "id": "WLAnryUxaTgM",
        "outputId": "32a79ad2-0b96-4f70-ffb4-60089a2468ff"
      },
      "execution_count": 3,
      "outputs": [
        {
          "output_type": "execute_result",
          "data": {
            "text/plain": [
              "tensor(7)"
            ]
          },
          "metadata": {},
          "execution_count": 3
        }
      ]
    },
    {
      "cell_type": "code",
      "source": [
        "scalar.ndim"
      ],
      "metadata": {
        "colab": {
          "base_uri": "https://localhost:8080/"
        },
        "id": "7PBu-_a6bhKW",
        "outputId": "13c39d20-bb06-4742-cc21-bdd0beca5c65"
      },
      "execution_count": 4,
      "outputs": [
        {
          "output_type": "execute_result",
          "data": {
            "text/plain": [
              "0"
            ]
          },
          "metadata": {},
          "execution_count": 4
        }
      ]
    },
    {
      "cell_type": "code",
      "source": [
        "scalar.item()"
      ],
      "metadata": {
        "colab": {
          "base_uri": "https://localhost:8080/"
        },
        "id": "GofHT1cmb5eT",
        "outputId": "ab0eac24-7928-4672-9ce9-3a5aabb7717f"
      },
      "execution_count": 5,
      "outputs": [
        {
          "output_type": "execute_result",
          "data": {
            "text/plain": [
              "7"
            ]
          },
          "metadata": {},
          "execution_count": 5
        }
      ]
    },
    {
      "cell_type": "code",
      "source": [
        "# vector\n",
        "vector = torch.tensor([1,7])\n",
        "vector"
      ],
      "metadata": {
        "colab": {
          "base_uri": "https://localhost:8080/"
        },
        "id": "2UW5pCkob9f6",
        "outputId": "c649eac5-1f3c-40c7-f93a-576f5cd03f24"
      },
      "execution_count": 6,
      "outputs": [
        {
          "output_type": "execute_result",
          "data": {
            "text/plain": [
              "tensor([1, 7])"
            ]
          },
          "metadata": {},
          "execution_count": 6
        }
      ]
    },
    {
      "cell_type": "code",
      "source": [
        "vector.ndim"
      ],
      "metadata": {
        "colab": {
          "base_uri": "https://localhost:8080/"
        },
        "id": "geCEGnu4b9hn",
        "outputId": "96872c9d-d59c-4dbf-a3e6-e504bb8bbf54"
      },
      "execution_count": 7,
      "outputs": [
        {
          "output_type": "execute_result",
          "data": {
            "text/plain": [
              "1"
            ]
          },
          "metadata": {},
          "execution_count": 7
        }
      ]
    },
    {
      "cell_type": "code",
      "source": [
        "vector.shape"
      ],
      "metadata": {
        "colab": {
          "base_uri": "https://localhost:8080/"
        },
        "id": "JtgnzKj0b9tP",
        "outputId": "980d3290-f608-40dd-bff5-1976c6a5d061"
      },
      "execution_count": 8,
      "outputs": [
        {
          "output_type": "execute_result",
          "data": {
            "text/plain": [
              "torch.Size([2])"
            ]
          },
          "metadata": {},
          "execution_count": 8
        }
      ]
    },
    {
      "cell_type": "code",
      "source": [
        "# matrix\n",
        "matrix = torch.tensor([[1,2],\n",
        "                      [3,2]])\n",
        "matrix"
      ],
      "metadata": {
        "colab": {
          "base_uri": "https://localhost:8080/"
        },
        "id": "dwi1Z7wEcgkI",
        "outputId": "25708c98-022f-4b9c-df7f-131bd9179b8f"
      },
      "execution_count": 9,
      "outputs": [
        {
          "output_type": "execute_result",
          "data": {
            "text/plain": [
              "tensor([[1, 2],\n",
              "        [3, 2]])"
            ]
          },
          "metadata": {},
          "execution_count": 9
        }
      ]
    },
    {
      "cell_type": "code",
      "source": [
        "matrix.ndim"
      ],
      "metadata": {
        "colab": {
          "base_uri": "https://localhost:8080/"
        },
        "id": "P2CTwDQwcs6V",
        "outputId": "80a5ebf5-1eec-4aaf-fd77-c4dd9753472a"
      },
      "execution_count": 10,
      "outputs": [
        {
          "output_type": "execute_result",
          "data": {
            "text/plain": [
              "2"
            ]
          },
          "metadata": {},
          "execution_count": 10
        }
      ]
    },
    {
      "cell_type": "code",
      "source": [
        "matrix.shape"
      ],
      "metadata": {
        "colab": {
          "base_uri": "https://localhost:8080/"
        },
        "id": "MBTKApYNcs9T",
        "outputId": "a29860b0-0aad-4324-8c8c-95bd87b59b9e"
      },
      "execution_count": 11,
      "outputs": [
        {
          "output_type": "execute_result",
          "data": {
            "text/plain": [
              "torch.Size([2, 2])"
            ]
          },
          "metadata": {},
          "execution_count": 11
        }
      ]
    },
    {
      "cell_type": "code",
      "source": [
        "# Tensor \n",
        "\n",
        "tensor = torch.tensor([[[1,2,3],[2,3,4],[3,4,5]]])"
      ],
      "metadata": {
        "id": "XDhdAdQZdnya"
      },
      "execution_count": 12,
      "outputs": []
    },
    {
      "cell_type": "code",
      "source": [
        "tensor.ndim"
      ],
      "metadata": {
        "colab": {
          "base_uri": "https://localhost:8080/"
        },
        "id": "RSFb3Hebop3l",
        "outputId": "b889aee2-4116-412f-e6f9-98ff0eb889fa"
      },
      "execution_count": 13,
      "outputs": [
        {
          "output_type": "execute_result",
          "data": {
            "text/plain": [
              "3"
            ]
          },
          "metadata": {},
          "execution_count": 13
        }
      ]
    },
    {
      "cell_type": "code",
      "source": [
        "tensor.shape"
      ],
      "metadata": {
        "colab": {
          "base_uri": "https://localhost:8080/"
        },
        "id": "zOQzGR5Fosz9",
        "outputId": "09558f0c-5984-4e46-85fc-2b29c9ff7207"
      },
      "execution_count": 14,
      "outputs": [
        {
          "output_type": "execute_result",
          "data": {
            "text/plain": [
              "torch.Size([1, 3, 3])"
            ]
          },
          "metadata": {},
          "execution_count": 14
        }
      ]
    },
    {
      "cell_type": "markdown",
      "source": [
        "### Random Tensors"
      ],
      "metadata": {
        "id": "BXP-qHMVsLKU"
      }
    },
    {
      "cell_type": "code",
      "source": [
        "#create a random tensor\n",
        "#of shape (3,4)\n",
        "\n",
        "random_tensor = torch.rand(2,3,4)\n",
        "random_tensor"
      ],
      "metadata": {
        "colab": {
          "base_uri": "https://localhost:8080/"
        },
        "id": "sxzMP-uWsJ2u",
        "outputId": "0c627e0c-d14b-4e68-d151-0725a485a383"
      },
      "execution_count": 15,
      "outputs": [
        {
          "output_type": "execute_result",
          "data": {
            "text/plain": [
              "tensor([[[0.6464, 0.0367, 0.2175, 0.3700],\n",
              "         [0.4777, 0.4236, 0.2581, 0.4367],\n",
              "         [0.3959, 0.2307, 0.2338, 0.6359]],\n",
              "\n",
              "        [[0.5380, 0.7390, 0.4659, 0.7473],\n",
              "         [0.4137, 0.6104, 0.9368, 0.8039],\n",
              "         [0.3022, 0.6203, 0.2643, 0.2682]]])"
            ]
          },
          "metadata": {},
          "execution_count": 15
        }
      ]
    },
    {
      "cell_type": "code",
      "source": [
        "# tensor with shape same as image tensor\n",
        "random_image_tensor = torch.rand(size=(3,224,224)) # color channels, height, width\n",
        "random_image_tensor.ndim"
      ],
      "metadata": {
        "colab": {
          "base_uri": "https://localhost:8080/"
        },
        "id": "0s4uXnNXsJ6e",
        "outputId": "d9c31302-547f-4cba-baba-30a4441339b7"
      },
      "execution_count": 16,
      "outputs": [
        {
          "output_type": "execute_result",
          "data": {
            "text/plain": [
              "3"
            ]
          },
          "metadata": {},
          "execution_count": 16
        }
      ]
    },
    {
      "cell_type": "code",
      "source": [
        "# tensor with 0's and 1's\n",
        "zero = torch.zeros(size=(1,3,4))\n",
        "zero"
      ],
      "metadata": {
        "colab": {
          "base_uri": "https://localhost:8080/"
        },
        "id": "5BoSy4cisJ83",
        "outputId": "9bc927f3-8869-4013-9982-6e61fc74b247"
      },
      "execution_count": 17,
      "outputs": [
        {
          "output_type": "execute_result",
          "data": {
            "text/plain": [
              "tensor([[[0., 0., 0., 0.],\n",
              "         [0., 0., 0., 0.],\n",
              "         [0., 0., 0., 0.]]])"
            ]
          },
          "metadata": {},
          "execution_count": 17
        }
      ]
    },
    {
      "cell_type": "markdown",
      "source": [
        "### arange"
      ],
      "metadata": {
        "id": "1Cs1N5x0y1OT"
      }
    },
    {
      "cell_type": "code",
      "source": [
        "tn_arange = torch.arange(start=1,end=12,step=2)\n",
        "tn_arange"
      ],
      "metadata": {
        "colab": {
          "base_uri": "https://localhost:8080/"
        },
        "id": "8clwaKnlsJ_f",
        "outputId": "5fee57ad-4d5e-4805-ec29-2b872784943e"
      },
      "execution_count": 18,
      "outputs": [
        {
          "output_type": "execute_result",
          "data": {
            "text/plain": [
              "tensor([ 1,  3,  5,  7,  9, 11])"
            ]
          },
          "metadata": {},
          "execution_count": 18
        }
      ]
    },
    {
      "cell_type": "code",
      "source": [
        "ten_zeros = torch.zeros_like(input=tn_arange)\n",
        "ten_zeros"
      ],
      "metadata": {
        "colab": {
          "base_uri": "https://localhost:8080/"
        },
        "id": "xe6SG5DdsKCD",
        "outputId": "b65f303a-aaaa-4158-a5b0-5407e3ff2346"
      },
      "execution_count": 19,
      "outputs": [
        {
          "output_type": "execute_result",
          "data": {
            "text/plain": [
              "tensor([0, 0, 0, 0, 0, 0])"
            ]
          },
          "metadata": {},
          "execution_count": 19
        }
      ]
    },
    {
      "cell_type": "markdown",
      "source": [
        "### Data Types"
      ],
      "metadata": {
        "id": "3KWIfu6A0EKc"
      }
    },
    {
      "cell_type": "code",
      "source": [
        "#float 32\n",
        "\n",
        "f32_tnsr = torch.tensor([3.0,6.0,9.0],dtype=None)\n",
        "f32_tnsr.dtype"
      ],
      "metadata": {
        "colab": {
          "base_uri": "https://localhost:8080/"
        },
        "id": "HUWsaQlFsKGQ",
        "outputId": "50a9867d-3ce1-4bb6-b03d-c71b8bd9e09c"
      },
      "execution_count": 20,
      "outputs": [
        {
          "output_type": "execute_result",
          "data": {
            "text/plain": [
              "torch.float32"
            ]
          },
          "metadata": {},
          "execution_count": 20
        }
      ]
    },
    {
      "cell_type": "code",
      "source": [
        "f16_tnsr = torch.tensor([3.0,6.0,9.0],dtype=torch.float16)\n",
        "f16_tnsr.dtype"
      ],
      "metadata": {
        "colab": {
          "base_uri": "https://localhost:8080/"
        },
        "id": "yO9ATW-TsKIt",
        "outputId": "f0db8fef-9c25-463e-df87-20527be9b527"
      },
      "execution_count": 21,
      "outputs": [
        {
          "output_type": "execute_result",
          "data": {
            "text/plain": [
              "torch.float16"
            ]
          },
          "metadata": {},
          "execution_count": 21
        }
      ]
    },
    {
      "cell_type": "code",
      "source": [
        "f16_tnsr_2 = f32_tnsr.type(torch.float16)\n",
        "f16_tnsr_2.dtype"
      ],
      "metadata": {
        "colab": {
          "base_uri": "https://localhost:8080/"
        },
        "id": "_5h5y4BS2yWs",
        "outputId": "3fa1c11f-9aa5-4bd4-926e-7723bd6a1170"
      },
      "execution_count": 22,
      "outputs": [
        {
          "output_type": "execute_result",
          "data": {
            "text/plain": [
              "torch.float16"
            ]
          },
          "metadata": {},
          "execution_count": 22
        }
      ]
    },
    {
      "cell_type": "code",
      "source": [
        "tnsr_16_32 = f32_tnsr * f16_tnsr_2\n",
        "tnsr_16_32.dtype"
      ],
      "metadata": {
        "colab": {
          "base_uri": "https://localhost:8080/"
        },
        "id": "-XJVKMRV2ykg",
        "outputId": "d38fcaa0-1001-4b43-f55d-0b60de3d9170"
      },
      "execution_count": 23,
      "outputs": [
        {
          "output_type": "execute_result",
          "data": {
            "text/plain": [
              "torch.float32"
            ]
          },
          "metadata": {},
          "execution_count": 23
        }
      ]
    },
    {
      "cell_type": "code",
      "source": [
        "print(tnsr_16_32)\n",
        "print(tnsr_16_32.dtype)\n",
        "print(tnsr_16_32.ndim)\n",
        "print(tnsr_16_32.shape)\n",
        "print(tnsr_16_32.device)"
      ],
      "metadata": {
        "colab": {
          "base_uri": "https://localhost:8080/"
        },
        "id": "EUuDa2pE2yoJ",
        "outputId": "a7b35b12-35c2-4f21-b878-520493adac91"
      },
      "execution_count": 24,
      "outputs": [
        {
          "output_type": "stream",
          "name": "stdout",
          "text": [
            "tensor([ 9., 36., 81.])\n",
            "torch.float32\n",
            "1\n",
            "torch.Size([3])\n",
            "cpu\n"
          ]
        }
      ]
    },
    {
      "cell_type": "markdown",
      "source": [
        "### Tensor operations - Manipulating\n",
        "\n",
        "- Addition\n",
        "- Subtraction\n",
        "- Multiplication \n",
        " - Element wise\n",
        " - Matrix\n",
        "- Division"
      ],
      "metadata": {
        "id": "_4Gr-1OA2rW5"
      }
    },
    {
      "cell_type": "code",
      "source": [
        "random_tensor_1 = torch.rand(2,3,4)\n",
        "random_tensor_2 = torch.rand(2,3,4)"
      ],
      "metadata": {
        "id": "zlHuNA0m2yry"
      },
      "execution_count": 25,
      "outputs": []
    },
    {
      "cell_type": "code",
      "source": [
        "random_tensor_1"
      ],
      "metadata": {
        "colab": {
          "base_uri": "https://localhost:8080/"
        },
        "id": "dKNo36S93RjE",
        "outputId": "424361fe-821f-458e-897c-2f8a394383fd"
      },
      "execution_count": 26,
      "outputs": [
        {
          "output_type": "execute_result",
          "data": {
            "text/plain": [
              "tensor([[[0.8581, 0.6321, 0.3025, 0.3525],\n",
              "         [0.7769, 0.2982, 0.0968, 0.5115],\n",
              "         [0.8035, 0.6549, 0.1064, 0.1746]],\n",
              "\n",
              "        [[0.6960, 0.5502, 0.0995, 0.0443],\n",
              "         [0.5861, 0.0540, 0.8640, 0.1173],\n",
              "         [0.5561, 0.8640, 0.9137, 0.3319]]])"
            ]
          },
          "metadata": {},
          "execution_count": 26
        }
      ]
    },
    {
      "cell_type": "code",
      "source": [
        "random_tensor_1 + 10\n",
        "# or torch.add(random_tensor_1,10)"
      ],
      "metadata": {
        "colab": {
          "base_uri": "https://localhost:8080/"
        },
        "id": "iClguG563K_z",
        "outputId": "d3ac3372-d25d-45bf-9760-e1548ea77da1"
      },
      "execution_count": 27,
      "outputs": [
        {
          "output_type": "execute_result",
          "data": {
            "text/plain": [
              "tensor([[[10.8581, 10.6321, 10.3025, 10.3525],\n",
              "         [10.7769, 10.2982, 10.0968, 10.5115],\n",
              "         [10.8035, 10.6549, 10.1064, 10.1746]],\n",
              "\n",
              "        [[10.6960, 10.5502, 10.0995, 10.0443],\n",
              "         [10.5861, 10.0540, 10.8640, 10.1173],\n",
              "         [10.5561, 10.8640, 10.9137, 10.3319]]])"
            ]
          },
          "metadata": {},
          "execution_count": 27
        }
      ]
    },
    {
      "cell_type": "code",
      "source": [
        "torch.subtract(random_tensor_1,10)"
      ],
      "metadata": {
        "colab": {
          "base_uri": "https://localhost:8080/"
        },
        "id": "TGGy8lg036aB",
        "outputId": "db791632-556f-41a8-8b9a-8ff892cd4554"
      },
      "execution_count": 28,
      "outputs": [
        {
          "output_type": "execute_result",
          "data": {
            "text/plain": [
              "tensor([[[-9.1419, -9.3679, -9.6975, -9.6475],\n",
              "         [-9.2231, -9.7018, -9.9032, -9.4885],\n",
              "         [-9.1965, -9.3451, -9.8936, -9.8254]],\n",
              "\n",
              "        [[-9.3040, -9.4498, -9.9005, -9.9557],\n",
              "         [-9.4139, -9.9460, -9.1360, -9.8827],\n",
              "         [-9.4439, -9.1360, -9.0863, -9.6681]]])"
            ]
          },
          "metadata": {},
          "execution_count": 28
        }
      ]
    },
    {
      "cell_type": "code",
      "source": [
        "torch.mul(random_tensor_1,3)"
      ],
      "metadata": {
        "colab": {
          "base_uri": "https://localhost:8080/"
        },
        "id": "0De9HozZ3Oyh",
        "outputId": "54a8bd06-43d0-46f1-fec5-e527884ebebc"
      },
      "execution_count": 29,
      "outputs": [
        {
          "output_type": "execute_result",
          "data": {
            "text/plain": [
              "tensor([[[2.5743, 1.8963, 0.9076, 1.0575],\n",
              "         [2.3308, 0.8946, 0.2903, 1.5345],\n",
              "         [2.4105, 1.9646, 0.3192, 0.5238]],\n",
              "\n",
              "        [[2.0881, 1.6507, 0.2985, 0.1328],\n",
              "         [1.7583, 0.1619, 2.5919, 0.3518],\n",
              "         [1.6682, 2.5920, 2.7412, 0.9957]]])"
            ]
          },
          "metadata": {},
          "execution_count": 29
        }
      ]
    },
    {
      "cell_type": "code",
      "source": [
        "random_tensor_1/5"
      ],
      "metadata": {
        "colab": {
          "base_uri": "https://localhost:8080/"
        },
        "id": "7ks1nWw53Ggk",
        "outputId": "c787082f-3825-4a90-cd8a-409f488a1cd2"
      },
      "execution_count": 30,
      "outputs": [
        {
          "output_type": "execute_result",
          "data": {
            "text/plain": [
              "tensor([[[0.1716, 0.1264, 0.0605, 0.0705],\n",
              "         [0.1554, 0.0596, 0.0194, 0.1023],\n",
              "         [0.1607, 0.1310, 0.0213, 0.0349]],\n",
              "\n",
              "        [[0.1392, 0.1100, 0.0199, 0.0089],\n",
              "         [0.1172, 0.0108, 0.1728, 0.0235],\n",
              "         [0.1112, 0.1728, 0.1827, 0.0664]]])"
            ]
          },
          "metadata": {},
          "execution_count": 30
        }
      ]
    },
    {
      "cell_type": "code",
      "source": [
        "random_tensor_1 = torch.rand(2,3,4)\n",
        "random_tensor_2 = torch.rand(2,3,4)"
      ],
      "metadata": {
        "id": "L92MlcPE4wdF"
      },
      "execution_count": 31,
      "outputs": []
    },
    {
      "cell_type": "code",
      "source": [
        "%%time\n",
        "tnsr_matrix_element=torch.mul(random_tensor_1,random_tensor_2)\n",
        "print(tnsr_matrix_element)\n",
        "print(tnsr_matrix_element.ndim)\n",
        "print(f\"shape of random_tensor_1\",random_tensor_1.shape)\n",
        "print(f\"shape of random_tensor_2\",random_tensor_2.shape)\n",
        "print(f\"shape of tnsr_matrix_mult\",tnsr_matrix_element.shape)\n"
      ],
      "metadata": {
        "colab": {
          "base_uri": "https://localhost:8080/"
        },
        "id": "ldtV-2Vi4QCH",
        "outputId": "45e52ae9-d877-44c1-ea90-2eeb1302ed3b"
      },
      "execution_count": 32,
      "outputs": [
        {
          "output_type": "stream",
          "name": "stdout",
          "text": [
            "tensor([[[0.3332, 0.0278, 0.0296, 0.0023],\n",
            "         [0.6192, 0.7280, 0.8070, 0.0873],\n",
            "         [0.1714, 0.7726, 0.0032, 0.2169]],\n",
            "\n",
            "        [[0.1283, 0.0116, 0.5341, 0.1226],\n",
            "         [0.0240, 0.1108, 0.2603, 0.2371],\n",
            "         [0.0423, 0.6416, 0.0165, 0.5007]]])\n",
            "3\n",
            "shape of random_tensor_1 torch.Size([2, 3, 4])\n",
            "shape of random_tensor_2 torch.Size([2, 3, 4])\n",
            "shape of tnsr_matrix_mult torch.Size([2, 3, 4])\n",
            "CPU times: user 3.73 ms, sys: 0 ns, total: 3.73 ms\n",
            "Wall time: 6.61 ms\n"
          ]
        }
      ]
    },
    {
      "cell_type": "code",
      "source": [
        "random_tensor_1 = torch.rand(2,3,4)\n",
        "random_tensor_2 = torch.rand(2,4,4)"
      ],
      "metadata": {
        "id": "uus9OXBL50b1"
      },
      "execution_count": 33,
      "outputs": []
    },
    {
      "cell_type": "code",
      "source": [
        "%%time\n",
        "tnsr_matrix_mult = torch.matmul(random_tensor_1, random_tensor_2)\n",
        "print(tnsr_matrix_mult)\n",
        "print(tnsr_matrix_mult.ndim)\n",
        "print(f\"shape of random_tensor_1\",random_tensor_1.shape)\n",
        "print(f\"shape of random_tensor_2\",random_tensor_2.shape)\n",
        "print(f\"shape of tnsr_matrix_mult\",tnsr_matrix_mult.shape)\n"
      ],
      "metadata": {
        "colab": {
          "base_uri": "https://localhost:8080/"
        },
        "id": "20CdK63i5Q1f",
        "outputId": "2d05fc8a-0bf9-4444-d837-ad0d81baeb3a"
      },
      "execution_count": 34,
      "outputs": [
        {
          "output_type": "stream",
          "name": "stdout",
          "text": [
            "tensor([[[0.9677, 0.9599, 0.4968, 1.3072],\n",
            "         [1.3288, 1.6020, 0.6242, 1.6688],\n",
            "         [0.9339, 1.3696, 0.4914, 1.1742]],\n",
            "\n",
            "        [[0.9927, 0.9583, 0.6237, 0.5777],\n",
            "         [1.1945, 0.9995, 0.7604, 0.7605],\n",
            "         [0.5937, 0.3389, 0.2890, 0.4131]]])\n",
            "3\n",
            "shape of random_tensor_1 torch.Size([2, 3, 4])\n",
            "shape of random_tensor_2 torch.Size([2, 4, 4])\n",
            "shape of tnsr_matrix_mult torch.Size([2, 3, 4])\n",
            "CPU times: user 3.33 ms, sys: 49 µs, total: 3.38 ms\n",
            "Wall time: 6.62 ms\n"
          ]
        }
      ]
    },
    {
      "cell_type": "markdown",
      "source": [
        "# Tensor aggregation\n",
        "# min, max, mean, sum"
      ],
      "metadata": {
        "id": "8vcVjfwusqAN"
      }
    },
    {
      "cell_type": "code",
      "source": [
        "x = torch.arange(0,100,10)\n",
        "x"
      ],
      "metadata": {
        "colab": {
          "base_uri": "https://localhost:8080/"
        },
        "id": "yXFQ5sACsnuK",
        "outputId": "934a98f2-95ae-45d3-e06a-d0b9db18fa67"
      },
      "execution_count": 35,
      "outputs": [
        {
          "output_type": "execute_result",
          "data": {
            "text/plain": [
              "tensor([ 0, 10, 20, 30, 40, 50, 60, 70, 80, 90])"
            ]
          },
          "metadata": {},
          "execution_count": 35
        }
      ]
    },
    {
      "cell_type": "code",
      "source": [
        "torch.min(x), torch.max(x)"
      ],
      "metadata": {
        "colab": {
          "base_uri": "https://localhost:8080/"
        },
        "id": "Q4ob_ZG6s658",
        "outputId": "ff44e903-bb1c-4cb7-d719-8600a6e3fb81"
      },
      "execution_count": 36,
      "outputs": [
        {
          "output_type": "execute_result",
          "data": {
            "text/plain": [
              "(tensor(0), tensor(90))"
            ]
          },
          "metadata": {},
          "execution_count": 36
        }
      ]
    },
    {
      "cell_type": "code",
      "source": [
        "x.dtype"
      ],
      "metadata": {
        "colab": {
          "base_uri": "https://localhost:8080/"
        },
        "id": "tHN_HnlltN5T",
        "outputId": "9899cfdd-ae51-4254-e1e4-1843eb67bf95"
      },
      "execution_count": 38,
      "outputs": [
        {
          "output_type": "execute_result",
          "data": {
            "text/plain": [
              "torch.int64"
            ]
          },
          "metadata": {},
          "execution_count": 38
        }
      ]
    },
    {
      "cell_type": "code",
      "source": [
        "torch.mean(x)"
      ],
      "metadata": {
        "colab": {
          "base_uri": "https://localhost:8080/",
          "height": 181
        },
        "id": "4-ftoX6atJoI",
        "outputId": "f6864fa6-3b1b-4f81-d99d-29082b2dc2b5"
      },
      "execution_count": 37,
      "outputs": [
        {
          "output_type": "error",
          "ename": "RuntimeError",
          "evalue": "ignored",
          "traceback": [
            "\u001b[0;31m---------------------------------------------------------------------------\u001b[0m",
            "\u001b[0;31mRuntimeError\u001b[0m                              Traceback (most recent call last)",
            "\u001b[0;32m<ipython-input-37-455868396db1>\u001b[0m in \u001b[0;36m<cell line: 1>\u001b[0;34m()\u001b[0m\n\u001b[0;32m----> 1\u001b[0;31m \u001b[0mtorch\u001b[0m\u001b[0;34m.\u001b[0m\u001b[0mmean\u001b[0m\u001b[0;34m(\u001b[0m\u001b[0mx\u001b[0m\u001b[0;34m)\u001b[0m\u001b[0;34m\u001b[0m\u001b[0;34m\u001b[0m\u001b[0m\n\u001b[0m",
            "\u001b[0;31mRuntimeError\u001b[0m: mean(): could not infer output dtype. Input dtype must be either a floating point or complex dtype. Got: Long"
          ]
        }
      ]
    },
    {
      "cell_type": "code",
      "source": [
        "torch.mean(x.type(torch.float32))"
      ],
      "metadata": {
        "colab": {
          "base_uri": "https://localhost:8080/"
        },
        "id": "Ignjtm41tThe",
        "outputId": "e65652b8-5296-498e-e418-552c8ed9b5d1"
      },
      "execution_count": 39,
      "outputs": [
        {
          "output_type": "execute_result",
          "data": {
            "text/plain": [
              "tensor(45.)"
            ]
          },
          "metadata": {},
          "execution_count": 39
        }
      ]
    },
    {
      "cell_type": "code",
      "source": [
        "x.sum(),torch.sum(x)"
      ],
      "metadata": {
        "colab": {
          "base_uri": "https://localhost:8080/"
        },
        "id": "ZXNbnIrntuNO",
        "outputId": "fd2ab197-f0e6-4882-dcfa-1be84c8a01e1"
      },
      "execution_count": 41,
      "outputs": [
        {
          "output_type": "execute_result",
          "data": {
            "text/plain": [
              "(tensor(450), tensor(450))"
            ]
          },
          "metadata": {},
          "execution_count": 41
        }
      ]
    }
  ]
}