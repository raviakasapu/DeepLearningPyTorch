{
  "nbformat": 4,
  "nbformat_minor": 0,
  "metadata": {
    "colab": {
      "provenance": [],
      "gpuType": "T4",
      "authorship_tag": "ABX9TyNz5QbVjE/6L3Wu+xABcYyD",
      "include_colab_link": true
    },
    "kernelspec": {
      "name": "python3",
      "display_name": "Python 3"
    },
    "language_info": {
      "name": "python"
    },
    "accelerator": "GPU"
  },
  "cells": [
    {
      "cell_type": "markdown",
      "metadata": {
        "id": "view-in-github",
        "colab_type": "text"
      },
      "source": [
        "<a href=\"https://colab.research.google.com/github/raviakasapu/DeepLearningPyTorch/blob/main/00_PyTorch_fundamentals.ipynb\" target=\"_parent\"><img src=\"https://colab.research.google.com/assets/colab-badge.svg\" alt=\"Open In Colab\"/></a>"
      ]
    },
    {
      "cell_type": "markdown",
      "source": [
        "# PyTorch Fundamentals"
      ],
      "metadata": {
        "id": "5qbSaywzZp5Z"
      }
    },
    {
      "cell_type": "markdown",
      "source": [
        "https://www.learnpytorch.io/00_pytorch_fundamentals/"
      ],
      "metadata": {
        "id": "oPN_O0b4ZkZe"
      }
    },
    {
      "cell_type": "markdown",
      "source": [
        "### import libraries"
      ],
      "metadata": {
        "id": "c4W-i7S2aw_T"
      }
    },
    {
      "cell_type": "code",
      "source": [
        "import torch\n",
        "print(torch.__version__)"
      ],
      "metadata": {
        "colab": {
          "base_uri": "https://localhost:8080/"
        },
        "id": "zBmWQbROZvox",
        "outputId": "d493a05d-0328-4e4c-83a0-4526daac78cf"
      },
      "execution_count": 1,
      "outputs": [
        {
          "output_type": "stream",
          "name": "stdout",
          "text": [
            "2.0.1+cu118\n"
          ]
        }
      ]
    },
    {
      "cell_type": "code",
      "source": [
        "import pandas as pd\n",
        "import numpy as np\n",
        "import matplotlib.pyplot as plt\n"
      ],
      "metadata": {
        "id": "7omEl812aF2e"
      },
      "execution_count": 2,
      "outputs": []
    },
    {
      "cell_type": "markdown",
      "source": [
        "### Tensors"
      ],
      "metadata": {
        "id": "3bxdcJsFa80E"
      }
    },
    {
      "cell_type": "code",
      "source": [
        "# scalar\n",
        "scalar = torch.tensor(7)\n",
        "scalar"
      ],
      "metadata": {
        "colab": {
          "base_uri": "https://localhost:8080/"
        },
        "id": "WLAnryUxaTgM",
        "outputId": "b05f9df8-0721-465a-daaf-84a0bff8fe05"
      },
      "execution_count": 3,
      "outputs": [
        {
          "output_type": "execute_result",
          "data": {
            "text/plain": [
              "tensor(7)"
            ]
          },
          "metadata": {},
          "execution_count": 3
        }
      ]
    },
    {
      "cell_type": "code",
      "source": [
        "scalar.ndim"
      ],
      "metadata": {
        "colab": {
          "base_uri": "https://localhost:8080/"
        },
        "id": "7PBu-_a6bhKW",
        "outputId": "51723496-a5bc-4da4-ae0e-20c27e901369"
      },
      "execution_count": 4,
      "outputs": [
        {
          "output_type": "execute_result",
          "data": {
            "text/plain": [
              "0"
            ]
          },
          "metadata": {},
          "execution_count": 4
        }
      ]
    },
    {
      "cell_type": "code",
      "source": [
        "scalar.item()"
      ],
      "metadata": {
        "colab": {
          "base_uri": "https://localhost:8080/"
        },
        "id": "GofHT1cmb5eT",
        "outputId": "b1713827-6c17-4bb3-8e31-bd25cec9e836"
      },
      "execution_count": 5,
      "outputs": [
        {
          "output_type": "execute_result",
          "data": {
            "text/plain": [
              "7"
            ]
          },
          "metadata": {},
          "execution_count": 5
        }
      ]
    },
    {
      "cell_type": "code",
      "source": [
        "# vector\n",
        "vector = torch.tensor([1,7])\n",
        "vector"
      ],
      "metadata": {
        "colab": {
          "base_uri": "https://localhost:8080/"
        },
        "id": "2UW5pCkob9f6",
        "outputId": "a6f0766f-e24e-4bfd-939e-262f8bf993b9"
      },
      "execution_count": 6,
      "outputs": [
        {
          "output_type": "execute_result",
          "data": {
            "text/plain": [
              "tensor([1, 7])"
            ]
          },
          "metadata": {},
          "execution_count": 6
        }
      ]
    },
    {
      "cell_type": "code",
      "source": [
        "vector.ndim"
      ],
      "metadata": {
        "colab": {
          "base_uri": "https://localhost:8080/"
        },
        "id": "geCEGnu4b9hn",
        "outputId": "d3885d53-ca25-4bb0-e3ca-036987e3c12a"
      },
      "execution_count": 7,
      "outputs": [
        {
          "output_type": "execute_result",
          "data": {
            "text/plain": [
              "1"
            ]
          },
          "metadata": {},
          "execution_count": 7
        }
      ]
    },
    {
      "cell_type": "code",
      "source": [
        "vector.shape"
      ],
      "metadata": {
        "colab": {
          "base_uri": "https://localhost:8080/"
        },
        "id": "JtgnzKj0b9tP",
        "outputId": "e8ebcac1-4887-43b2-ae2b-acbd19d32fc0"
      },
      "execution_count": 8,
      "outputs": [
        {
          "output_type": "execute_result",
          "data": {
            "text/plain": [
              "torch.Size([2])"
            ]
          },
          "metadata": {},
          "execution_count": 8
        }
      ]
    },
    {
      "cell_type": "code",
      "source": [
        "# matrix\n",
        "matrix = torch.tensor([[1,2],\n",
        "                      [3,2]])\n",
        "matrix"
      ],
      "metadata": {
        "colab": {
          "base_uri": "https://localhost:8080/"
        },
        "id": "dwi1Z7wEcgkI",
        "outputId": "e02d8f2c-ef9b-4236-d613-481e9fccbc0b"
      },
      "execution_count": 9,
      "outputs": [
        {
          "output_type": "execute_result",
          "data": {
            "text/plain": [
              "tensor([[1, 2],\n",
              "        [3, 2]])"
            ]
          },
          "metadata": {},
          "execution_count": 9
        }
      ]
    },
    {
      "cell_type": "code",
      "source": [
        "matrix.ndim"
      ],
      "metadata": {
        "colab": {
          "base_uri": "https://localhost:8080/"
        },
        "id": "P2CTwDQwcs6V",
        "outputId": "5322dd3a-af9e-4519-8d7b-021476446560"
      },
      "execution_count": 10,
      "outputs": [
        {
          "output_type": "execute_result",
          "data": {
            "text/plain": [
              "2"
            ]
          },
          "metadata": {},
          "execution_count": 10
        }
      ]
    },
    {
      "cell_type": "code",
      "source": [
        "matrix.shape"
      ],
      "metadata": {
        "colab": {
          "base_uri": "https://localhost:8080/"
        },
        "id": "MBTKApYNcs9T",
        "outputId": "2d5b8c2b-5a42-4f6c-b988-e401d2d538f3"
      },
      "execution_count": 11,
      "outputs": [
        {
          "output_type": "execute_result",
          "data": {
            "text/plain": [
              "torch.Size([2, 2])"
            ]
          },
          "metadata": {},
          "execution_count": 11
        }
      ]
    },
    {
      "cell_type": "code",
      "source": [
        "# Tensor \n",
        "\n",
        "tensor = torch.tensor([[[1,2,3],[2,3,4],[3,4,5]]])"
      ],
      "metadata": {
        "id": "XDhdAdQZdnya"
      },
      "execution_count": 12,
      "outputs": []
    },
    {
      "cell_type": "code",
      "source": [
        "tensor.ndim"
      ],
      "metadata": {
        "colab": {
          "base_uri": "https://localhost:8080/"
        },
        "id": "RSFb3Hebop3l",
        "outputId": "0a146c0e-a326-4202-f8e4-e9e5d9c5d1a9"
      },
      "execution_count": 13,
      "outputs": [
        {
          "output_type": "execute_result",
          "data": {
            "text/plain": [
              "3"
            ]
          },
          "metadata": {},
          "execution_count": 13
        }
      ]
    },
    {
      "cell_type": "code",
      "source": [
        "tensor.shape"
      ],
      "metadata": {
        "colab": {
          "base_uri": "https://localhost:8080/"
        },
        "id": "zOQzGR5Fosz9",
        "outputId": "74213d3a-59b4-4e8a-f9fc-f0df34b74305"
      },
      "execution_count": 14,
      "outputs": [
        {
          "output_type": "execute_result",
          "data": {
            "text/plain": [
              "torch.Size([1, 3, 3])"
            ]
          },
          "metadata": {},
          "execution_count": 14
        }
      ]
    },
    {
      "cell_type": "markdown",
      "source": [
        "### Random Tensors"
      ],
      "metadata": {
        "id": "BXP-qHMVsLKU"
      }
    },
    {
      "cell_type": "code",
      "source": [
        "#create a random tensor\n",
        "#of shape (3,4)\n",
        "\n",
        "random_tensor = torch.rand(2,3,4)\n",
        "random_tensor"
      ],
      "metadata": {
        "colab": {
          "base_uri": "https://localhost:8080/"
        },
        "id": "sxzMP-uWsJ2u",
        "outputId": "ccc89317-1b81-4492-ccbc-c4c30cd61f32"
      },
      "execution_count": 15,
      "outputs": [
        {
          "output_type": "execute_result",
          "data": {
            "text/plain": [
              "tensor([[[0.2273, 0.0088, 0.8227, 0.6476],\n",
              "         [0.3009, 0.2500, 0.2704, 0.2963],\n",
              "         [0.1952, 0.2215, 0.7357, 0.9915]],\n",
              "\n",
              "        [[0.8361, 0.0406, 0.8359, 0.3473],\n",
              "         [0.9245, 0.8672, 0.8324, 0.8146],\n",
              "         [0.3175, 0.6225, 0.0502, 0.9908]]])"
            ]
          },
          "metadata": {},
          "execution_count": 15
        }
      ]
    },
    {
      "cell_type": "code",
      "source": [
        "# tensor with shape same as image tensor\n",
        "random_image_tensor = torch.rand(size=(3,224,224)) # color channels, height, width\n",
        "random_image_tensor.ndim"
      ],
      "metadata": {
        "colab": {
          "base_uri": "https://localhost:8080/"
        },
        "id": "0s4uXnNXsJ6e",
        "outputId": "7824c743-d1f4-4ffb-ca81-69dd8c4e9f6e"
      },
      "execution_count": 16,
      "outputs": [
        {
          "output_type": "execute_result",
          "data": {
            "text/plain": [
              "3"
            ]
          },
          "metadata": {},
          "execution_count": 16
        }
      ]
    },
    {
      "cell_type": "code",
      "source": [
        "# tensor with 0's and 1's\n",
        "zero = torch.zeros(size=(1,3,4))\n",
        "zero"
      ],
      "metadata": {
        "colab": {
          "base_uri": "https://localhost:8080/"
        },
        "id": "5BoSy4cisJ83",
        "outputId": "63832561-37db-47e9-f986-00e7b1563005"
      },
      "execution_count": 17,
      "outputs": [
        {
          "output_type": "execute_result",
          "data": {
            "text/plain": [
              "tensor([[[0., 0., 0., 0.],\n",
              "         [0., 0., 0., 0.],\n",
              "         [0., 0., 0., 0.]]])"
            ]
          },
          "metadata": {},
          "execution_count": 17
        }
      ]
    },
    {
      "cell_type": "markdown",
      "source": [
        "### arange"
      ],
      "metadata": {
        "id": "1Cs1N5x0y1OT"
      }
    },
    {
      "cell_type": "code",
      "source": [
        "tn_arange = torch.arange(start=1,end=12,step=2)\n",
        "tn_arange"
      ],
      "metadata": {
        "colab": {
          "base_uri": "https://localhost:8080/"
        },
        "id": "8clwaKnlsJ_f",
        "outputId": "78092cda-037c-40ca-c900-5f29cd1ea190"
      },
      "execution_count": 18,
      "outputs": [
        {
          "output_type": "execute_result",
          "data": {
            "text/plain": [
              "tensor([ 1,  3,  5,  7,  9, 11])"
            ]
          },
          "metadata": {},
          "execution_count": 18
        }
      ]
    },
    {
      "cell_type": "code",
      "source": [
        "ten_zeros = torch.zeros_like(input=tn_arange)\n",
        "ten_zeros"
      ],
      "metadata": {
        "colab": {
          "base_uri": "https://localhost:8080/"
        },
        "id": "xe6SG5DdsKCD",
        "outputId": "4dca543d-6485-4584-cdb1-74a3974a1861"
      },
      "execution_count": 19,
      "outputs": [
        {
          "output_type": "execute_result",
          "data": {
            "text/plain": [
              "tensor([0, 0, 0, 0, 0, 0])"
            ]
          },
          "metadata": {},
          "execution_count": 19
        }
      ]
    },
    {
      "cell_type": "markdown",
      "source": [
        "### Data Types"
      ],
      "metadata": {
        "id": "3KWIfu6A0EKc"
      }
    },
    {
      "cell_type": "code",
      "source": [
        "#float 32\n",
        "\n",
        "f32_tnsr = torch.tensor([3.0,6.0,9.0],dtype=None)\n",
        "f32_tnsr.dtype"
      ],
      "metadata": {
        "colab": {
          "base_uri": "https://localhost:8080/"
        },
        "id": "HUWsaQlFsKGQ",
        "outputId": "8cd58325-9eac-4c63-b010-4049ad739339"
      },
      "execution_count": 20,
      "outputs": [
        {
          "output_type": "execute_result",
          "data": {
            "text/plain": [
              "torch.float32"
            ]
          },
          "metadata": {},
          "execution_count": 20
        }
      ]
    },
    {
      "cell_type": "code",
      "source": [
        "f16_tnsr = torch.tensor([3.0,6.0,9.0],dtype=torch.float16)\n",
        "f16_tnsr.dtype"
      ],
      "metadata": {
        "colab": {
          "base_uri": "https://localhost:8080/"
        },
        "id": "yO9ATW-TsKIt",
        "outputId": "128ac601-2525-44fb-93a6-c46df93b4bfe"
      },
      "execution_count": 21,
      "outputs": [
        {
          "output_type": "execute_result",
          "data": {
            "text/plain": [
              "torch.float16"
            ]
          },
          "metadata": {},
          "execution_count": 21
        }
      ]
    },
    {
      "cell_type": "code",
      "source": [
        "f16_tnsr_2 = f32_tnsr.type(torch.float16)\n",
        "f16_tnsr_2.dtype"
      ],
      "metadata": {
        "colab": {
          "base_uri": "https://localhost:8080/"
        },
        "id": "_5h5y4BS2yWs",
        "outputId": "938e7d2c-6802-45c6-aa40-1e5473d0141d"
      },
      "execution_count": 22,
      "outputs": [
        {
          "output_type": "execute_result",
          "data": {
            "text/plain": [
              "torch.float16"
            ]
          },
          "metadata": {},
          "execution_count": 22
        }
      ]
    },
    {
      "cell_type": "code",
      "source": [
        "tnsr_16_32 = f32_tnsr * f16_tnsr_2\n",
        "tnsr_16_32.dtype"
      ],
      "metadata": {
        "colab": {
          "base_uri": "https://localhost:8080/"
        },
        "id": "-XJVKMRV2ykg",
        "outputId": "b068c44a-dfab-4359-a8ca-f1f23c410f94"
      },
      "execution_count": 23,
      "outputs": [
        {
          "output_type": "execute_result",
          "data": {
            "text/plain": [
              "torch.float32"
            ]
          },
          "metadata": {},
          "execution_count": 23
        }
      ]
    },
    {
      "cell_type": "code",
      "source": [
        "print(tnsr_16_32)\n",
        "print(tnsr_16_32.dtype)\n",
        "print(tnsr_16_32.ndim)\n",
        "print(tnsr_16_32.shape)\n",
        "print(tnsr_16_32.device)"
      ],
      "metadata": {
        "colab": {
          "base_uri": "https://localhost:8080/"
        },
        "id": "EUuDa2pE2yoJ",
        "outputId": "42ee1651-ce8c-4119-df0d-177abb9c5c63"
      },
      "execution_count": 24,
      "outputs": [
        {
          "output_type": "stream",
          "name": "stdout",
          "text": [
            "tensor([ 9., 36., 81.])\n",
            "torch.float32\n",
            "1\n",
            "torch.Size([3])\n",
            "cpu\n"
          ]
        }
      ]
    },
    {
      "cell_type": "markdown",
      "source": [
        "### Tensor operations - Manipulating\n",
        "\n",
        "- Addition\n",
        "- Subtraction\n",
        "- Multiplication \n",
        " - Element wise\n",
        " - Matrix\n",
        "- Division"
      ],
      "metadata": {
        "id": "_4Gr-1OA2rW5"
      }
    },
    {
      "cell_type": "code",
      "source": [
        "random_tensor_1 = torch.rand(2,3,4)\n",
        "random_tensor_2 = torch.rand(2,3,4)"
      ],
      "metadata": {
        "id": "zlHuNA0m2yry"
      },
      "execution_count": 25,
      "outputs": []
    },
    {
      "cell_type": "code",
      "source": [
        "random_tensor_1"
      ],
      "metadata": {
        "colab": {
          "base_uri": "https://localhost:8080/"
        },
        "id": "dKNo36S93RjE",
        "outputId": "dd16cc6c-9df0-4971-cf54-7bd5e2946365"
      },
      "execution_count": 26,
      "outputs": [
        {
          "output_type": "execute_result",
          "data": {
            "text/plain": [
              "tensor([[[0.5034, 0.7819, 0.8692, 0.7775],\n",
              "         [0.4289, 0.0403, 0.4799, 0.4308],\n",
              "         [0.5506, 0.9214, 0.7420, 0.2233]],\n",
              "\n",
              "        [[0.5967, 0.9467, 0.7245, 0.2933],\n",
              "         [0.1046, 0.9137, 0.4703, 0.9375],\n",
              "         [0.2302, 0.1999, 0.0426, 0.9387]]])"
            ]
          },
          "metadata": {},
          "execution_count": 26
        }
      ]
    },
    {
      "cell_type": "code",
      "source": [
        "random_tensor_1 + 10\n",
        "# or torch.add(random_tensor_1,10)"
      ],
      "metadata": {
        "colab": {
          "base_uri": "https://localhost:8080/"
        },
        "id": "iClguG563K_z",
        "outputId": "d3730a6b-4fd0-40d6-906b-c325b500c70d"
      },
      "execution_count": 27,
      "outputs": [
        {
          "output_type": "execute_result",
          "data": {
            "text/plain": [
              "tensor([[[10.5034, 10.7819, 10.8692, 10.7775],\n",
              "         [10.4289, 10.0403, 10.4799, 10.4308],\n",
              "         [10.5506, 10.9214, 10.7420, 10.2233]],\n",
              "\n",
              "        [[10.5967, 10.9467, 10.7245, 10.2933],\n",
              "         [10.1046, 10.9137, 10.4703, 10.9375],\n",
              "         [10.2302, 10.1999, 10.0426, 10.9387]]])"
            ]
          },
          "metadata": {},
          "execution_count": 27
        }
      ]
    },
    {
      "cell_type": "code",
      "source": [
        "torch.subtract(random_tensor_1,10)"
      ],
      "metadata": {
        "colab": {
          "base_uri": "https://localhost:8080/"
        },
        "id": "TGGy8lg036aB",
        "outputId": "7da88a72-7ea3-4a6d-9cd4-466c39facb01"
      },
      "execution_count": 28,
      "outputs": [
        {
          "output_type": "execute_result",
          "data": {
            "text/plain": [
              "tensor([[[-9.4966, -9.2181, -9.1308, -9.2225],\n",
              "         [-9.5711, -9.9597, -9.5201, -9.5692],\n",
              "         [-9.4494, -9.0786, -9.2580, -9.7767]],\n",
              "\n",
              "        [[-9.4033, -9.0533, -9.2755, -9.7067],\n",
              "         [-9.8954, -9.0863, -9.5297, -9.0625],\n",
              "         [-9.7698, -9.8001, -9.9574, -9.0613]]])"
            ]
          },
          "metadata": {},
          "execution_count": 28
        }
      ]
    },
    {
      "cell_type": "code",
      "source": [
        "torch.mul(random_tensor_1,3)"
      ],
      "metadata": {
        "colab": {
          "base_uri": "https://localhost:8080/"
        },
        "id": "0De9HozZ3Oyh",
        "outputId": "cd3fd859-edbb-43e0-9f91-c5c2ae25a367"
      },
      "execution_count": 29,
      "outputs": [
        {
          "output_type": "execute_result",
          "data": {
            "text/plain": [
              "tensor([[[1.5102, 2.3456, 2.6076, 2.3326],\n",
              "         [1.2868, 0.1210, 1.4396, 1.2924],\n",
              "         [1.6518, 2.7641, 2.2259, 0.6699]],\n",
              "\n",
              "        [[1.7902, 2.8402, 2.1735, 0.8798],\n",
              "         [0.3137, 2.7410, 1.4110, 2.8124],\n",
              "         [0.6906, 0.5997, 0.1279, 2.8162]]])"
            ]
          },
          "metadata": {},
          "execution_count": 29
        }
      ]
    },
    {
      "cell_type": "code",
      "source": [
        "random_tensor_1/5"
      ],
      "metadata": {
        "colab": {
          "base_uri": "https://localhost:8080/"
        },
        "id": "7ks1nWw53Ggk",
        "outputId": "f8f53b0a-4886-421d-b4fc-8b637acf46a5"
      },
      "execution_count": 30,
      "outputs": [
        {
          "output_type": "execute_result",
          "data": {
            "text/plain": [
              "tensor([[[0.1007, 0.1564, 0.1738, 0.1555],\n",
              "         [0.0858, 0.0081, 0.0960, 0.0862],\n",
              "         [0.1101, 0.1843, 0.1484, 0.0447]],\n",
              "\n",
              "        [[0.1193, 0.1893, 0.1449, 0.0587],\n",
              "         [0.0209, 0.1827, 0.0941, 0.1875],\n",
              "         [0.0460, 0.0400, 0.0085, 0.1877]]])"
            ]
          },
          "metadata": {},
          "execution_count": 30
        }
      ]
    },
    {
      "cell_type": "code",
      "source": [
        "random_tensor_1 = torch.rand(2,3,4)\n",
        "random_tensor_2 = torch.rand(2,3,4)"
      ],
      "metadata": {
        "id": "L92MlcPE4wdF"
      },
      "execution_count": 31,
      "outputs": []
    },
    {
      "cell_type": "code",
      "source": [
        "%%time\n",
        "tnsr_matrix_element=torch.mul(random_tensor_1,random_tensor_2)\n",
        "print(tnsr_matrix_element)\n",
        "print(tnsr_matrix_element.ndim)\n",
        "print(f\"shape of random_tensor_1\",random_tensor_1.shape)\n",
        "print(f\"shape of random_tensor_2\",random_tensor_2.shape)\n",
        "print(f\"shape of tnsr_matrix_mult\",tnsr_matrix_element.shape)\n"
      ],
      "metadata": {
        "colab": {
          "base_uri": "https://localhost:8080/"
        },
        "id": "ldtV-2Vi4QCH",
        "outputId": "dec159aa-4042-4050-bd92-829c87dad88a"
      },
      "execution_count": 32,
      "outputs": [
        {
          "output_type": "stream",
          "name": "stdout",
          "text": [
            "tensor([[[0.3092, 0.5423, 0.0498, 0.0478],\n",
            "         [0.0310, 0.9290, 0.2365, 0.1808],\n",
            "         [0.3870, 0.4379, 0.4958, 0.5688]],\n",
            "\n",
            "        [[0.5176, 0.1800, 0.0078, 0.4505],\n",
            "         [0.1341, 0.0089, 0.1050, 0.0515],\n",
            "         [0.4540, 0.0309, 0.2210, 0.7441]]])\n",
            "3\n",
            "shape of random_tensor_1 torch.Size([2, 3, 4])\n",
            "shape of random_tensor_2 torch.Size([2, 3, 4])\n",
            "shape of tnsr_matrix_mult torch.Size([2, 3, 4])\n",
            "CPU times: user 2.45 ms, sys: 77 µs, total: 2.53 ms\n",
            "Wall time: 4 ms\n"
          ]
        }
      ]
    },
    {
      "cell_type": "code",
      "source": [
        "random_tensor_1 = torch.rand(2,3,4)\n",
        "random_tensor_2 = torch.rand(2,4,4)"
      ],
      "metadata": {
        "id": "uus9OXBL50b1"
      },
      "execution_count": 33,
      "outputs": []
    },
    {
      "cell_type": "code",
      "source": [
        "%%time\n",
        "tnsr_matrix_mult = torch.matmul(random_tensor_1, random_tensor_2)\n",
        "print(tnsr_matrix_mult)\n",
        "print(tnsr_matrix_mult.ndim)\n",
        "print(f\"shape of random_tensor_1\",random_tensor_1.shape)\n",
        "print(f\"shape of random_tensor_2\",random_tensor_2.shape)\n",
        "print(f\"shape of tnsr_matrix_mult\",tnsr_matrix_mult.shape)\n"
      ],
      "metadata": {
        "colab": {
          "base_uri": "https://localhost:8080/"
        },
        "id": "20CdK63i5Q1f",
        "outputId": "32938536-09d5-498f-c19b-0b967efce5af"
      },
      "execution_count": 34,
      "outputs": [
        {
          "output_type": "stream",
          "name": "stdout",
          "text": [
            "tensor([[[1.1672, 1.3757, 1.6217, 1.7995],\n",
            "         [1.5089, 1.3603, 1.9364, 2.0081],\n",
            "         [0.5187, 0.8908, 0.6889, 1.0093]],\n",
            "\n",
            "        [[1.3732, 1.3851, 1.1785, 1.4536],\n",
            "         [1.1672, 1.0949, 1.0086, 1.0465],\n",
            "         [0.7961, 1.0358, 1.0644, 1.2232]]])\n",
            "3\n",
            "shape of random_tensor_1 torch.Size([2, 3, 4])\n",
            "shape of random_tensor_2 torch.Size([2, 4, 4])\n",
            "shape of tnsr_matrix_mult torch.Size([2, 3, 4])\n",
            "CPU times: user 2.79 ms, sys: 0 ns, total: 2.79 ms\n",
            "Wall time: 6.21 ms\n"
          ]
        }
      ]
    },
    {
      "cell_type": "markdown",
      "source": [
        "# Tensor aggregation\n",
        "# min, max, mean, sum"
      ],
      "metadata": {
        "id": "8vcVjfwusqAN"
      }
    },
    {
      "cell_type": "code",
      "source": [
        "x = torch.arange(0,100,10)\n",
        "x"
      ],
      "metadata": {
        "colab": {
          "base_uri": "https://localhost:8080/"
        },
        "id": "yXFQ5sACsnuK",
        "outputId": "2e441aed-2420-480d-c1ee-8f8c62b93095"
      },
      "execution_count": 35,
      "outputs": [
        {
          "output_type": "execute_result",
          "data": {
            "text/plain": [
              "tensor([ 0, 10, 20, 30, 40, 50, 60, 70, 80, 90])"
            ]
          },
          "metadata": {},
          "execution_count": 35
        }
      ]
    },
    {
      "cell_type": "code",
      "source": [
        "torch.min(x), torch.max(x)"
      ],
      "metadata": {
        "colab": {
          "base_uri": "https://localhost:8080/"
        },
        "id": "Q4ob_ZG6s658",
        "outputId": "f5885bdb-f88f-4d90-d606-4bdb1438e567"
      },
      "execution_count": 36,
      "outputs": [
        {
          "output_type": "execute_result",
          "data": {
            "text/plain": [
              "(tensor(0), tensor(90))"
            ]
          },
          "metadata": {},
          "execution_count": 36
        }
      ]
    },
    {
      "cell_type": "code",
      "source": [
        "x.dtype"
      ],
      "metadata": {
        "colab": {
          "base_uri": "https://localhost:8080/"
        },
        "id": "tHN_HnlltN5T",
        "outputId": "2cc84725-a786-4f57-e201-952b568541b5"
      },
      "execution_count": 37,
      "outputs": [
        {
          "output_type": "execute_result",
          "data": {
            "text/plain": [
              "torch.int64"
            ]
          },
          "metadata": {},
          "execution_count": 37
        }
      ]
    },
    {
      "cell_type": "code",
      "source": [
        "torch.mean(x)"
      ],
      "metadata": {
        "colab": {
          "base_uri": "https://localhost:8080/",
          "height": 181
        },
        "id": "4-ftoX6atJoI",
        "outputId": "afee0826-4119-422a-ceb8-75b882c2a548"
      },
      "execution_count": 38,
      "outputs": [
        {
          "output_type": "error",
          "ename": "RuntimeError",
          "evalue": "ignored",
          "traceback": [
            "\u001b[0;31m---------------------------------------------------------------------------\u001b[0m",
            "\u001b[0;31mRuntimeError\u001b[0m                              Traceback (most recent call last)",
            "\u001b[0;32m<ipython-input-38-455868396db1>\u001b[0m in \u001b[0;36m<cell line: 1>\u001b[0;34m()\u001b[0m\n\u001b[0;32m----> 1\u001b[0;31m \u001b[0mtorch\u001b[0m\u001b[0;34m.\u001b[0m\u001b[0mmean\u001b[0m\u001b[0;34m(\u001b[0m\u001b[0mx\u001b[0m\u001b[0;34m)\u001b[0m\u001b[0;34m\u001b[0m\u001b[0;34m\u001b[0m\u001b[0m\n\u001b[0m",
            "\u001b[0;31mRuntimeError\u001b[0m: mean(): could not infer output dtype. Input dtype must be either a floating point or complex dtype. Got: Long"
          ]
        }
      ]
    },
    {
      "cell_type": "code",
      "source": [
        "torch.mean(x.type(torch.float32))"
      ],
      "metadata": {
        "colab": {
          "base_uri": "https://localhost:8080/"
        },
        "id": "Ignjtm41tThe",
        "outputId": "ce184972-76c8-4163-a042-86a33f3dfcdc"
      },
      "execution_count": 39,
      "outputs": [
        {
          "output_type": "execute_result",
          "data": {
            "text/plain": [
              "tensor(45.)"
            ]
          },
          "metadata": {},
          "execution_count": 39
        }
      ]
    },
    {
      "cell_type": "code",
      "source": [
        "x.sum(),torch.sum(x)"
      ],
      "metadata": {
        "colab": {
          "base_uri": "https://localhost:8080/"
        },
        "id": "ZXNbnIrntuNO",
        "outputId": "27947ad8-f852-4db0-c0d6-f17a8a513770"
      },
      "execution_count": 40,
      "outputs": [
        {
          "output_type": "execute_result",
          "data": {
            "text/plain": [
              "(tensor(450), tensor(450))"
            ]
          },
          "metadata": {},
          "execution_count": 40
        }
      ]
    },
    {
      "cell_type": "markdown",
      "source": [
        "# positonal min and mx\n",
        "# argmin and argmax"
      ],
      "metadata": {
        "id": "XH7IcLOWuNfi"
      }
    },
    {
      "cell_type": "code",
      "source": [
        "x+2"
      ],
      "metadata": {
        "colab": {
          "base_uri": "https://localhost:8080/"
        },
        "id": "FCIUvbtSuDZM",
        "outputId": "2dfa728b-96ee-491f-dacf-84796ab2d54b"
      },
      "execution_count": 41,
      "outputs": [
        {
          "output_type": "execute_result",
          "data": {
            "text/plain": [
              "tensor([ 2, 12, 22, 32, 42, 52, 62, 72, 82, 92])"
            ]
          },
          "metadata": {},
          "execution_count": 41
        }
      ]
    },
    {
      "cell_type": "code",
      "source": [
        "x.argmin()"
      ],
      "metadata": {
        "colab": {
          "base_uri": "https://localhost:8080/"
        },
        "id": "uNSQ7ak3uUM9",
        "outputId": "7846348c-a005-491f-b95c-cbd33f0e6e19"
      },
      "execution_count": 42,
      "outputs": [
        {
          "output_type": "execute_result",
          "data": {
            "text/plain": [
              "tensor(0)"
            ]
          },
          "metadata": {},
          "execution_count": 42
        }
      ]
    },
    {
      "cell_type": "code",
      "source": [
        "x.argmax()"
      ],
      "metadata": {
        "colab": {
          "base_uri": "https://localhost:8080/"
        },
        "id": "Af9dvg6xuYBO",
        "outputId": "06da6289-3576-43bb-8fc3-0ed14248e9c6"
      },
      "execution_count": 43,
      "outputs": [
        {
          "output_type": "execute_result",
          "data": {
            "text/plain": [
              "tensor(9)"
            ]
          },
          "metadata": {},
          "execution_count": 43
        }
      ]
    },
    {
      "cell_type": "code",
      "source": [
        "x[x.argmax()]"
      ],
      "metadata": {
        "colab": {
          "base_uri": "https://localhost:8080/"
        },
        "id": "SthTxK4runfx",
        "outputId": "b1151b38-fb0e-453b-d2c8-2fcdf494d6bf"
      },
      "execution_count": 44,
      "outputs": [
        {
          "output_type": "execute_result",
          "data": {
            "text/plain": [
              "tensor(90)"
            ]
          },
          "metadata": {},
          "execution_count": 44
        }
      ]
    },
    {
      "cell_type": "code",
      "source": [
        "x.max()"
      ],
      "metadata": {
        "colab": {
          "base_uri": "https://localhost:8080/"
        },
        "id": "rTxh26QLuw05",
        "outputId": "c2898b6b-975c-4f1b-9845-a15f7c1453fa"
      },
      "execution_count": 45,
      "outputs": [
        {
          "output_type": "execute_result",
          "data": {
            "text/plain": [
              "tensor(90)"
            ]
          },
          "metadata": {},
          "execution_count": 45
        }
      ]
    },
    {
      "cell_type": "markdown",
      "source": [
        "# Reshape, stacking, squeezing, unsqueeze"
      ],
      "metadata": {
        "id": "R7sJJLEfvMvY"
      }
    },
    {
      "cell_type": "code",
      "source": [
        "x = torch.arange(0,6,1)\n",
        "x.shape"
      ],
      "metadata": {
        "colab": {
          "base_uri": "https://localhost:8080/"
        },
        "id": "6cfY2iGex4nE",
        "outputId": "71a1852f-4860-4d23-f573-e32ef98d4e25"
      },
      "execution_count": 46,
      "outputs": [
        {
          "output_type": "execute_result",
          "data": {
            "text/plain": [
              "torch.Size([6])"
            ]
          },
          "metadata": {},
          "execution_count": 46
        }
      ]
    },
    {
      "cell_type": "code",
      "source": [
        "x.reshape(1,3,2)"
      ],
      "metadata": {
        "colab": {
          "base_uri": "https://localhost:8080/"
        },
        "id": "-V9O_y46vTaO",
        "outputId": "e432fbf9-35d7-4bb7-af4c-9b006462188a"
      },
      "execution_count": 47,
      "outputs": [
        {
          "output_type": "execute_result",
          "data": {
            "text/plain": [
              "tensor([[[0, 1],\n",
              "         [2, 3],\n",
              "         [4, 5]]])"
            ]
          },
          "metadata": {},
          "execution_count": 47
        }
      ]
    },
    {
      "cell_type": "code",
      "source": [
        "x_1 = x.reshape(2,1,3)\n",
        "x_1.shape,x_1"
      ],
      "metadata": {
        "colab": {
          "base_uri": "https://localhost:8080/"
        },
        "id": "OfbAaAthwDo_",
        "outputId": "342f5419-44a8-4bd4-e448-3c4e618286ff"
      },
      "execution_count": 48,
      "outputs": [
        {
          "output_type": "execute_result",
          "data": {
            "text/plain": [
              "(torch.Size([2, 1, 3]),\n",
              " tensor([[[0, 1, 2]],\n",
              " \n",
              "         [[3, 4, 5]]]))"
            ]
          },
          "metadata": {},
          "execution_count": 48
        }
      ]
    },
    {
      "cell_type": "code",
      "source": [
        "x_stacked = torch.stack([x_1,x_1],dim=0)\n",
        "x_stacked.shape,x_stacked"
      ],
      "metadata": {
        "colab": {
          "base_uri": "https://localhost:8080/"
        },
        "id": "fDm8x7MhwFJ-",
        "outputId": "0f61c28d-e272-4e0f-df6a-cf51782bf976"
      },
      "execution_count": 49,
      "outputs": [
        {
          "output_type": "execute_result",
          "data": {
            "text/plain": [
              "(torch.Size([2, 2, 1, 3]),\n",
              " tensor([[[[0, 1, 2]],\n",
              " \n",
              "          [[3, 4, 5]]],\n",
              " \n",
              " \n",
              "         [[[0, 1, 2]],\n",
              " \n",
              "          [[3, 4, 5]]]]))"
            ]
          },
          "metadata": {},
          "execution_count": 49
        }
      ]
    },
    {
      "cell_type": "code",
      "source": [
        "x_stacked = torch.stack([x_1,x_1],dim=1)\n",
        "x_stacked.shape,x_stacked"
      ],
      "metadata": {
        "colab": {
          "base_uri": "https://localhost:8080/"
        },
        "id": "ycEfHR310Cxl",
        "outputId": "9089d0f1-db97-4488-8490-6f75eb288b0e"
      },
      "execution_count": 50,
      "outputs": [
        {
          "output_type": "execute_result",
          "data": {
            "text/plain": [
              "(torch.Size([2, 2, 1, 3]),\n",
              " tensor([[[[0, 1, 2]],\n",
              " \n",
              "          [[0, 1, 2]]],\n",
              " \n",
              " \n",
              "         [[[3, 4, 5]],\n",
              " \n",
              "          [[3, 4, 5]]]]))"
            ]
          },
          "metadata": {},
          "execution_count": 50
        }
      ]
    },
    {
      "cell_type": "code",
      "source": [
        "y=x_stacked.squeeze()\n",
        "y.shape,y"
      ],
      "metadata": {
        "colab": {
          "base_uri": "https://localhost:8080/"
        },
        "id": "qRKTft8l0C8l",
        "outputId": "5fb05277-f6ef-4474-991d-b00c77561f80"
      },
      "execution_count": 51,
      "outputs": [
        {
          "output_type": "execute_result",
          "data": {
            "text/plain": [
              "(torch.Size([2, 2, 3]),\n",
              " tensor([[[0, 1, 2],\n",
              "          [0, 1, 2]],\n",
              " \n",
              "         [[3, 4, 5],\n",
              "          [3, 4, 5]]]))"
            ]
          },
          "metadata": {},
          "execution_count": 51
        }
      ]
    },
    {
      "cell_type": "code",
      "source": [
        "z = y.unsqueeze(dim=0)\n",
        "z.shape, z"
      ],
      "metadata": {
        "colab": {
          "base_uri": "https://localhost:8080/"
        },
        "id": "sNNBc-IUwFU6",
        "outputId": "5c0a1bee-9a42-4bb2-8d16-2e51c77010b9"
      },
      "execution_count": 52,
      "outputs": [
        {
          "output_type": "execute_result",
          "data": {
            "text/plain": [
              "(torch.Size([1, 2, 2, 3]),\n",
              " tensor([[[[0, 1, 2],\n",
              "           [0, 1, 2]],\n",
              " \n",
              "          [[3, 4, 5],\n",
              "           [3, 4, 5]]]]))"
            ]
          },
          "metadata": {},
          "execution_count": 52
        }
      ]
    },
    {
      "cell_type": "code",
      "source": [
        "x_permute = x_1.permute(0,2,1)\n",
        "x_1.shape, x_permute.shape"
      ],
      "metadata": {
        "colab": {
          "base_uri": "https://localhost:8080/"
        },
        "id": "ROhcbYZnwFZ7",
        "outputId": "9c2b89ba-f4f6-4090-a97e-4df76b53615e"
      },
      "execution_count": 53,
      "outputs": [
        {
          "output_type": "execute_result",
          "data": {
            "text/plain": [
              "(torch.Size([2, 1, 3]), torch.Size([2, 3, 1]))"
            ]
          },
          "metadata": {},
          "execution_count": 53
        }
      ]
    },
    {
      "cell_type": "code",
      "source": [
        "x_1"
      ],
      "metadata": {
        "colab": {
          "base_uri": "https://localhost:8080/"
        },
        "id": "t7SxecmNwFe-",
        "outputId": "9e187b60-766c-4daf-ef54-34db68d028fb"
      },
      "execution_count": 54,
      "outputs": [
        {
          "output_type": "execute_result",
          "data": {
            "text/plain": [
              "tensor([[[0, 1, 2]],\n",
              "\n",
              "        [[3, 4, 5]]])"
            ]
          },
          "metadata": {},
          "execution_count": 54
        }
      ]
    },
    {
      "cell_type": "code",
      "source": [
        "x_1[1,0,2]=100\n",
        "x_1"
      ],
      "metadata": {
        "colab": {
          "base_uri": "https://localhost:8080/"
        },
        "id": "DF8XnA4RwFjo",
        "outputId": "3ae72c12-41d9-4431-b9ad-232af4e62ec7"
      },
      "execution_count": 55,
      "outputs": [
        {
          "output_type": "execute_result",
          "data": {
            "text/plain": [
              "tensor([[[  0,   1,   2]],\n",
              "\n",
              "        [[  3,   4, 100]]])"
            ]
          },
          "metadata": {},
          "execution_count": 55
        }
      ]
    },
    {
      "cell_type": "code",
      "source": [
        "x_permute.shape, x_permute"
      ],
      "metadata": {
        "colab": {
          "base_uri": "https://localhost:8080/"
        },
        "id": "oAdrKZhzwFr7",
        "outputId": "a3d0bb0b-7e0f-4fbb-d53c-35cb24f5bcfb"
      },
      "execution_count": 56,
      "outputs": [
        {
          "output_type": "execute_result",
          "data": {
            "text/plain": [
              "(torch.Size([2, 3, 1]),\n",
              " tensor([[[  0],\n",
              "          [  1],\n",
              "          [  2]],\n",
              " \n",
              "         [[  3],\n",
              "          [  4],\n",
              "          [100]]]))"
            ]
          },
          "metadata": {},
          "execution_count": 56
        }
      ]
    },
    {
      "cell_type": "code",
      "source": [
        "x_permute[1][2][0]"
      ],
      "metadata": {
        "colab": {
          "base_uri": "https://localhost:8080/"
        },
        "id": "m2mzspn0wF0G",
        "outputId": "a5c2dc39-3dcd-459b-8a99-074ff12785e0"
      },
      "execution_count": 57,
      "outputs": [
        {
          "output_type": "execute_result",
          "data": {
            "text/plain": [
              "tensor(100)"
            ]
          },
          "metadata": {},
          "execution_count": 57
        }
      ]
    },
    {
      "cell_type": "code",
      "source": [
        "x_permute[:,2,0]"
      ],
      "metadata": {
        "colab": {
          "base_uri": "https://localhost:8080/"
        },
        "id": "VR4d2u55wF5D",
        "outputId": "99eaee5d-252e-460c-f6b8-4bcc9e9b48dc"
      },
      "execution_count": 58,
      "outputs": [
        {
          "output_type": "execute_result",
          "data": {
            "text/plain": [
              "tensor([  2, 100])"
            ]
          },
          "metadata": {},
          "execution_count": 58
        }
      ]
    },
    {
      "cell_type": "markdown",
      "source": [
        "# PyTorch and Numpy"
      ],
      "metadata": {
        "id": "bLUZqTcfLV9L"
      }
    },
    {
      "cell_type": "code",
      "source": [
        "import torch\n",
        "import numpy as np\n",
        "\n",
        "array = np.arange(1.0,8.0)\n",
        "tensor = torch.from_numpy(array)\n",
        "\n",
        "array"
      ],
      "metadata": {
        "colab": {
          "base_uri": "https://localhost:8080/"
        },
        "id": "OsCU1hiHLy0Y",
        "outputId": "f3df0c00-6960-4d58-c1dd-d7bf3ed4a238"
      },
      "execution_count": 59,
      "outputs": [
        {
          "output_type": "execute_result",
          "data": {
            "text/plain": [
              "array([1., 2., 3., 4., 5., 6., 7.])"
            ]
          },
          "metadata": {},
          "execution_count": 59
        }
      ]
    },
    {
      "cell_type": "code",
      "source": [
        "array.dtype, tensor.dtype"
      ],
      "metadata": {
        "colab": {
          "base_uri": "https://localhost:8080/"
        },
        "id": "_V5_WO0IL9vX",
        "outputId": "d1fdeaf7-12f5-4ebf-a76e-a48300b9f370"
      },
      "execution_count": 60,
      "outputs": [
        {
          "output_type": "execute_result",
          "data": {
            "text/plain": [
              "(dtype('float64'), torch.float64)"
            ]
          },
          "metadata": {},
          "execution_count": 60
        }
      ]
    },
    {
      "cell_type": "code",
      "source": [
        "array[2]=100\n",
        "array, tensor"
      ],
      "metadata": {
        "colab": {
          "base_uri": "https://localhost:8080/"
        },
        "id": "3zWrAuJMMmpj",
        "outputId": "5f7a8c67-fcdd-413f-f684-d596c5777201"
      },
      "execution_count": 61,
      "outputs": [
        {
          "output_type": "execute_result",
          "data": {
            "text/plain": [
              "(array([  1.,   2., 100.,   4.,   5.,   6.,   7.]),\n",
              " tensor([  1.,   2., 100.,   4.,   5.,   6.,   7.], dtype=torch.float64))"
            ]
          },
          "metadata": {},
          "execution_count": 61
        }
      ]
    },
    {
      "cell_type": "code",
      "source": [
        "array = array + 1\n",
        "array, tensor"
      ],
      "metadata": {
        "colab": {
          "base_uri": "https://localhost:8080/"
        },
        "id": "7kNUm4fWM15o",
        "outputId": "2e3e3b4a-d3d0-4c79-d596-a50d41f16ca2"
      },
      "execution_count": 62,
      "outputs": [
        {
          "output_type": "execute_result",
          "data": {
            "text/plain": [
              "(array([  2.,   3., 101.,   5.,   6.,   7.,   8.]),\n",
              " tensor([  1.,   2., 100.,   4.,   5.,   6.,   7.], dtype=torch.float64))"
            ]
          },
          "metadata": {},
          "execution_count": 62
        }
      ]
    },
    {
      "cell_type": "code",
      "source": [
        "array[4]=400\n",
        "array, tensor"
      ],
      "metadata": {
        "colab": {
          "base_uri": "https://localhost:8080/"
        },
        "id": "41TmTCsoNJr1",
        "outputId": "d10348cd-3bc2-48cc-f5c0-a6f8067cf986"
      },
      "execution_count": 63,
      "outputs": [
        {
          "output_type": "execute_result",
          "data": {
            "text/plain": [
              "(array([  2.,   3., 101.,   5., 400.,   7.,   8.]),\n",
              " tensor([  1.,   2., 100.,   4.,   5.,   6.,   7.], dtype=torch.float64))"
            ]
          },
          "metadata": {},
          "execution_count": 63
        }
      ]
    },
    {
      "cell_type": "code",
      "source": [
        "array = array + 4\n",
        "array, tensor"
      ],
      "metadata": {
        "colab": {
          "base_uri": "https://localhost:8080/"
        },
        "id": "au2bnlS8NOxt",
        "outputId": "5e2f597a-aaa5-4fa2-c624-0530f9d04fcb"
      },
      "execution_count": 64,
      "outputs": [
        {
          "output_type": "execute_result",
          "data": {
            "text/plain": [
              "(array([  6.,   7., 105.,   9., 404.,  11.,  12.]),\n",
              " tensor([  1.,   2., 100.,   4.,   5.,   6.,   7.], dtype=torch.float64))"
            ]
          },
          "metadata": {},
          "execution_count": 64
        }
      ]
    },
    {
      "cell_type": "code",
      "source": [
        "tensor_1 = torch.ones(7)\n",
        "numpy_tensor = tensor_1.numpy()\n",
        "\n",
        "tensor_1, numpy_tensor"
      ],
      "metadata": {
        "colab": {
          "base_uri": "https://localhost:8080/"
        },
        "id": "bdwQRJb2NSTY",
        "outputId": "7982359d-e3f7-4cf6-ce0d-9716e8bcf110"
      },
      "execution_count": 65,
      "outputs": [
        {
          "output_type": "execute_result",
          "data": {
            "text/plain": [
              "(tensor([1., 1., 1., 1., 1., 1., 1.]),\n",
              " array([1., 1., 1., 1., 1., 1., 1.], dtype=float32))"
            ]
          },
          "metadata": {},
          "execution_count": 65
        }
      ]
    },
    {
      "cell_type": "code",
      "source": [
        "tensor_1.dtype, numpy_tensor.dtype"
      ],
      "metadata": {
        "colab": {
          "base_uri": "https://localhost:8080/"
        },
        "id": "VubiBDAoNkp3",
        "outputId": "ef8e31cf-cc33-42e6-f129-798bb9476282"
      },
      "execution_count": 66,
      "outputs": [
        {
          "output_type": "execute_result",
          "data": {
            "text/plain": [
              "(torch.float32, dtype('float32'))"
            ]
          },
          "metadata": {},
          "execution_count": 66
        }
      ]
    },
    {
      "cell_type": "code",
      "source": [
        "tensor_1 = tensor_1 + 2\n",
        "tensor_1, numpy_tensor"
      ],
      "metadata": {
        "colab": {
          "base_uri": "https://localhost:8080/"
        },
        "id": "ZN5xH0wGNqwP",
        "outputId": "70db1728-36bf-40de-d7e7-80f5a7d5a73c"
      },
      "execution_count": 67,
      "outputs": [
        {
          "output_type": "execute_result",
          "data": {
            "text/plain": [
              "(tensor([3., 3., 3., 3., 3., 3., 3.]),\n",
              " array([1., 1., 1., 1., 1., 1., 1.], dtype=float32))"
            ]
          },
          "metadata": {},
          "execution_count": 67
        }
      ]
    },
    {
      "cell_type": "markdown",
      "source": [
        "# Reproducibility\n",
        "### take random out of random\n",
        "\n",
        "**random seed**"
      ],
      "metadata": {
        "id": "A10kQCsVN49y"
      }
    },
    {
      "cell_type": "code",
      "source": [
        "t_a = torch.rand(3,4)\n",
        "t_b = torch.rand(3,4)\n",
        "\n",
        "t_a, t_b"
      ],
      "metadata": {
        "colab": {
          "base_uri": "https://localhost:8080/"
        },
        "id": "-9eqeIQBN5C7",
        "outputId": "a6f9ebac-ac4b-444f-a3aa-73102e91a087"
      },
      "execution_count": 68,
      "outputs": [
        {
          "output_type": "execute_result",
          "data": {
            "text/plain": [
              "(tensor([[0.7850, 0.3302, 0.8529, 0.1173],\n",
              "         [0.0765, 0.4041, 0.6127, 0.0488],\n",
              "         [0.4819, 0.0152, 0.5791, 0.9571]]),\n",
              " tensor([[0.3773, 0.5459, 0.9800, 0.3306],\n",
              "         [0.1563, 0.5772, 0.8702, 0.2808],\n",
              "         [0.2861, 0.7563, 0.7424, 0.5730]]))"
            ]
          },
          "metadata": {},
          "execution_count": 68
        }
      ]
    },
    {
      "cell_type": "code",
      "source": [
        "t_a == t_b"
      ],
      "metadata": {
        "colab": {
          "base_uri": "https://localhost:8080/"
        },
        "id": "vkM2dkmCN5Kj",
        "outputId": "a588e2a0-2847-453b-ffb8-c075569243ef"
      },
      "execution_count": 69,
      "outputs": [
        {
          "output_type": "execute_result",
          "data": {
            "text/plain": [
              "tensor([[False, False, False, False],\n",
              "        [False, False, False, False],\n",
              "        [False, False, False, False]])"
            ]
          },
          "metadata": {},
          "execution_count": 69
        }
      ]
    },
    {
      "cell_type": "code",
      "source": [
        "RANDOM_SEED = 42\n",
        "torch.manual_seed(RANDOM_SEED)\n",
        "t_aa = torch.rand(3,4)\n",
        "\n",
        "torch.manual_seed(RANDOM_SEED)\n",
        "t_bb = torch.rand(3,4)\n",
        "\n",
        "t_aa, t_bb"
      ],
      "metadata": {
        "colab": {
          "base_uri": "https://localhost:8080/"
        },
        "id": "MDqz4zqqN5Pv",
        "outputId": "94c006a2-c228-40dc-8cd9-c8a013f05390"
      },
      "execution_count": 70,
      "outputs": [
        {
          "output_type": "execute_result",
          "data": {
            "text/plain": [
              "(tensor([[0.8823, 0.9150, 0.3829, 0.9593],\n",
              "         [0.3904, 0.6009, 0.2566, 0.7936],\n",
              "         [0.9408, 0.1332, 0.9346, 0.5936]]),\n",
              " tensor([[0.8823, 0.9150, 0.3829, 0.9593],\n",
              "         [0.3904, 0.6009, 0.2566, 0.7936],\n",
              "         [0.9408, 0.1332, 0.9346, 0.5936]]))"
            ]
          },
          "metadata": {},
          "execution_count": 70
        }
      ]
    },
    {
      "cell_type": "code",
      "source": [
        "t_aa == t_bb"
      ],
      "metadata": {
        "colab": {
          "base_uri": "https://localhost:8080/"
        },
        "id": "2RqTSuNYN5Vm",
        "outputId": "de57a446-9358-4b4c-859c-63a4c2e098b6"
      },
      "execution_count": 71,
      "outputs": [
        {
          "output_type": "execute_result",
          "data": {
            "text/plain": [
              "tensor([[True, True, True, True],\n",
              "        [True, True, True, True],\n",
              "        [True, True, True, True]])"
            ]
          },
          "metadata": {},
          "execution_count": 71
        }
      ]
    },
    {
      "cell_type": "markdown",
      "source": [
        "# working with GPU"
      ],
      "metadata": {
        "id": "kR3ZcwUzN5ay"
      }
    },
    {
      "cell_type": "code",
      "source": [
        "!nvidia-smi"
      ],
      "metadata": {
        "id": "ijQCAAh8N5yy",
        "colab": {
          "base_uri": "https://localhost:8080/"
        },
        "outputId": "f6547e5d-b97b-4acd-ccfb-39fa57156a7b"
      },
      "execution_count": 72,
      "outputs": [
        {
          "output_type": "stream",
          "name": "stdout",
          "text": [
            "Thu Jun  8 14:28:58 2023       \n",
            "+-----------------------------------------------------------------------------+\n",
            "| NVIDIA-SMI 525.85.12    Driver Version: 525.85.12    CUDA Version: 12.0     |\n",
            "|-------------------------------+----------------------+----------------------+\n",
            "| GPU  Name        Persistence-M| Bus-Id        Disp.A | Volatile Uncorr. ECC |\n",
            "| Fan  Temp  Perf  Pwr:Usage/Cap|         Memory-Usage | GPU-Util  Compute M. |\n",
            "|                               |                      |               MIG M. |\n",
            "|===============================+======================+======================|\n",
            "|   0  Tesla T4            Off  | 00000000:00:04.0 Off |                    0 |\n",
            "| N/A   45C    P8    10W /  70W |      0MiB / 15360MiB |      0%      Default |\n",
            "|                               |                      |                  N/A |\n",
            "+-------------------------------+----------------------+----------------------+\n",
            "                                                                               \n",
            "+-----------------------------------------------------------------------------+\n",
            "| Processes:                                                                  |\n",
            "|  GPU   GI   CI        PID   Type   Process name                  GPU Memory |\n",
            "|        ID   ID                                                   Usage      |\n",
            "|=============================================================================|\n",
            "|  No running processes found                                                 |\n",
            "+-----------------------------------------------------------------------------+\n"
          ]
        }
      ]
    },
    {
      "cell_type": "code",
      "source": [
        "import torch\n",
        "torch.cuda.is_available()"
      ],
      "metadata": {
        "id": "q5GALhcwN54Q",
        "colab": {
          "base_uri": "https://localhost:8080/"
        },
        "outputId": "3fcfeb81-748f-4304-b4c0-73a100b0dc7a"
      },
      "execution_count": 73,
      "outputs": [
        {
          "output_type": "execute_result",
          "data": {
            "text/plain": [
              "True"
            ]
          },
          "metadata": {},
          "execution_count": 73
        }
      ]
    },
    {
      "cell_type": "code",
      "source": [
        "device = \"cuda\" if torch.cuda.is_available else \"cpu\"\n",
        "device"
      ],
      "metadata": {
        "id": "bSuSoc_dN59i",
        "colab": {
          "base_uri": "https://localhost:8080/",
          "height": 37
        },
        "outputId": "a44f17b3-e3a9-45d7-e936-db9960881e08"
      },
      "execution_count": 74,
      "outputs": [
        {
          "output_type": "execute_result",
          "data": {
            "text/plain": [
              "'cuda'"
            ],
            "application/vnd.google.colaboratory.intrinsic+json": {
              "type": "string"
            }
          },
          "metadata": {},
          "execution_count": 74
        }
      ]
    },
    {
      "cell_type": "code",
      "source": [
        "torch.cuda.device_count()"
      ],
      "metadata": {
        "colab": {
          "base_uri": "https://localhost:8080/"
        },
        "id": "K61sO-1ValwB",
        "outputId": "5531f220-720a-4bab-c8e7-10040f850bf4"
      },
      "execution_count": 75,
      "outputs": [
        {
          "output_type": "execute_result",
          "data": {
            "text/plain": [
              "1"
            ]
          },
          "metadata": {},
          "execution_count": 75
        }
      ]
    },
    {
      "cell_type": "code",
      "source": [
        "ts = torch.tensor([1,2,3])\n",
        "ts, ts.device"
      ],
      "metadata": {
        "colab": {
          "base_uri": "https://localhost:8080/"
        },
        "id": "0H3LB778al0v",
        "outputId": "5cae056b-cb06-4382-fcd5-2e869cdf5782"
      },
      "execution_count": 79,
      "outputs": [
        {
          "output_type": "execute_result",
          "data": {
            "text/plain": [
              "(tensor([1, 2, 3]), device(type='cpu'))"
            ]
          },
          "metadata": {},
          "execution_count": 79
        }
      ]
    },
    {
      "cell_type": "code",
      "source": [
        "ts_gpu = ts.to(device)\n",
        "ts_gpu"
      ],
      "metadata": {
        "colab": {
          "base_uri": "https://localhost:8080/"
        },
        "id": "PKu8VFe5al5L",
        "outputId": "612def3f-9309-475b-b6c8-a8df6bc45bf0"
      },
      "execution_count": 80,
      "outputs": [
        {
          "output_type": "execute_result",
          "data": {
            "text/plain": [
              "tensor([1, 2, 3], device='cuda:0')"
            ]
          },
          "metadata": {},
          "execution_count": 80
        }
      ]
    },
    {
      "cell_type": "code",
      "source": [
        "ts_gpu.numpy()"
      ],
      "metadata": {
        "colab": {
          "base_uri": "https://localhost:8080/",
          "height": 181
        },
        "id": "0G56yqBeal9j",
        "outputId": "815feafa-e1f9-4983-f280-bee74270e960"
      },
      "execution_count": 81,
      "outputs": [
        {
          "output_type": "error",
          "ename": "TypeError",
          "evalue": "ignored",
          "traceback": [
            "\u001b[0;31m---------------------------------------------------------------------------\u001b[0m",
            "\u001b[0;31mTypeError\u001b[0m                                 Traceback (most recent call last)",
            "\u001b[0;32m<ipython-input-81-41aaf6b6d9bb>\u001b[0m in \u001b[0;36m<cell line: 1>\u001b[0;34m()\u001b[0m\n\u001b[0;32m----> 1\u001b[0;31m \u001b[0mts_gpu\u001b[0m\u001b[0;34m.\u001b[0m\u001b[0mnumpy\u001b[0m\u001b[0;34m(\u001b[0m\u001b[0;34m)\u001b[0m\u001b[0;34m\u001b[0m\u001b[0;34m\u001b[0m\u001b[0m\n\u001b[0m",
            "\u001b[0;31mTypeError\u001b[0m: can't convert cuda:0 device type tensor to numpy. Use Tensor.cpu() to copy the tensor to host memory first."
          ]
        }
      ]
    },
    {
      "cell_type": "code",
      "source": [
        "ts_gpu_to_cpu = ts_gpu.cpu().numpy()\n",
        "ts_gpu_to_cpu, ts_gpu_to_cpu.dtype"
      ],
      "metadata": {
        "colab": {
          "base_uri": "https://localhost:8080/"
        },
        "id": "tFij4eT9amCj",
        "outputId": "fce9b38b-670c-432f-844f-b88e0f099481"
      },
      "execution_count": 83,
      "outputs": [
        {
          "output_type": "execute_result",
          "data": {
            "text/plain": [
              "(array([1, 2, 3]), dtype('int64'))"
            ]
          },
          "metadata": {},
          "execution_count": 83
        }
      ]
    },
    {
      "cell_type": "code",
      "source": [
        "ts_gpu"
      ],
      "metadata": {
        "colab": {
          "base_uri": "https://localhost:8080/"
        },
        "id": "02siy7zFamHt",
        "outputId": "86553374-50fb-4330-d6d8-1a307da53d1a"
      },
      "execution_count": 84,
      "outputs": [
        {
          "output_type": "execute_result",
          "data": {
            "text/plain": [
              "tensor([1, 2, 3], device='cuda:0')"
            ]
          },
          "metadata": {},
          "execution_count": 84
        }
      ]
    },
    {
      "cell_type": "code",
      "source": [],
      "metadata": {
        "id": "tACvr9ziamM1"
      },
      "execution_count": null,
      "outputs": []
    },
    {
      "cell_type": "code",
      "source": [],
      "metadata": {
        "id": "Tok5id_pamR9"
      },
      "execution_count": null,
      "outputs": []
    },
    {
      "cell_type": "code",
      "source": [],
      "metadata": {
        "id": "1qU0u0dmamXX"
      },
      "execution_count": null,
      "outputs": []
    },
    {
      "cell_type": "code",
      "source": [],
      "metadata": {
        "id": "F3g0j4yiamcA"
      },
      "execution_count": null,
      "outputs": []
    },
    {
      "cell_type": "code",
      "source": [],
      "metadata": {
        "id": "Dn07M-RgamhG"
      },
      "execution_count": null,
      "outputs": []
    },
    {
      "cell_type": "code",
      "source": [],
      "metadata": {
        "id": "wrjAzXzhaml9"
      },
      "execution_count": null,
      "outputs": []
    }
  ]
}