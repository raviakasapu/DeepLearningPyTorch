{
  "nbformat": 4,
  "nbformat_minor": 0,
  "metadata": {
    "colab": {
      "name": "Deep_Learning_with_PyTorch_02_Training_Loop.ipynb",
      "provenance": [],
      "collapsed_sections": [],
      "authorship_tag": "ABX9TyOt9cBsYrT8mg+gsmJUWuTf",
      "include_colab_link": true
    },
    "kernelspec": {
      "name": "python3",
      "display_name": "Python 3"
    },
    "language_info": {
      "name": "python"
    }
  },
  "cells": [
    {
      "cell_type": "markdown",
      "metadata": {
        "id": "view-in-github",
        "colab_type": "text"
      },
      "source": [
        "<a href=\"https://colab.research.google.com/github/raviakasapu/DeepLearningPyTorch/blob/main/Deep_Learning_with_PyTorch_02_Training_Loop.ipynb\" target=\"_parent\"><img src=\"https://colab.research.google.com/assets/colab-badge.svg\" alt=\"Open In Colab\"/></a>"
      ]
    },
    {
      "cell_type": "markdown",
      "source": [
        "#  Deep Learning with PyTorch - Chapter 02\n",
        "\n",
        "\n",
        "---\n",
        "Rethingking the Training Loop\n"
      ],
      "metadata": {
        "id": "whiYm6rw0U3u"
      }
    },
    {
      "cell_type": "markdown",
      "source": [
        "### code examples are from \n",
        "https://github.com/dvgodoy/PyTorchStepByStep/blob/master/Chapter02.ipynb"
      ],
      "metadata": {
        "id": "V8msGdee0f3P"
      }
    },
    {
      "cell_type": "code",
      "source": [
        ""
      ],
      "metadata": {
        "id": "lD_DCBeO0hAX"
      },
      "execution_count": null,
      "outputs": []
    }
  ]
}