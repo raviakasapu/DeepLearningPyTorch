{
  "nbformat": 4,
  "nbformat_minor": 0,
  "metadata": {
    "colab": {
      "name": "Deep_Learning_with_PyTorch_02_Training_Loop.ipynb",
      "provenance": [],
      "collapsed_sections": [],
      "authorship_tag": "ABX9TyMTvx/5hJd1+FNxXtGG6hiQ",
      "include_colab_link": true
    },
    "kernelspec": {
      "name": "python3",
      "display_name": "Python 3"
    },
    "language_info": {
      "name": "python"
    },
    "accelerator": "GPU"
  },
  "cells": [
    {
      "cell_type": "markdown",
      "metadata": {
        "id": "view-in-github",
        "colab_type": "text"
      },
      "source": [
        "<a href=\"https://colab.research.google.com/github/raviakasapu/DeepLearningPyTorch/blob/main/Deep_Learning_with_PyTorch_02_Training_Loop.ipynb\" target=\"_parent\"><img src=\"https://colab.research.google.com/assets/colab-badge.svg\" alt=\"Open In Colab\"/></a>"
      ]
    },
    {
      "cell_type": "markdown",
      "source": [
        "#  Deep Learning with PyTorch - Chapter 02\n",
        "\n",
        "\n",
        "---\n",
        "Rethingking the Training Loop\n"
      ],
      "metadata": {
        "id": "whiYm6rw0U3u"
      }
    },
    {
      "cell_type": "markdown",
      "source": [
        "### code examples are from \n",
        "https://github.com/dvgodoy/PyTorchStepByStep/blob/master/Chapter02.ipynb"
      ],
      "metadata": {
        "id": "V8msGdee0f3P"
      }
    },
    {
      "cell_type": "code",
      "source": [
        "import numpy as np\n",
        "from sklearn.linear_model import LinearRegression\n",
        "\n",
        "import torch\n",
        "import torch.optim as optim\n",
        "import torch.nn as nn\n",
        "\n",
        "from torch.utils.data import Dataset, TensorDataset, DataLoader\n",
        "from torch.utils.data.dataset import random_split\n",
        "from torch.utils.tensorboard import SummaryWriter\n",
        "\n",
        "import matplotlib.pyplot as plt\n",
        "%matplotlib inline\n",
        "\n",
        "plt.style.use('fivethirtyeight')\n"
      ],
      "metadata": {
        "id": "lD_DCBeO0hAX"
      },
      "execution_count": 1,
      "outputs": []
    },
    {
      "cell_type": "code",
      "source": [
        "from google.colab import drive\n",
        "drive.mount('/content/drive/')\n",
        "%cd /content/drive/My\\ Drive/Colab_files/PyTorchFiles"
      ],
      "metadata": {
        "colab": {
          "base_uri": "https://localhost:8080/"
        },
        "id": "rZWStrZoiOoC",
        "outputId": "cd9d3118-7a15-490b-ac14-cdb462de4629"
      },
      "execution_count": 2,
      "outputs": [
        {
          "output_type": "stream",
          "name": "stdout",
          "text": [
            "Mounted at /content/drive/\n",
            "/content/drive/My Drive/Colab_files/PyTorchFiles\n"
          ]
        }
      ]
    },
    {
      "cell_type": "code",
      "source": [
        "%run -i data_generation/simple_linear_regression.py"
      ],
      "metadata": {
        "id": "tFqjdOCSapaq"
      },
      "execution_count": 3,
      "outputs": []
    },
    {
      "cell_type": "code",
      "source": [
        "%run -i data_preparation/v0.py"
      ],
      "metadata": {
        "id": "ak2LI3dobJUc"
      },
      "execution_count": 4,
      "outputs": []
    },
    {
      "cell_type": "code",
      "source": [
        "%run -i model_configuration/v0.py"
      ],
      "metadata": {
        "id": "lvjR589EbNYz"
      },
      "execution_count": 5,
      "outputs": []
    },
    {
      "cell_type": "code",
      "source": [
        "%run -i model_training/v0.py"
      ],
      "metadata": {
        "id": "odFBToKSi5LE"
      },
      "execution_count": 6,
      "outputs": []
    },
    {
      "cell_type": "code",
      "source": [
        "print(model.state_dict())"
      ],
      "metadata": {
        "colab": {
          "base_uri": "https://localhost:8080/"
        },
        "id": "v2I7Tz-QjF-W",
        "outputId": "4503ad8c-33ca-4025-d564-e86509584cd4"
      },
      "execution_count": 7,
      "outputs": [
        {
          "output_type": "stream",
          "name": "stdout",
          "text": [
            "OrderedDict([('0.weight', tensor([[1.9690]], device='cuda:0')), ('0.bias', tensor([1.0235], device='cuda:0'))])\n"
          ]
        }
      ]
    },
    {
      "cell_type": "markdown",
      "source": [
        "# Higher order functions"
      ],
      "metadata": {
        "id": "_OrNZ2FJjXjW"
      }
    },
    {
      "cell_type": "code",
      "source": [
        ""
      ],
      "metadata": {
        "id": "j8L3MI1YjZ7Q"
      },
      "execution_count": 7,
      "outputs": []
    },
    {
      "cell_type": "markdown",
      "source": [
        "# Training step"
      ],
      "metadata": {
        "id": "ns92cSMmyINn"
      }
    },
    {
      "cell_type": "code",
      "source": [
        "def make_train_step(model, loss_fn, optimizer):\n",
        "  def perform_train_step(x,y):\n",
        "    model.train()\n",
        "    yhat = model(x)\n",
        "    loss = loss_fn(yhat,y)\n",
        "    loss.backward()\n",
        "    optimizer.step()\n",
        "    optimizer.zero_grad()\n",
        "\n",
        "    return loss.item()\n",
        "\n",
        "  return perform_train_step\n",
        "\n"
      ],
      "metadata": {
        "id": "VyuU0RUByKrW"
      },
      "execution_count": 8,
      "outputs": []
    },
    {
      "cell_type": "code",
      "source": [
        "%%writefile model_configuration/v1.py\n",
        "\n",
        "device = 'cuda:0'\n",
        "\n",
        "lr = 0.1\n",
        "torch.manual_seed(42)\n",
        "\n",
        "model = nn.Sequential(nn.Linear(1,1)).to(device)\n",
        "\n",
        "optimizer = optim.SGD(model.parameters(),lr=lr)\n",
        "loss_fn = nn.MSELoss(reduction='mean')\n",
        "\n",
        "train_step = make_train_step(model, loss_fn, optimizer)"
      ],
      "metadata": {
        "colab": {
          "base_uri": "https://localhost:8080/"
        },
        "id": "XCbTlWEhy-zD",
        "outputId": "211ca61e-bb31-488e-ba8c-63f5050e8e43"
      },
      "execution_count": 9,
      "outputs": [
        {
          "output_type": "stream",
          "name": "stdout",
          "text": [
            "Overwriting model_configuration/v1.py\n"
          ]
        }
      ]
    },
    {
      "cell_type": "code",
      "source": [
        "%run -i model_configuration/v1.py"
      ],
      "metadata": {
        "id": "8QR358gBz0vr"
      },
      "execution_count": 10,
      "outputs": []
    },
    {
      "cell_type": "code",
      "source": [
        "train_step"
      ],
      "metadata": {
        "colab": {
          "base_uri": "https://localhost:8080/"
        },
        "id": "-Abeumeyz7yM",
        "outputId": "08071694-be0b-45fc-da9f-81da64a02c2b"
      },
      "execution_count": 11,
      "outputs": [
        {
          "output_type": "execute_result",
          "data": {
            "text/plain": [
              "<function __main__.make_train_step.<locals>.perform_train_step>"
            ]
          },
          "metadata": {},
          "execution_count": 11
        }
      ]
    },
    {
      "cell_type": "code",
      "source": [
        "%%writefile model_training/v1.py\n",
        "\n",
        "n_epochs = 1000\n",
        "\n",
        "losses = []\n",
        "\n",
        "for epoch in range(n_epochs):\n",
        "  loss = train_step(x_train_tensor, y_train_tensor)\n",
        "  losses.append(loss)"
      ],
      "metadata": {
        "colab": {
          "base_uri": "https://localhost:8080/"
        },
        "id": "2eTuS3LQ0Df1",
        "outputId": "b2b97092-26d1-4555-b572-68563710d863"
      },
      "execution_count": 12,
      "outputs": [
        {
          "output_type": "stream",
          "name": "stdout",
          "text": [
            "Overwriting model_training/v1.py\n"
          ]
        }
      ]
    },
    {
      "cell_type": "code",
      "source": [
        "%run -i model_training/v1.py"
      ],
      "metadata": {
        "id": "1usBePJp0Z8q"
      },
      "execution_count": 13,
      "outputs": []
    },
    {
      "cell_type": "code",
      "source": [
        "print(model.state_dict())"
      ],
      "metadata": {
        "colab": {
          "base_uri": "https://localhost:8080/"
        },
        "id": "saIr48pQ1G0B",
        "outputId": "ba638123-8407-4bd5-df40-7ab44bc2bc44"
      },
      "execution_count": 14,
      "outputs": [
        {
          "output_type": "stream",
          "name": "stdout",
          "text": [
            "OrderedDict([('0.weight', tensor([[1.9690]], device='cuda:0')), ('0.bias', tensor([1.0235], device='cuda:0'))])\n"
          ]
        }
      ]
    },
    {
      "cell_type": "markdown",
      "source": [
        "# building a data set"
      ],
      "metadata": {
        "id": "wFzd1b9f1Rej"
      }
    },
    {
      "cell_type": "code",
      "source": [
        "class CustomDataset(Dataset):\n",
        "  def __init__(self, x_tensor, y_tensor):\n",
        "    self.x = x_tensor\n",
        "    self.y = y_tensor\n",
        "    \n",
        "  def __getitem__(self,index):\n",
        "    return (self.x[index],self.y[index])\n",
        "  \n",
        "  def __len__(self):\n",
        "    return len(self.x)"
      ],
      "metadata": {
        "id": "6nLiRw-61Tg8"
      },
      "execution_count": 15,
      "outputs": []
    },
    {
      "cell_type": "code",
      "source": [
        "x_train_tensor = torch.as_tensor(x_train).float()\n",
        "y_train_tensor = torch.as_tensor(y_train).float()"
      ],
      "metadata": {
        "id": "EXhce90YCSD-"
      },
      "execution_count": 16,
      "outputs": []
    },
    {
      "cell_type": "code",
      "source": [
        "train_data= CustomDataset(x_train_tensor, y_train_tensor)"
      ],
      "metadata": {
        "id": "zlEgCDSRCkjB"
      },
      "execution_count": 17,
      "outputs": []
    },
    {
      "cell_type": "code",
      "source": [
        "print(train_data[0])"
      ],
      "metadata": {
        "colab": {
          "base_uri": "https://localhost:8080/"
        },
        "id": "XLFybkBCCydT",
        "outputId": "13493e40-4af7-4ce1-a6c5-181c6a755ea2"
      },
      "execution_count": 18,
      "outputs": [
        {
          "output_type": "stream",
          "name": "stdout",
          "text": [
            "(tensor([0.7713]), tensor([2.4745]))\n"
          ]
        }
      ]
    },
    {
      "cell_type": "code",
      "source": [
        "train_data.x.__getitem__(0)"
      ],
      "metadata": {
        "colab": {
          "base_uri": "https://localhost:8080/"
        },
        "id": "NURG6GpeFQpx",
        "outputId": "2115c96c-0713-43c4-e885-a85b53ebf149"
      },
      "execution_count": 19,
      "outputs": [
        {
          "output_type": "execute_result",
          "data": {
            "text/plain": [
              "tensor([0.7713])"
            ]
          },
          "metadata": {},
          "execution_count": 19
        }
      ]
    },
    {
      "cell_type": "code",
      "source": [
        "train_data.__getitem__(0)"
      ],
      "metadata": {
        "colab": {
          "base_uri": "https://localhost:8080/"
        },
        "id": "LL4IYqR4F3ao",
        "outputId": "75a1f9c0-9d84-4525-c955-26772f6aa72a"
      },
      "execution_count": 20,
      "outputs": [
        {
          "output_type": "execute_result",
          "data": {
            "text/plain": [
              "(tensor([0.7713]), tensor([2.4745]))"
            ]
          },
          "metadata": {},
          "execution_count": 20
        }
      ]
    },
    {
      "cell_type": "code",
      "source": [
        "train_data.__len__()"
      ],
      "metadata": {
        "colab": {
          "base_uri": "https://localhost:8080/"
        },
        "id": "vllp5s05FvYj",
        "outputId": "4d4bec44-fb1c-44f7-bece-3ee07cea4994"
      },
      "execution_count": 21,
      "outputs": [
        {
          "output_type": "execute_result",
          "data": {
            "text/plain": [
              "80"
            ]
          },
          "metadata": {},
          "execution_count": 21
        }
      ]
    },
    {
      "cell_type": "markdown",
      "source": [
        "# Tensor Dataset"
      ],
      "metadata": {
        "id": "Yia8G_J1F_eM"
      }
    },
    {
      "cell_type": "code",
      "source": [
        "train_data = TensorDataset(x_train_tensor, y_train_tensor)\n",
        "print(train_data[0])"
      ],
      "metadata": {
        "colab": {
          "base_uri": "https://localhost:8080/"
        },
        "id": "T77YUMrMF-vM",
        "outputId": "d0434138-ad43-4b15-b825-d34843a1438a"
      },
      "execution_count": 22,
      "outputs": [
        {
          "output_type": "stream",
          "name": "stdout",
          "text": [
            "(tensor([0.7713]), tensor([2.4745]))\n"
          ]
        }
      ]
    },
    {
      "cell_type": "markdown",
      "source": [
        "# Data Loader"
      ],
      "metadata": {
        "id": "AOr0StgoKstt"
      }
    },
    {
      "cell_type": "code",
      "source": [
        "train_loader = DataLoader(\n",
        "    dataset=train_data,\n",
        "    batch_size=16,\n",
        "    shuffle=True\n",
        ")"
      ],
      "metadata": {
        "id": "y7ZogdfrKu8p"
      },
      "execution_count": 23,
      "outputs": []
    },
    {
      "cell_type": "code",
      "source": [
        "next(iter(train_loader))"
      ],
      "metadata": {
        "colab": {
          "base_uri": "https://localhost:8080/"
        },
        "id": "NVCh50LsK5NL",
        "outputId": "348955b5-087e-4606-c1a7-06361b36f3b5"
      },
      "execution_count": 24,
      "outputs": [
        {
          "output_type": "execute_result",
          "data": {
            "text/plain": [
              "[tensor([[0.2809],\n",
              "         [0.3253],\n",
              "         [0.1560],\n",
              "         [0.5924],\n",
              "         [0.0651],\n",
              "         [0.8872],\n",
              "         [0.4938],\n",
              "         [0.0055],\n",
              "         [0.1409],\n",
              "         [0.0885],\n",
              "         [0.1849],\n",
              "         [0.7290],\n",
              "         [0.8662],\n",
              "         [0.3117],\n",
              "         [0.6842],\n",
              "         [0.1987]]), tensor([[1.5846],\n",
              "         [1.8057],\n",
              "         [1.2901],\n",
              "         [2.1687],\n",
              "         [1.1559],\n",
              "         [2.8708],\n",
              "         [1.9060],\n",
              "         [1.0632],\n",
              "         [1.1211],\n",
              "         [1.0708],\n",
              "         [1.5888],\n",
              "         [2.4927],\n",
              "         [2.6805],\n",
              "         [1.7637],\n",
              "         [2.3492],\n",
              "         [1.2654]])]"
            ]
          },
          "metadata": {},
          "execution_count": 24
        }
      ]
    },
    {
      "cell_type": "code",
      "source": [
        "list(train_loader)"
      ],
      "metadata": {
        "colab": {
          "base_uri": "https://localhost:8080/"
        },
        "id": "2U9qKGRhLDhq",
        "outputId": "f2f17a0e-63a8-4ef4-f5f2-b38175347027"
      },
      "execution_count": 25,
      "outputs": [
        {
          "output_type": "execute_result",
          "data": {
            "text/plain": [
              "[[tensor([[0.7852],\n",
              "          [0.8022],\n",
              "          [0.6075],\n",
              "          [0.1997],\n",
              "          [0.3309],\n",
              "          [0.6376],\n",
              "          [0.4722],\n",
              "          [0.2809],\n",
              "          [0.4938],\n",
              "          [0.5427],\n",
              "          [0.1560],\n",
              "          [0.1987],\n",
              "          [0.3745],\n",
              "          [0.0885],\n",
              "          [0.7320],\n",
              "          [0.8872]]), tensor([[2.5283],\n",
              "          [2.6229],\n",
              "          [2.4037],\n",
              "          [1.3651],\n",
              "          [1.5427],\n",
              "          [2.1930],\n",
              "          [1.9857],\n",
              "          [1.5846],\n",
              "          [1.9060],\n",
              "          [2.2161],\n",
              "          [1.2901],\n",
              "          [1.2654],\n",
              "          [1.7578],\n",
              "          [1.0708],\n",
              "          [2.4732],\n",
              "          [2.8708]])], [tensor([[0.6842],\n",
              "          [0.0452],\n",
              "          [0.1159],\n",
              "          [0.0055],\n",
              "          [0.3664],\n",
              "          [0.7751],\n",
              "          [0.7608],\n",
              "          [0.7132],\n",
              "          [0.8631],\n",
              "          [0.6011],\n",
              "          [0.1705],\n",
              "          [0.0344],\n",
              "          [0.9869],\n",
              "          [0.0651],\n",
              "          [0.2921],\n",
              "          [0.9696]]), tensor([[2.3492],\n",
              "          [0.9985],\n",
              "          [1.1603],\n",
              "          [1.0632],\n",
              "          [1.7093],\n",
              "          [2.4936],\n",
              "          [2.4970],\n",
              "          [2.6162],\n",
              "          [2.9128],\n",
              "          [2.1214],\n",
              "          [1.3585],\n",
              "          [1.1831],\n",
              "          [3.0520],\n",
              "          [1.1559],\n",
              "          [1.5848],\n",
              "          [2.8401]])], [tensor([[0.7713],\n",
              "          [0.9489],\n",
              "          [0.1818],\n",
              "          [0.2713],\n",
              "          [0.5248],\n",
              "          [0.4561],\n",
              "          [0.4952],\n",
              "          [0.8155],\n",
              "          [0.1849],\n",
              "          [0.9507],\n",
              "          [0.2588],\n",
              "          [0.5924],\n",
              "          [0.2123],\n",
              "          [0.9395],\n",
              "          [0.3110],\n",
              "          [0.9219]]), tensor([[2.4745],\n",
              "          [2.8903],\n",
              "          [1.3734],\n",
              "          [1.5105],\n",
              "          [2.0167],\n",
              "          [1.7706],\n",
              "          [1.8735],\n",
              "          [2.6606],\n",
              "          [1.5888],\n",
              "          [2.8715],\n",
              "          [1.5967],\n",
              "          [2.1687],\n",
              "          [1.4760],\n",
              "          [2.8890],\n",
              "          [1.5245],\n",
              "          [2.8506]])], [tensor([[0.0581],\n",
              "          [0.7081],\n",
              "          [0.7296],\n",
              "          [0.0636],\n",
              "          [0.1395],\n",
              "          [0.1220],\n",
              "          [0.8324],\n",
              "          [0.7290],\n",
              "          [0.0740],\n",
              "          [0.5613],\n",
              "          [0.8084],\n",
              "          [0.9699],\n",
              "          [0.4402],\n",
              "          [0.2912],\n",
              "          [0.1834],\n",
              "          [0.6233]]), tensor([[1.2640],\n",
              "          [2.3660],\n",
              "          [2.5751],\n",
              "          [1.1928],\n",
              "          [1.3051],\n",
              "          [1.2406],\n",
              "          [2.6119],\n",
              "          [2.4927],\n",
              "          [1.1713],\n",
              "          [2.0472],\n",
              "          [2.6141],\n",
              "          [2.9727],\n",
              "          [1.9105],\n",
              "          [1.4361],\n",
              "          [1.4637],\n",
              "          [2.2940]])], [tensor([[0.3117],\n",
              "          [0.1960],\n",
              "          [0.7722],\n",
              "          [0.8287],\n",
              "          [0.3252],\n",
              "          [0.0977],\n",
              "          [0.8948],\n",
              "          [0.0254],\n",
              "          [0.1196],\n",
              "          [0.5979],\n",
              "          [0.1409],\n",
              "          [0.8662],\n",
              "          [0.0206],\n",
              "          [0.3585],\n",
              "          [0.7069],\n",
              "          [0.3253]]), tensor([[1.7637],\n",
              "          [1.4393],\n",
              "          [2.4208],\n",
              "          [2.7388],\n",
              "          [1.7291],\n",
              "          [1.4417],\n",
              "          [2.7393],\n",
              "          [1.0785],\n",
              "          [1.3214],\n",
              "          [2.0407],\n",
              "          [1.1211],\n",
              "          [2.6805],\n",
              "          [1.1327],\n",
              "          [1.7462],\n",
              "          [2.4388],\n",
              "          [1.8057]])]]"
            ]
          },
          "metadata": {},
          "execution_count": 25
        }
      ]
    },
    {
      "cell_type": "code",
      "source": [
        "%%writefile data_preparation/v1.py\n",
        "\n",
        "x_train_tensor = torch.as_tensor(x_train).float()\n",
        "y_train_tensor = torch.as_tensor(y_train).float()\n",
        "\n",
        "train_data = TensorDataset(x_train_tensor, y_train_tensor)\n",
        "\n",
        "train_loader = DataLoader(\n",
        "    dataset = train_data,\n",
        "    batch_size = 16,\n",
        "    shuffle = True\n",
        ")"
      ],
      "metadata": {
        "colab": {
          "base_uri": "https://localhost:8080/"
        },
        "id": "q8L5myOSLPBg",
        "outputId": "434e6189-c656-435f-f546-1585d63b0d57"
      },
      "execution_count": 26,
      "outputs": [
        {
          "output_type": "stream",
          "name": "stdout",
          "text": [
            "Overwriting data_preparation/v1.py\n"
          ]
        }
      ]
    },
    {
      "cell_type": "code",
      "source": [
        "%run -i data_preparation/v1.py"
      ],
      "metadata": {
        "id": "QKDRyARuLsBq"
      },
      "execution_count": 27,
      "outputs": []
    },
    {
      "cell_type": "code",
      "source": [
        "%run -i model_configuration/v1.py"
      ],
      "metadata": {
        "id": "rUSGuOVbL2fw"
      },
      "execution_count": 28,
      "outputs": []
    },
    {
      "cell_type": "code",
      "source": [
        "%%writefile model_training/v2.py\n",
        "\n",
        "n_epochs = 1000\n",
        "losses = []\n",
        "\n",
        "for epoch in range(n_epochs):\n",
        "  mini_batch_losses = []\n",
        "\n",
        "  for x_batch, y_batch in train_loader:\n",
        "    x_batch = x_batch.to('cuda:0')\n",
        "    y_batch = y_batch.to('cuda:0')\n",
        "\n",
        "    mini_batch_loss = train_step(x_batch, y_batch)\n",
        "    mini_batch_losses.append(mini_batch_loss)\n",
        "  \n",
        "  loss = np.mean(mini_batch_losses)\n",
        "  losses.append(loss)"
      ],
      "metadata": {
        "colab": {
          "base_uri": "https://localhost:8080/"
        },
        "id": "1_06Zc_cL9oA",
        "outputId": "530bec30-29a8-4822-e113-409dde7858b5"
      },
      "execution_count": 29,
      "outputs": [
        {
          "output_type": "stream",
          "name": "stdout",
          "text": [
            "Overwriting model_training/v2.py\n"
          ]
        }
      ]
    },
    {
      "cell_type": "code",
      "source": [
        "%run -i model_training/v2.py"
      ],
      "metadata": {
        "id": "2ciMTn5oNAbz"
      },
      "execution_count": 30,
      "outputs": []
    },
    {
      "cell_type": "code",
      "source": [
        "print(model.state_dict())"
      ],
      "metadata": {
        "colab": {
          "base_uri": "https://localhost:8080/"
        },
        "id": "SpqSSN0YNNac",
        "outputId": "4daeffa6-8718-4311-dc35-35934452f85f"
      },
      "execution_count": 31,
      "outputs": [
        {
          "output_type": "stream",
          "name": "stdout",
          "text": [
            "OrderedDict([('0.weight', tensor([[1.9696]], device='cuda:0')), ('0.bias', tensor([1.0243], device='cuda:0'))])\n"
          ]
        }
      ]
    },
    {
      "cell_type": "code",
      "source": [
        "def mini_batch(device, data_loader, step):\n",
        "  mini_batch_losses = []\n",
        "\n",
        "  for x_batch, y_batch in data_loader:\n",
        "    x_batch = x_batch.to(device)\n",
        "    y_batch = y_batch.to(device)\n",
        "\n",
        "    mini_batch_loss = step(x_batch, y_batch)\n",
        "    mini_batch_losses.append(mini_batch_loss)\n",
        "  \n",
        "  loss = np.mean(mini_batch_losses)\n",
        "  return loss"
      ],
      "metadata": {
        "id": "Q7jtpSgbNyjz"
      },
      "execution_count": 32,
      "outputs": []
    },
    {
      "cell_type": "code",
      "source": [
        "%%writefile model_training/v3.py\n",
        "\n",
        "n_epochs = 200\n",
        "\n",
        "losses = []\n",
        "\n",
        "for epoch in range(n_epochs):\n",
        "  loss = mini_batch(device, train_loader, train_step)\n",
        "  losses.append(loss)"
      ],
      "metadata": {
        "colab": {
          "base_uri": "https://localhost:8080/"
        },
        "id": "BTz4YnDwOWQL",
        "outputId": "5911eae1-044d-47f2-ff1f-ce879efe9084"
      },
      "execution_count": 33,
      "outputs": [
        {
          "output_type": "stream",
          "name": "stdout",
          "text": [
            "Overwriting model_training/v3.py\n"
          ]
        }
      ]
    },
    {
      "cell_type": "code",
      "source": [
        "%run -i model_training/v3.py"
      ],
      "metadata": {
        "id": "crUSWgTAOoLf"
      },
      "execution_count": 34,
      "outputs": []
    },
    {
      "cell_type": "code",
      "source": [
        "print(model.state_dict())"
      ],
      "metadata": {
        "colab": {
          "base_uri": "https://localhost:8080/"
        },
        "id": "Na1ScvOWOzmv",
        "outputId": "c0bda103-2136-4f07-adcd-0fe2ce41d2ba"
      },
      "execution_count": 35,
      "outputs": [
        {
          "output_type": "stream",
          "name": "stdout",
          "text": [
            "OrderedDict([('0.weight', tensor([[1.9696]], device='cuda:0')), ('0.bias', tensor([1.0260], device='cuda:0'))])\n"
          ]
        }
      ]
    },
    {
      "cell_type": "markdown",
      "source": [
        "# Random split"
      ],
      "metadata": {
        "id": "GnVt7akGnLjM"
      }
    },
    {
      "cell_type": "code",
      "source": [
        "%%writefile data_preparation/v2.py\n",
        "\n",
        "torch.manual_seed(42)\n",
        "\n",
        "x_tensor = torch.as_tensor(x).float()\n",
        "y_tensor = torch.as_tensor(y).float()\n",
        "\n",
        "dataset = TensorDataset(x_tensor, y_tensor)\n",
        "\n",
        "ratio = 0.8\n",
        "\n",
        "n_total = len(dataset)\n",
        "n_train = int(n_total * ratio)\n",
        "n_val = n_total - n_train\n",
        "\n",
        "train_data, val_data = random_split(dataset, [n_train, n_val])\n",
        "\n",
        "train_loader = DataLoader(\n",
        "    dataset = train_data,\n",
        "    batch_size = 16,\n",
        "    shuffle = True\n",
        ")\n",
        "\n",
        "val_loader = DataLoader(\n",
        "    dataset = val_data, \n",
        "    batch_size = 16\n",
        ")\n"
      ],
      "metadata": {
        "colab": {
          "base_uri": "https://localhost:8080/"
        },
        "id": "SloBXWnfnNAt",
        "outputId": "0515ea10-93c7-49a0-b99d-dce363e389f8"
      },
      "execution_count": 36,
      "outputs": [
        {
          "output_type": "stream",
          "name": "stdout",
          "text": [
            "Writing data_preparation/v2.py\n"
          ]
        }
      ]
    },
    {
      "cell_type": "code",
      "source": [
        "%run -i data_preparation/v2.py"
      ],
      "metadata": {
        "id": "2jHaWji9oK2i"
      },
      "execution_count": 37,
      "outputs": []
    }
  ]
}