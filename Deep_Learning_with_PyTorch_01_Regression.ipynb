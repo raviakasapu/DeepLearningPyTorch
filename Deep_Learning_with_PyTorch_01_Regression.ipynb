{
  "nbformat": 4,
  "nbformat_minor": 0,
  "metadata": {
    "colab": {
      "name": "Deep_Learning_with_PyTorch_01_Regression",
      "provenance": [],
      "collapsed_sections": [],
      "authorship_tag": "ABX9TyMDVGtXtW+8ODUmLzMim8Uc",
      "include_colab_link": true
    },
    "kernelspec": {
      "name": "python3",
      "display_name": "Python 3"
    },
    "language_info": {
      "name": "python"
    }
  },
  "cells": [
    {
      "cell_type": "markdown",
      "metadata": {
        "id": "view-in-github",
        "colab_type": "text"
      },
      "source": [
        "<a href=\"https://colab.research.google.com/github/raviakasapu/DeepLearningPyTorch/blob/main/Deep_Learning_with_PyTorch_01_Regression.ipynb\" target=\"_parent\"><img src=\"https://colab.research.google.com/assets/colab-badge.svg\" alt=\"Open In Colab\"/></a>"
      ]
    },
    {
      "cell_type": "markdown",
      "source": [
        "## Deep Learning with PyTorch - Chapteer 01\n",
        "A simple Regression Problem\n",
        "\n"
      ],
      "metadata": {
        "id": "hpNQO_FnCHOa"
      }
    },
    {
      "cell_type": "markdown",
      "source": [
        "code examples from https://github.com/dvgodoy/PyTorchStepByStep/blob/master/Chapter01.ipynb"
      ],
      "metadata": {
        "id": "wQcEWdBNCp-i"
      }
    },
    {
      "cell_type": "code",
      "source": [
        "import numpy as np\n",
        "from sklearn.linear_model import LinearRegression\n",
        "\n",
        "import torch\n",
        "import torch.optim as optim\n",
        "import torch.nn as nn\n"
      ],
      "metadata": {
        "id": "l7MDcpyxCV54"
      },
      "execution_count": 2,
      "outputs": []
    },
    {
      "cell_type": "code",
      "source": [
        "# Install torchviz from git repository\n",
        "%pip install -U git+https://github.com/szagoruyko/pytorchviz.git@master"
      ],
      "metadata": {
        "colab": {
          "base_uri": "https://localhost:8080/"
        },
        "id": "gs5MHI4TEBJo",
        "outputId": "09d54d45-5fab-4908-d8bb-7c66b466e077"
      },
      "execution_count": 3,
      "outputs": [
        {
          "output_type": "stream",
          "name": "stdout",
          "text": [
            "Collecting git+https://github.com/szagoruyko/pytorchviz.git@master\n",
            "  Cloning https://github.com/szagoruyko/pytorchviz.git (to revision master) to /tmp/pip-req-build-qt54fyt_\n",
            "  Running command git clone -q https://github.com/szagoruyko/pytorchviz.git /tmp/pip-req-build-qt54fyt_\n",
            "Requirement already satisfied: torch in /usr/local/lib/python3.7/dist-packages (from torchviz==0.0.2) (1.11.0+cu113)\n",
            "Requirement already satisfied: graphviz in /usr/local/lib/python3.7/dist-packages (from torchviz==0.0.2) (0.10.1)\n",
            "Requirement already satisfied: typing-extensions in /usr/local/lib/python3.7/dist-packages (from torch->torchviz==0.0.2) (4.2.0)\n",
            "Building wheels for collected packages: torchviz\n",
            "  Building wheel for torchviz (setup.py) ... \u001b[?25l\u001b[?25hdone\n",
            "  Created wheel for torchviz: filename=torchviz-0.0.2-py3-none-any.whl size=4990 sha256=4d855466207f7a2cea1b1157b805b832eaabaa84ea2201d2da55c916b3742c04\n",
            "  Stored in directory: /tmp/pip-ephem-wheel-cache-8eoaw3ue/wheels/69/06/fd/652908d49c931cdcca96be3c727fb11ed777a3a62402210396\n",
            "Successfully built torchviz\n",
            "Installing collected packages: torchviz\n",
            "Successfully installed torchviz-0.0.2\n"
          ]
        }
      ]
    },
    {
      "cell_type": "code",
      "source": [
        "from torchviz import make_dot"
      ],
      "metadata": {
        "id": "sbJrkD_NEEPI"
      },
      "execution_count": 4,
      "outputs": []
    },
    {
      "cell_type": "code",
      "source": [
        "import matplotlib.pyplot as plt\n",
        "plt.style.use('fivethirtyeight')\n",
        "\n",
        "from mpl_toolkits.mplot3d import Axes3D"
      ],
      "metadata": {
        "id": "_xJajYs_PntD"
      },
      "execution_count": 24,
      "outputs": []
    },
    {
      "cell_type": "code",
      "source": [
        "true_b = 1\n",
        "true_w = 2\n",
        "\n",
        "n = 100"
      ],
      "metadata": {
        "id": "qJkSFV1fFI4S"
      },
      "execution_count": 29,
      "outputs": []
    },
    {
      "cell_type": "code",
      "source": [
        "np.random.seed(42)\n",
        "x = np.random.rand(n,1)\n",
        "e = (0.1 * np.random.rand(n,1))\n",
        "y = true_b + true_w*x + e"
      ],
      "metadata": {
        "id": "wTRoNJuMFOBf"
      },
      "execution_count": 30,
      "outputs": []
    },
    {
      "cell_type": "code",
      "source": [
        "x[0:5]"
      ],
      "metadata": {
        "colab": {
          "base_uri": "https://localhost:8080/"
        },
        "id": "bTSGFUr6FkDy",
        "outputId": "90da9e3d-af5c-4c72-e8c8-ff51e8d41bb6"
      },
      "execution_count": 31,
      "outputs": [
        {
          "output_type": "execute_result",
          "data": {
            "text/plain": [
              "array([[0.37454012],\n",
              "       [0.95071431],\n",
              "       [0.73199394],\n",
              "       [0.59865848],\n",
              "       [0.15601864]])"
            ]
          },
          "metadata": {},
          "execution_count": 31
        }
      ]
    },
    {
      "cell_type": "code",
      "source": [
        "idx = np.arange(n)\n",
        "idx[0:5]"
      ],
      "metadata": {
        "colab": {
          "base_uri": "https://localhost:8080/"
        },
        "id": "tU2RfF_oFmfm",
        "outputId": "85225153-1fea-4999-9e99-64a354ef6bf2"
      },
      "execution_count": 32,
      "outputs": [
        {
          "output_type": "execute_result",
          "data": {
            "text/plain": [
              "array([0, 1, 2, 3, 4])"
            ]
          },
          "metadata": {},
          "execution_count": 32
        }
      ]
    },
    {
      "cell_type": "code",
      "source": [
        "np.random.shuffle(idx)\n",
        "idx[0:5]"
      ],
      "metadata": {
        "colab": {
          "base_uri": "https://localhost:8080/"
        },
        "id": "lxuZqa2YFqjZ",
        "outputId": "a09adf3c-56a1-4d76-9e25-daac2783b6d2"
      },
      "execution_count": 33,
      "outputs": [
        {
          "output_type": "execute_result",
          "data": {
            "text/plain": [
              "array([96, 11, 54, 51, 41])"
            ]
          },
          "metadata": {},
          "execution_count": 33
        }
      ]
    },
    {
      "cell_type": "code",
      "source": [
        "idx.shape"
      ],
      "metadata": {
        "colab": {
          "base_uri": "https://localhost:8080/"
        },
        "id": "CnD2UKRSGCU4",
        "outputId": "57891778-b6ae-492b-c188-6e7387957974"
      },
      "execution_count": 34,
      "outputs": [
        {
          "output_type": "execute_result",
          "data": {
            "text/plain": [
              "(100,)"
            ]
          },
          "metadata": {},
          "execution_count": 34
        }
      ]
    },
    {
      "cell_type": "code",
      "source": [
        "train_idx = idx[:int(n*0.8)]\n",
        "val_idx = idx[int(n*0.8):]"
      ],
      "metadata": {
        "id": "wzr3os7-FyIz"
      },
      "execution_count": 35,
      "outputs": []
    },
    {
      "cell_type": "code",
      "source": [
        "# Generates train and validation sets\n",
        "x_train, y_train = x[train_idx], y[train_idx]\n",
        "x_val, y_val = x[val_idx], y[val_idx]"
      ],
      "metadata": {
        "id": "jwuq1R1vGU-_"
      },
      "execution_count": 36,
      "outputs": []
    },
    {
      "cell_type": "code",
      "source": [
        "def figure1(x_train, y_train, x_val, y_val):\n",
        "    fig, ax = plt.subplots(1, 2, figsize=(16, 8))\n",
        "    \n",
        "    ax[0].scatter(x_train, y_train)\n",
        "    ax[0].set_xlabel('x')\n",
        "    ax[0].set_ylabel('y')\n",
        "    ax[0].set_ylim([0, 3.1])\n",
        "    ax[0].set_title('Generated Data - Train')\n",
        "\n",
        "    ax[1].scatter(x_val, y_val, c='r')\n",
        "    ax[1].set_xlabel('x')\n",
        "    ax[1].set_ylabel('y')\n",
        "    ax[1].set_ylim([0, 3.1])\n",
        "    ax[1].set_title('Generated Data - Validation')\n",
        "    fig.tight_layout()\n",
        "    \n",
        "    return fig, ax"
      ],
      "metadata": {
        "id": "KtiqE9vFPXrL"
      },
      "execution_count": 37,
      "outputs": []
    },
    {
      "cell_type": "code",
      "source": [
        "figure1(x_train, y_train, x_val, y_val)"
      ],
      "metadata": {
        "colab": {
          "base_uri": "https://localhost:8080/",
          "height": 590
        },
        "id": "T4ZI-dQfPdsQ",
        "outputId": "28bbf856-9bc0-4e24-a19f-80ff30e4cd07"
      },
      "execution_count": 38,
      "outputs": [
        {
          "output_type": "execute_result",
          "data": {
            "text/plain": [
              "(<Figure size 1152x576 with 2 Axes>,\n",
              " array([<matplotlib.axes._subplots.AxesSubplot object at 0x7f4b9a30ed10>,\n",
              "        <matplotlib.axes._subplots.AxesSubplot object at 0x7f4b9a2a8690>],\n",
              "       dtype=object))"
            ]
          },
          "metadata": {},
          "execution_count": 38
        },
        {
          "output_type": "display_data",
          "data": {
            "text/plain": [
              "<Figure size 1152x576 with 2 Axes>"
            ],
            "image/png": "[encoded data removed]"
          },
          "metadata": {}
        }
      ]
    },
    {
      "cell_type": "markdown",
      "source": [
        "# step 0 --> random initialization"
      ],
      "metadata": {
        "id": "5q1runK7QXIc"
      }
    },
    {
      "cell_type": "code",
      "source": [
        "np.random.seed(42)\n",
        "b = np.random.randn(1)\n",
        "w = np.random.randn(1)\n",
        "\n",
        "print(b,w)"
      ],
      "metadata": {
        "colab": {
          "base_uri": "https://localhost:8080/"
        },
        "id": "Av0WmaidQZ3P",
        "outputId": "68f92c14-a68b-41d9-f138-a39bd13a66dd"
      },
      "execution_count": 39,
      "outputs": [
        {
          "output_type": "stream",
          "name": "stdout",
          "text": [
            "[0.49671415] [-0.1382643]\n"
          ]
        }
      ]
    },
    {
      "cell_type": "markdown",
      "source": [
        "# step 1 --> model's prediction"
      ],
      "metadata": {
        "id": "5sWEnnHPQkvE"
      }
    },
    {
      "cell_type": "code",
      "source": [
        "yhat = b + w * x_train\n",
        "yhat[0:5]"
      ],
      "metadata": {
        "colab": {
          "base_uri": "https://localhost:8080/"
        },
        "id": "QUdJTdlzQkIJ",
        "outputId": "3537b00b-866b-4674-989f-f3f690485e1d"
      },
      "execution_count": 41,
      "outputs": [
        {
          "output_type": "execute_result",
          "data": {
            "text/plain": [
              "array([[0.42443886],\n",
              "       [0.36261025],\n",
              "       [0.41404593],\n",
              "       [0.38954095],\n",
              "       [0.42824886]])"
            ]
          },
          "metadata": {},
          "execution_count": 41
        }
      ]
    },
    {
      "cell_type": "markdown",
      "source": [
        "# step 2 --> compute the loss"
      ],
      "metadata": {
        "id": "zr1cBpneQ-zW"
      }
    },
    {
      "cell_type": "code",
      "source": [
        "error = (yhat-y_train)"
      ],
      "metadata": {
        "id": "iACN4kovRCLz"
      },
      "execution_count": 42,
      "outputs": []
    },
    {
      "cell_type": "code",
      "source": [
        "loss = (error **2).mean()\n",
        "loss"
      ],
      "metadata": {
        "colab": {
          "base_uri": "https://localhost:8080/"
        },
        "id": "yBqb7z4NRG1c",
        "outputId": "89088402-5624-4776-abdf-0dca8c3c76e3"
      },
      "execution_count": 43,
      "outputs": [
        {
          "output_type": "execute_result",
          "data": {
            "text/plain": [
              "2.808129216295391"
            ]
          },
          "metadata": {},
          "execution_count": 43
        }
      ]
    },
    {
      "cell_type": "markdown",
      "source": [
        "# step 3 --> compute the gradients"
      ],
      "metadata": {
        "id": "9o2uwGwrRTxO"
      }
    },
    {
      "cell_type": "code",
      "source": [
        "b_grad = 2 * error.mean()\n",
        "w_grad = 2 * (x_train*error).mean()\n",
        "b_grad,w_grad"
      ],
      "metadata": {
        "colab": {
          "base_uri": "https://localhost:8080/"
        },
        "id": "4i0e5vAsRWYr",
        "outputId": "019cc9e5-dc8c-466b-d2ce-cdfe79e1d3a5"
      },
      "execution_count": 44,
      "outputs": [
        {
          "output_type": "execute_result",
          "data": {
            "text/plain": [
              "(-3.108262701823821, -1.8206663430690853)"
            ]
          },
          "metadata": {},
          "execution_count": 44
        }
      ]
    },
    {
      "cell_type": "markdown",
      "source": [
        "# step 4 --> updat the parameters"
      ],
      "metadata": {
        "id": "QIFjey60RlVo"
      }
    },
    {
      "cell_type": "code",
      "source": [
        "lr = 0.1\n",
        "print(b, w)\n",
        "\n",
        "b = b -lr * b_grad\n",
        "w = w- lr * w_grad\n",
        "print(b,w)"
      ],
      "metadata": {
        "colab": {
          "base_uri": "https://localhost:8080/"
        },
        "id": "rrqNyn24RnvU",
        "outputId": "18e4db38-344b-425a-95ce-fd404ebe5865"
      },
      "execution_count": 45,
      "outputs": [
        {
          "output_type": "stream",
          "name": "stdout",
          "text": [
            "[0.49671415] [-0.1382643]\n",
            "[0.80754042] [0.04380233]\n"
          ]
        }
      ]
    }
  ]
}