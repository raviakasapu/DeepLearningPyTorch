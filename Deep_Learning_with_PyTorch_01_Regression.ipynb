{
  "nbformat": 4,
  "nbformat_minor": 0,
  "metadata": {
    "colab": {
      "name": "Deep_Learning_with_PyTorch_01_Regression",
      "provenance": [],
      "collapsed_sections": [],
      "authorship_tag": "ABX9TyN0/9HpPupSTgS8pJeFcs78",
      "include_colab_link": true
    },
    "kernelspec": {
      "name": "python3",
      "display_name": "Python 3"
    },
    "language_info": {
      "name": "python"
    }
  },
  "cells": [
    {
      "cell_type": "markdown",
      "metadata": {
        "id": "view-in-github",
        "colab_type": "text"
      },
      "source": [
        "<a href=\"https://colab.research.google.com/github/raviakasapu/DeepLearningPyTorch/blob/main/Deep_Learning_with_PyTorch_01_Regression.ipynb\" target=\"_parent\"><img src=\"https://colab.research.google.com/assets/colab-badge.svg\" alt=\"Open In Colab\"/></a>"
      ]
    },
    {
      "cell_type": "markdown",
      "source": [
        "## Deep Learning with PyTorch - Chapteer 01\n",
        "A simple Regression Problem\n",
        "\n"
      ],
      "metadata": {
        "id": "hpNQO_FnCHOa"
      }
    },
    {
      "cell_type": "markdown",
      "source": [
        "code examples from https://github.com/dvgodoy/PyTorchStepByStep/blob/master/Chapter01.ipynb"
      ],
      "metadata": {
        "id": "wQcEWdBNCp-i"
      }
    },
    {
      "cell_type": "code",
      "source": [
        "import numpy as np\n",
        "from sklearn.linear_model import LinearRegression\n",
        "\n",
        "import torch\n",
        "import torch.optim as optim\n",
        "import torch.nn as nn\n"
      ],
      "metadata": {
        "id": "l7MDcpyxCV54"
      },
      "execution_count": null,
      "outputs": []
    },
    {
      "cell_type": "code",
      "source": [
        "# Install torchviz from git repository\n",
        "%pip install -U git+https://github.com/szagoruyko/pytorchviz.git@master"
      ],
      "metadata": {
        "colab": {
          "base_uri": "https://localhost:8080/"
        },
        "id": "gs5MHI4TEBJo",
        "outputId": "09d54d45-5fab-4908-d8bb-7c66b466e077"
      },
      "execution_count": null,
      "outputs": [
        {
          "output_type": "stream",
          "name": "stdout",
          "text": [
            "Collecting git+https://github.com/szagoruyko/pytorchviz.git@master\n",
            "  Cloning https://github.com/szagoruyko/pytorchviz.git (to revision master) to /tmp/pip-req-build-qt54fyt_\n",
            "  Running command git clone -q https://github.com/szagoruyko/pytorchviz.git /tmp/pip-req-build-qt54fyt_\n",
            "Requirement already satisfied: torch in /usr/local/lib/python3.7/dist-packages (from torchviz==0.0.2) (1.11.0+cu113)\n",
            "Requirement already satisfied: graphviz in /usr/local/lib/python3.7/dist-packages (from torchviz==0.0.2) (0.10.1)\n",
            "Requirement already satisfied: typing-extensions in /usr/local/lib/python3.7/dist-packages (from torch->torchviz==0.0.2) (4.2.0)\n",
            "Building wheels for collected packages: torchviz\n",
            "  Building wheel for torchviz (setup.py) ... \u001b[?25l\u001b[?25hdone\n",
            "  Created wheel for torchviz: filename=torchviz-0.0.2-py3-none-any.whl size=4990 sha256=4d855466207f7a2cea1b1157b805b832eaabaa84ea2201d2da55c916b3742c04\n",
            "  Stored in directory: /tmp/pip-ephem-wheel-cache-8eoaw3ue/wheels/69/06/fd/652908d49c931cdcca96be3c727fb11ed777a3a62402210396\n",
            "Successfully built torchviz\n",
            "Installing collected packages: torchviz\n",
            "Successfully installed torchviz-0.0.2\n"
          ]
        }
      ]
    },
    {
      "cell_type": "code",
      "source": [
        "from torchviz import make_dot"
      ],
      "metadata": {
        "id": "sbJrkD_NEEPI"
      },
      "execution_count": null,
      "outputs": []
    },
    {
      "cell_type": "code",
      "source": [
        "import matplotlib.pyplot as plt\n",
        "plt.style.use('fivethirtyeight')\n",
        "\n",
        "from mpl_toolkits.mplot3d import Axes3D"
      ],
      "metadata": {
        "id": "_xJajYs_PntD"
      },
      "execution_count": null,
      "outputs": []
    },
    {
      "cell_type": "code",
      "source": [
        "true_b = 1\n",
        "true_w = 2\n",
        "\n",
        "n= 100\n",
        "\n",
        "#random data generation\n",
        "np.random.seed(42)\n",
        "x = np.random.rand(n,1)\n",
        "\n",
        "e = (0.1 * np.random.randn(n,1))\n",
        "\n",
        "# linear equation\n",
        "y = true_b + true_w * x + e"
      ],
      "metadata": {
        "id": "1D4YluIqYSkl"
      },
      "execution_count": null,
      "outputs": []
    },
    {
      "cell_type": "code",
      "source": [
        "idx = np.arange(n)\n",
        "np.random.shuffle(idx)"
      ],
      "metadata": {
        "id": "tU2RfF_oFmfm"
      },
      "execution_count": null,
      "outputs": []
    },
    {
      "cell_type": "code",
      "source": [
        "train_idx = idx[:int(n*0.8)]\n",
        "val_idx = idx[int(n*0.8):]"
      ],
      "metadata": {
        "id": "wzr3os7-FyIz"
      },
      "execution_count": null,
      "outputs": []
    },
    {
      "cell_type": "code",
      "source": [
        "# Generates train and validation sets\n",
        "x_train, y_train = x[train_idx], y[train_idx]\n",
        "x_val, y_val = x[val_idx], y[val_idx]"
      ],
      "metadata": {
        "id": "jwuq1R1vGU-_"
      },
      "execution_count": null,
      "outputs": []
    },
    {
      "cell_type": "code",
      "source": [
        "def figure1(x_train, y_train, x_val, y_val):\n",
        "    fig, ax = plt.subplots(1, 2, figsize=(16, 8))\n",
        "    \n",
        "    ax[0].scatter(x_train, y_train)\n",
        "    ax[0].set_xlabel('x')\n",
        "    ax[0].set_ylabel('y')\n",
        "    ax[0].set_ylim([0, 3.1])\n",
        "    ax[0].set_title('Generated Data - Train')\n",
        "\n",
        "    ax[1].scatter(x_val, y_val, c='r')\n",
        "    ax[1].set_xlabel('x')\n",
        "    ax[1].set_ylabel('y')\n",
        "    ax[1].set_ylim([0, 3.1])\n",
        "    ax[1].set_title('Generated Data - Validation')\n",
        "    fig.tight_layout()\n",
        "    \n",
        "    return fig, ax"
      ],
      "metadata": {
        "id": "KtiqE9vFPXrL"
      },
      "execution_count": null,
      "outputs": []
    },
    {
      "cell_type": "code",
      "source": [
        "figure1(x_train, y_train, x_val, y_val)"
      ],
      "metadata": {
        "colab": {
          "base_uri": "https://localhost:8080/",
          "height": 540
        },
        "id": "T4ZI-dQfPdsQ",
        "outputId": "8d55ae7b-8f4e-4858-9ec9-be27c840c908"
      },
      "execution_count": null,
      "outputs": [
        {
          "output_type": "execute_result",
          "data": {
            "text/plain": [
              "(<Figure size 1152x576 with 2 Axes>,\n",
              " array([<matplotlib.axes._subplots.AxesSubplot object at 0x7f4b99d026d0>,\n",
              "        <matplotlib.axes._subplots.AxesSubplot object at 0x7f4b99caf0d0>],\n",
              "       dtype=object))"
            ]
          },
          "metadata": {},
          "execution_count": 87
        },
        {
          "output_type": "display_data",
          "data": {
            "text/plain": [
              "<Figure size 1152x576 with 2 Axes>"
            ],
            "image/png": "[encoded data removed]"
          },
          "metadata": {}
        }
      ]
    },
    {
      "cell_type": "markdown",
      "source": [
        "# step 0 --> random initialization"
      ],
      "metadata": {
        "id": "5q1runK7QXIc"
      }
    },
    {
      "cell_type": "code",
      "source": [
        "np.random.seed(42)\n",
        "b = np.random.randn(1)\n",
        "w = np.random.randn(1)\n",
        "\n",
        "print(b,w)"
      ],
      "metadata": {
        "colab": {
          "base_uri": "https://localhost:8080/"
        },
        "id": "Av0WmaidQZ3P",
        "outputId": "0c6fdb67-532e-4bb1-a042-d568267b52a3"
      },
      "execution_count": null,
      "outputs": [
        {
          "output_type": "stream",
          "name": "stdout",
          "text": [
            "[0.49671415] [-0.1382643]\n"
          ]
        }
      ]
    },
    {
      "cell_type": "markdown",
      "source": [
        "# step 1 --> model's prediction"
      ],
      "metadata": {
        "id": "5sWEnnHPQkvE"
      }
    },
    {
      "cell_type": "code",
      "source": [
        "yhat = b + w * x_train\n",
        "yhat[0:5]"
      ],
      "metadata": {
        "colab": {
          "base_uri": "https://localhost:8080/"
        },
        "id": "QUdJTdlzQkIJ",
        "outputId": "68f48f56-56e2-4593-e9af-b0ca7a222472"
      },
      "execution_count": null,
      "outputs": [
        {
          "output_type": "execute_result",
          "data": {
            "text/plain": [
              "array([[0.390075  ],\n",
              "       [0.4879263 ],\n",
              "       [0.37737776],\n",
              "       [0.4931996 ],\n",
              "       [0.39550552]])"
            ]
          },
          "metadata": {},
          "execution_count": 89
        }
      ]
    },
    {
      "cell_type": "markdown",
      "source": [
        "# step 2 --> compute the loss"
      ],
      "metadata": {
        "id": "zr1cBpneQ-zW"
      }
    },
    {
      "cell_type": "code",
      "source": [
        "error = (yhat-y_train)"
      ],
      "metadata": {
        "id": "iACN4kovRCLz"
      },
      "execution_count": null,
      "outputs": []
    },
    {
      "cell_type": "code",
      "source": [
        "loss = (error **2).mean()\n",
        "loss"
      ],
      "metadata": {
        "colab": {
          "base_uri": "https://localhost:8080/"
        },
        "id": "yBqb7z4NRG1c",
        "outputId": "85c43059-02f6-4d42-b605-7b902d635506"
      },
      "execution_count": null,
      "outputs": [
        {
          "output_type": "execute_result",
          "data": {
            "text/plain": [
              "2.7421577700550976"
            ]
          },
          "metadata": {},
          "execution_count": 91
        }
      ]
    },
    {
      "cell_type": "markdown",
      "source": [
        "# step 3 --> compute the gradients"
      ],
      "metadata": {
        "id": "9o2uwGwrRTxO"
      }
    },
    {
      "cell_type": "code",
      "source": [
        "b_grad = 2 * error.mean()\n",
        "w_grad = 2 * (x_train*error).mean()\n",
        "b_grad,w_grad"
      ],
      "metadata": {
        "colab": {
          "base_uri": "https://localhost:8080/"
        },
        "id": "4i0e5vAsRWYr",
        "outputId": "3adeb720-f365-4544-efbe-c7784646a940"
      },
      "execution_count": null,
      "outputs": [
        {
          "output_type": "execute_result",
          "data": {
            "text/plain": [
              "(-3.044811379650508, -1.8337537171510832)"
            ]
          },
          "metadata": {},
          "execution_count": 92
        }
      ]
    },
    {
      "cell_type": "markdown",
      "source": [
        "# step 4 --> updat the parameters"
      ],
      "metadata": {
        "id": "QIFjey60RlVo"
      }
    },
    {
      "cell_type": "code",
      "source": [
        "lr = 0.1\n",
        "print(b, w)\n",
        "\n",
        "b = b -lr * b_grad\n",
        "w = w- lr * w_grad\n",
        "print(b,w)"
      ],
      "metadata": {
        "colab": {
          "base_uri": "https://localhost:8080/"
        },
        "id": "rrqNyn24RnvU",
        "outputId": "79ac89fe-2d9f-49b1-aec3-52fe97b722ee"
      },
      "execution_count": null,
      "outputs": [
        {
          "output_type": "stream",
          "name": "stdout",
          "text": [
            "[0.49671415] [-0.1382643]\n",
            "[0.80119529] [0.04511107]\n"
          ]
        }
      ]
    },
    {
      "cell_type": "markdown",
      "source": [
        "# using a function and Numpy"
      ],
      "metadata": {
        "id": "GXu7lo3eU756"
      }
    },
    {
      "cell_type": "code",
      "source": [
        "np.random.seed(42)\n",
        "b = np.random.randn(1)\n",
        "w = np.random.randn(1)\n",
        "\n",
        "print(b,w)\n",
        "\n",
        "lr = 0.1\n",
        "n_epochs = 1000\n",
        "\n",
        "for epoch in range(n_epochs):\n",
        "  yhat = b + w * x_train\n",
        "\n",
        "  error = (yhat - y_train)\n",
        "  loss = (error ** 2 ).mean()\n",
        "\n",
        "  b_grad = 2 * error.mean()\n",
        "  w_grad = 2 * (x_train * error).mean()\n",
        "\n",
        "  b = b - lr * b_grad\n",
        "  w = w - lr * w_grad\n",
        "\n",
        "print(b,w)"
      ],
      "metadata": {
        "colab": {
          "base_uri": "https://localhost:8080/"
        },
        "id": "dZbwPGcbU5mx",
        "outputId": "4ef02f36-0fc4-48ef-b3c7-6d8ea9812c42"
      },
      "execution_count": null,
      "outputs": [
        {
          "output_type": "stream",
          "name": "stdout",
          "text": [
            "[0.49671415] [-0.1382643]\n",
            "[1.02354094] [1.96896411]\n"
          ]
        }
      ]
    },
    {
      "cell_type": "code",
      "source": [
        "def fit_model(x_train, y_train):\n",
        "    # Fits a linear regression to find the actual b and w that minimize the loss\n",
        "    regression = LinearRegression()\n",
        "    regression.fit(x_train, y_train)\n",
        "    b_minimum, w_minimum = regression.intercept_[0], regression.coef_[0][0]\n",
        "    return b_minimum, w_minimum"
      ],
      "metadata": {
        "id": "D4BTwUlTXDjJ"
      },
      "execution_count": null,
      "outputs": []
    },
    {
      "cell_type": "code",
      "source": [
        "fig, ax = plt.subplots(1, 1, figsize=(6, 6))\n",
        "ax.set_xlabel('x')\n",
        "ax.set_ylabel('y')\n",
        "ax.set_ylim([0, 3.1])\n",
        "\n",
        "# Dataset\n",
        "ax.scatter(x_train, y_train)\n",
        "fig.tight_layout()\n",
        "\n",
        "x_range = np.linspace(0, 1, 101)\n",
        "\n",
        "regression = LinearRegression()\n",
        "regression.fit(x_train, y_train)\n",
        "b_minimum, w_minimum = regression.intercept_[0], regression.coef_[0][0]\n",
        "\n",
        "yhat_range = b_minimum + w_minimum * x_range\n",
        "ax.plot(x_range, yhat_range, label='Final model\\'s predictions', c='k', linestyle=':')\n",
        "ax.annotate('b = {:.4f} w = {:.4f}'.format(b_minimum, w_minimum), xy=(.4, 1.5), c='k', rotation=34)\n",
        "\n",
        "yhat_pred = b + w * x_range\n",
        "ax.plot(x_range, yhat_pred, label='Final model\\'s predictions', c='k', linestyle='--',color='r')\n",
        "ax.annotate('b = {:.4f} w = {:.4f}'.format(b[0], w[0]), xy=(.01, 1.5), c='k', rotation=34,color='r')"
      ],
      "metadata": {
        "colab": {
          "base_uri": "https://localhost:8080/",
          "height": 485
        },
        "id": "r5QzmHL8WNwt",
        "outputId": "305785b2-47b5-44c6-e48b-b057db09b301"
      },
      "execution_count": null,
      "outputs": [
        {
          "output_type": "stream",
          "name": "stderr",
          "text": [
            "/usr/local/lib/python3.7/dist-packages/ipykernel_launcher.py:21: MatplotlibDeprecationWarning: Saw kwargs ['c', 'color'] which are all aliases for 'color'.  Kept value from 'color'.  Passing multiple aliases for the same property will raise a TypeError in 3.3.\n"
          ]
        },
        {
          "output_type": "execute_result",
          "data": {
            "text/plain": [
              "Text(0.01, 1.5, 'b = 1.0235 w = 1.9690')"
            ]
          },
          "metadata": {},
          "execution_count": 111
        },
        {
          "output_type": "display_data",
          "data": {
            "text/plain": [
              "<Figure size 432x432 with 1 Axes>"
            ],
            "image/png": "[encoded data removed]"
          },
          "metadata": {}
        }
      ]
    },
    {
      "cell_type": "markdown",
      "source": [
        "# PyTorch"
      ],
      "metadata": {
        "id": "cHc4HVBAc7Ms"
      }
    },
    {
      "cell_type": "code",
      "source": [
        "scalar = torch.tensor(1.1234)\n",
        "vector = torch.tensor([1,2,3])\n",
        "matrix = torch.ones((2,3), dtype = torch.float)\n",
        "tensor = torch.randn((2,3,4),dtype = torch.float)"
      ],
      "metadata": {
        "id": "tA2swAj8c5iZ"
      },
      "execution_count": null,
      "outputs": []
    },
    {
      "cell_type": "code",
      "source": [
        "print(scalar)\n",
        "print(vector)\n",
        "print(matrix)\n",
        "print(tensor)"
      ],
      "metadata": {
        "colab": {
          "base_uri": "https://localhost:8080/"
        },
        "id": "jY3qQZ0NeAvq",
        "outputId": "32aa26ab-c147-45d2-e28a-8d45fffd9032"
      },
      "execution_count": null,
      "outputs": [
        {
          "output_type": "stream",
          "name": "stdout",
          "text": [
            "tensor(1.1234)\n",
            "tensor([1, 2, 3])\n",
            "tensor([[1., 1., 1.],\n",
            "        [1., 1., 1.]])\n",
            "tensor([[[ 0.1491,  1.7125,  1.3410,  0.4310],\n",
            "         [ 0.7811,  0.3117,  1.0211,  0.7458],\n",
            "         [-2.1914,  1.0255, -2.8228, -0.5445]],\n",
            "\n",
            "        [[-0.0727, -0.9524,  1.0408, -1.6469],\n",
            "         [ 0.5589,  0.2507,  0.4981, -1.0039],\n",
            "         [-2.4088, -0.8584,  1.0482,  1.0471]]])\n"
          ]
        }
      ]
    },
    {
      "cell_type": "markdown",
      "source": [
        "# convert numpy to tensor "
      ],
      "metadata": {
        "id": "T3P2DFOlg8dv"
      }
    },
    {
      "cell_type": "code",
      "source": [
        "x_train_tensor = torch.as_tensor(x_train)"
      ],
      "metadata": {
        "id": "j2fvHgexg6mp"
      },
      "execution_count": null,
      "outputs": []
    },
    {
      "cell_type": "code",
      "source": [
        "x_train.dtype, x_train_tensor.dtype"
      ],
      "metadata": {
        "colab": {
          "base_uri": "https://localhost:8080/"
        },
        "id": "fZhSHpTmhGD8",
        "outputId": "f3a0fd46-d998-4c76-cb37-118ccaa6bac2"
      },
      "execution_count": null,
      "outputs": [
        {
          "output_type": "execute_result",
          "data": {
            "text/plain": [
              "(dtype('float64'), torch.float64)"
            ]
          },
          "metadata": {},
          "execution_count": 116
        }
      ]
    },
    {
      "cell_type": "code",
      "source": [
        "x_train.shape, x_train_tensor.shape"
      ],
      "metadata": {
        "colab": {
          "base_uri": "https://localhost:8080/"
        },
        "id": "WUwb-ni_hO5h",
        "outputId": "9953910c-e047-4758-cc80-288fc60dffc4"
      },
      "execution_count": null,
      "outputs": [
        {
          "output_type": "execute_result",
          "data": {
            "text/plain": [
              "((80, 1), torch.Size([80, 1]))"
            ]
          },
          "metadata": {},
          "execution_count": 117
        }
      ]
    },
    {
      "cell_type": "code",
      "source": [
        "dummy_array = np.array([1,2,3])\n",
        "dummy_tensor = torch.as_tensor(dummy_array)\n",
        "dummy_array"
      ],
      "metadata": {
        "colab": {
          "base_uri": "https://localhost:8080/"
        },
        "id": "u8q2aeZChgyo",
        "outputId": "26456aea-3210-4b71-af00-873ca4a60baa"
      },
      "execution_count": null,
      "outputs": [
        {
          "output_type": "execute_result",
          "data": {
            "text/plain": [
              "array([1, 2, 3])"
            ]
          },
          "metadata": {},
          "execution_count": 118
        }
      ]
    },
    {
      "cell_type": "code",
      "source": [
        "dummy_tensor"
      ],
      "metadata": {
        "colab": {
          "base_uri": "https://localhost:8080/"
        },
        "id": "U9FkNR5Mhvis",
        "outputId": "53d9d857-914f-4bba-b5da-69c7336c56d7"
      },
      "execution_count": null,
      "outputs": [
        {
          "output_type": "execute_result",
          "data": {
            "text/plain": [
              "tensor([1, 2, 3])"
            ]
          },
          "metadata": {},
          "execution_count": 119
        }
      ]
    },
    {
      "cell_type": "code",
      "source": [
        "dummy_array[0]=5\n",
        "dummy_tensor"
      ],
      "metadata": {
        "colab": {
          "base_uri": "https://localhost:8080/"
        },
        "id": "CDRErR21hyyR",
        "outputId": "eaf73dd5-2e22-4e9f-d650-8df9aad1790c"
      },
      "execution_count": null,
      "outputs": [
        {
          "output_type": "execute_result",
          "data": {
            "text/plain": [
              "tensor([5, 2, 3])"
            ]
          },
          "metadata": {},
          "execution_count": 120
        }
      ]
    }
  ]
}