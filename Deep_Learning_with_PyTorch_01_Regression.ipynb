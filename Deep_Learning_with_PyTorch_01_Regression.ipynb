{
  "nbformat": 4,
  "nbformat_minor": 0,
  "metadata": {
    "colab": {
      "name": "Deep_Learning_with_PyTorch_01_Regression",
      "provenance": [],
      "collapsed_sections": [],
      "authorship_tag": "ABX9TyNOyslf+9r8IhpPhn1XSbAE",
      "include_colab_link": true
    },
    "kernelspec": {
      "name": "python3",
      "display_name": "Python 3"
    },
    "language_info": {
      "name": "python"
    },
    "accelerator": "GPU"
  },
  "cells": [
    {
      "cell_type": "markdown",
      "metadata": {
        "id": "view-in-github",
        "colab_type": "text"
      },
      "source": [
        "<a href=\"https://colab.research.google.com/github/raviakasapu/DeepLearningPyTorch/blob/main/Deep_Learning_with_PyTorch_01_Regression.ipynb\" target=\"_parent\"><img src=\"https://colab.research.google.com/assets/colab-badge.svg\" alt=\"Open In Colab\"/></a>"
      ]
    },
    {
      "cell_type": "markdown",
      "source": [
        "## Deep Learning with PyTorch - Chapter 01\n",
        "\n",
        "---\n",
        "\n",
        "\n",
        "A simple Regression Problem\n",
        "\n"
      ],
      "metadata": {
        "id": "hpNQO_FnCHOa"
      }
    },
    {
      "cell_type": "markdown",
      "source": [
        "code examples from https://github.com/dvgodoy/PyTorchStepByStep/blob/master/Chapter01.ipynb"
      ],
      "metadata": {
        "id": "wQcEWdBNCp-i"
      }
    },
    {
      "cell_type": "code",
      "source": [
        "import numpy as np\n",
        "from sklearn.linear_model import LinearRegression\n",
        "\n",
        "import torch\n",
        "import torch.optim as optim\n",
        "import torch.nn as nn\n"
      ],
      "metadata": {
        "id": "l7MDcpyxCV54"
      },
      "execution_count": null,
      "outputs": []
    },
    {
      "cell_type": "code",
      "source": [
        "#using and checking GPU with tensor flow \n",
        "import tensorflow as tf\n",
        "device_name = tf.test.gpu_device_name()\n",
        "if device_name != '/device:GPU:0':\n",
        "  raise SystemError('GPU device not found')\n",
        "print('Found GPU at: {}'.format(device_name))"
      ],
      "metadata": {
        "colab": {
          "base_uri": "https://localhost:8080/"
        },
        "id": "H5y3PFQBWvFQ",
        "outputId": "eda26a01-0ce3-40cb-c267-39f8b9f598d9"
      },
      "execution_count": null,
      "outputs": [
        {
          "output_type": "stream",
          "name": "stdout",
          "text": [
            "Found GPU at: /device:GPU:0\n"
          ]
        }
      ]
    },
    {
      "cell_type": "code",
      "source": [
        "from tensorflow.python.client import device_lib\n",
        "devices = device_lib.list_local_devices()"
      ],
      "metadata": {
        "id": "3z7LPsstavW-"
      },
      "execution_count": null,
      "outputs": []
    },
    {
      "cell_type": "code",
      "source": [
        "devices[1].name"
      ],
      "metadata": {
        "colab": {
          "base_uri": "https://localhost:8080/",
          "height": 34
        },
        "id": "gL5-nz8Na4Cf",
        "outputId": "60a2e460-6d73-4b6d-c5d5-ee1f21e94ef7"
      },
      "execution_count": null,
      "outputs": [
        {
          "output_type": "execute_result",
          "data": {
            "text/plain": [
              "'/device:GPU:0'"
            ],
            "application/vnd.google.colaboratory.intrinsic+json": {
              "type": "string"
            }
          },
          "metadata": {},
          "execution_count": 4
        }
      ]
    },
    {
      "cell_type": "code",
      "source": [
        "# Install torchviz from git repository\n",
        "%pip install -U git+https://github.com/szagoruyko/pytorchviz.git@master"
      ],
      "metadata": {
        "colab": {
          "base_uri": "https://localhost:8080/"
        },
        "id": "gs5MHI4TEBJo",
        "outputId": "76538b8c-c9c2-4480-f4d3-20e01a8152a8"
      },
      "execution_count": null,
      "outputs": [
        {
          "output_type": "stream",
          "name": "stdout",
          "text": [
            "Collecting git+https://github.com/szagoruyko/pytorchviz.git@master\n",
            "  Cloning https://github.com/szagoruyko/pytorchviz.git (to revision master) to /tmp/pip-req-build-wdi6r6mv\n",
            "  Running command git clone -q https://github.com/szagoruyko/pytorchviz.git /tmp/pip-req-build-wdi6r6mv\n",
            "Requirement already satisfied: torch in /usr/local/lib/python3.7/dist-packages (from torchviz==0.0.2) (1.11.0+cu113)\n",
            "Requirement already satisfied: graphviz in /usr/local/lib/python3.7/dist-packages (from torchviz==0.0.2) (0.10.1)\n",
            "Requirement already satisfied: typing-extensions in /usr/local/lib/python3.7/dist-packages (from torch->torchviz==0.0.2) (4.2.0)\n",
            "Building wheels for collected packages: torchviz\n",
            "  Building wheel for torchviz (setup.py) ... \u001b[?25l\u001b[?25hdone\n",
            "  Created wheel for torchviz: filename=torchviz-0.0.2-py3-none-any.whl size=4990 sha256=191e8f5d7ff6d4bf6b429a38e98703f7315a4697c04c400a6a0dc2c536ad65d7\n",
            "  Stored in directory: /tmp/pip-ephem-wheel-cache-93k0vnco/wheels/69/06/fd/652908d49c931cdcca96be3c727fb11ed777a3a62402210396\n",
            "Successfully built torchviz\n",
            "Installing collected packages: torchviz\n",
            "Successfully installed torchviz-0.0.2\n"
          ]
        }
      ]
    },
    {
      "cell_type": "code",
      "source": [
        "from torchviz import make_dot"
      ],
      "metadata": {
        "id": "sbJrkD_NEEPI"
      },
      "execution_count": null,
      "outputs": []
    },
    {
      "cell_type": "code",
      "source": [
        "import matplotlib.pyplot as plt\n",
        "plt.style.use('fivethirtyeight')\n",
        "\n",
        "from mpl_toolkits.mplot3d import Axes3D"
      ],
      "metadata": {
        "id": "_xJajYs_PntD"
      },
      "execution_count": null,
      "outputs": []
    },
    {
      "cell_type": "code",
      "source": [
        "true_b = 1\n",
        "true_w = 2\n",
        "\n",
        "n= 100\n",
        "\n",
        "#random data generation\n",
        "np.random.seed(42)\n",
        "x = np.random.rand(n,1)\n",
        "\n",
        "e = (0.1 * np.random.randn(n,1))\n",
        "\n",
        "# linear equation\n",
        "y = true_b + true_w * x + e"
      ],
      "metadata": {
        "id": "1D4YluIqYSkl"
      },
      "execution_count": null,
      "outputs": []
    },
    {
      "cell_type": "code",
      "source": [
        "idx = np.arange(n)\n",
        "np.random.shuffle(idx)"
      ],
      "metadata": {
        "id": "tU2RfF_oFmfm"
      },
      "execution_count": null,
      "outputs": []
    },
    {
      "cell_type": "code",
      "source": [
        "train_idx = idx[:int(n*0.8)]\n",
        "val_idx = idx[int(n*0.8):]"
      ],
      "metadata": {
        "id": "wzr3os7-FyIz"
      },
      "execution_count": null,
      "outputs": []
    },
    {
      "cell_type": "code",
      "source": [
        "# Generates train and validation sets\n",
        "x_train, y_train = x[train_idx], y[train_idx]\n",
        "x_val, y_val = x[val_idx], y[val_idx]"
      ],
      "metadata": {
        "id": "jwuq1R1vGU-_"
      },
      "execution_count": null,
      "outputs": []
    },
    {
      "cell_type": "code",
      "source": [
        "def figure1(x_train, y_train, x_val, y_val):\n",
        "    fig, ax = plt.subplots(1, 2, figsize=(16, 8))\n",
        "    \n",
        "    ax[0].scatter(x_train, y_train)\n",
        "    ax[0].set_xlabel('x')\n",
        "    ax[0].set_ylabel('y')\n",
        "    ax[0].set_ylim([0, 3.1])\n",
        "    ax[0].set_title('Generated Data - Train')\n",
        "\n",
        "    ax[1].scatter(x_val, y_val, c='r')\n",
        "    ax[1].set_xlabel('x')\n",
        "    ax[1].set_ylabel('y')\n",
        "    ax[1].set_ylim([0, 3.1])\n",
        "    ax[1].set_title('Generated Data - Validation')\n",
        "    fig.tight_layout()\n",
        "    \n",
        "    return fig, ax"
      ],
      "metadata": {
        "id": "KtiqE9vFPXrL"
      },
      "execution_count": null,
      "outputs": []
    },
    {
      "cell_type": "code",
      "source": [
        "figure1(x_train, y_train, x_val, y_val)"
      ],
      "metadata": {
        "colab": {
          "base_uri": "https://localhost:8080/",
          "height": 476
        },
        "id": "T4ZI-dQfPdsQ",
        "outputId": "114a5159-da0a-4b34-a97e-f335b39b608e"
      },
      "execution_count": null,
      "outputs": [
        {
          "output_type": "execute_result",
          "data": {
            "text/plain": [
              "(<Figure size 1152x576 with 2 Axes>,\n",
              " array([<matplotlib.axes._subplots.AxesSubplot object at 0x7f841a79afd0>,\n",
              "        <matplotlib.axes._subplots.AxesSubplot object at 0x7f8410054150>],\n",
              "       dtype=object))"
            ]
          },
          "metadata": {},
          "execution_count": 13
        },
        {
          "output_type": "display_data",
          "data": {
            "text/plain": [
              "<Figure size 1152x576 with 2 Axes>"
            ],
            "image/png": "[encoded data removed]"
          },
          "metadata": {}
        }
      ]
    },
    {
      "cell_type": "markdown",
      "source": [
        "# step 0 --> random initialization"
      ],
      "metadata": {
        "id": "5q1runK7QXIc"
      }
    },
    {
      "cell_type": "code",
      "source": [
        "np.random.seed(42)\n",
        "b = np.random.randn(1)\n",
        "w = np.random.randn(1)\n",
        "\n",
        "print(b,w)"
      ],
      "metadata": {
        "colab": {
          "base_uri": "https://localhost:8080/"
        },
        "id": "Av0WmaidQZ3P",
        "outputId": "75bbb4da-a17a-45fa-a32e-63b8cc1013d2"
      },
      "execution_count": null,
      "outputs": [
        {
          "output_type": "stream",
          "name": "stdout",
          "text": [
            "[0.49671415] [-0.1382643]\n"
          ]
        }
      ]
    },
    {
      "cell_type": "markdown",
      "source": [
        "# step 1 --> model's prediction"
      ],
      "metadata": {
        "id": "5sWEnnHPQkvE"
      }
    },
    {
      "cell_type": "code",
      "source": [
        "yhat = b + w * x_train\n",
        "yhat[0:5]"
      ],
      "metadata": {
        "colab": {
          "base_uri": "https://localhost:8080/"
        },
        "id": "QUdJTdlzQkIJ",
        "outputId": "f44ed13e-bbe7-4bc4-992b-d8853e0923c1"
      },
      "execution_count": null,
      "outputs": [
        {
          "output_type": "execute_result",
          "data": {
            "text/plain": [
              "array([[0.390075  ],\n",
              "       [0.4879263 ],\n",
              "       [0.37737776],\n",
              "       [0.4931996 ],\n",
              "       [0.39550552]])"
            ]
          },
          "metadata": {},
          "execution_count": 15
        }
      ]
    },
    {
      "cell_type": "markdown",
      "source": [
        "# step 2 --> compute the loss"
      ],
      "metadata": {
        "id": "zr1cBpneQ-zW"
      }
    },
    {
      "cell_type": "code",
      "source": [
        "error = (yhat-y_train)"
      ],
      "metadata": {
        "id": "iACN4kovRCLz"
      },
      "execution_count": null,
      "outputs": []
    },
    {
      "cell_type": "code",
      "source": [
        "loss = (error **2).mean()\n",
        "loss"
      ],
      "metadata": {
        "colab": {
          "base_uri": "https://localhost:8080/"
        },
        "id": "yBqb7z4NRG1c",
        "outputId": "a2840581-2c16-408f-de91-cc055f0c85df"
      },
      "execution_count": null,
      "outputs": [
        {
          "output_type": "execute_result",
          "data": {
            "text/plain": [
              "2.7421577700550976"
            ]
          },
          "metadata": {},
          "execution_count": 17
        }
      ]
    },
    {
      "cell_type": "markdown",
      "source": [
        "# step 3 --> compute the gradients"
      ],
      "metadata": {
        "id": "9o2uwGwrRTxO"
      }
    },
    {
      "cell_type": "code",
      "source": [
        "b_grad = 2 * error.mean()\n",
        "w_grad = 2 * (x_train*error).mean()\n",
        "b_grad,w_grad"
      ],
      "metadata": {
        "colab": {
          "base_uri": "https://localhost:8080/"
        },
        "id": "4i0e5vAsRWYr",
        "outputId": "bd4f14ce-ff26-494c-e902-6076afe895a1"
      },
      "execution_count": null,
      "outputs": [
        {
          "output_type": "execute_result",
          "data": {
            "text/plain": [
              "(-3.044811379650508, -1.8337537171510832)"
            ]
          },
          "metadata": {},
          "execution_count": 18
        }
      ]
    },
    {
      "cell_type": "markdown",
      "source": [
        "# step 4 --> updat the parameters"
      ],
      "metadata": {
        "id": "QIFjey60RlVo"
      }
    },
    {
      "cell_type": "code",
      "source": [
        "lr = 0.1\n",
        "print(b, w)\n",
        "\n",
        "b = b -lr * b_grad\n",
        "w = w- lr * w_grad\n",
        "print(b,w)"
      ],
      "metadata": {
        "colab": {
          "base_uri": "https://localhost:8080/"
        },
        "id": "rrqNyn24RnvU",
        "outputId": "6e46fd92-e7b2-405e-c53f-0edb733a99d9"
      },
      "execution_count": null,
      "outputs": [
        {
          "output_type": "stream",
          "name": "stdout",
          "text": [
            "[0.49671415] [-0.1382643]\n",
            "[0.80119529] [0.04511107]\n"
          ]
        }
      ]
    },
    {
      "cell_type": "markdown",
      "source": [
        "# using a function and Numpy"
      ],
      "metadata": {
        "id": "GXu7lo3eU756"
      }
    },
    {
      "cell_type": "code",
      "source": [
        "np.random.seed(42)\n",
        "b = np.random.randn(1)\n",
        "w = np.random.randn(1)\n",
        "\n",
        "print(b,w)\n",
        "\n",
        "lr = 0.1\n",
        "n_epochs = 1000\n",
        "\n",
        "for epoch in range(n_epochs):\n",
        "  yhat = b + w * x_train\n",
        "\n",
        "  error = (yhat - y_train)\n",
        "  loss = (error ** 2 ).mean()\n",
        "\n",
        "  b_grad = 2 * error.mean()\n",
        "  w_grad = 2 * (x_train * error).mean()\n",
        "\n",
        "  b = b - lr * b_grad\n",
        "  w = w - lr * w_grad\n",
        "\n",
        "print(b,w)"
      ],
      "metadata": {
        "colab": {
          "base_uri": "https://localhost:8080/"
        },
        "id": "dZbwPGcbU5mx",
        "outputId": "13e34439-1b47-44db-fa89-f80413de6523"
      },
      "execution_count": null,
      "outputs": [
        {
          "output_type": "stream",
          "name": "stdout",
          "text": [
            "[0.49671415] [-0.1382643]\n",
            "[1.02354094] [1.96896411]\n"
          ]
        }
      ]
    },
    {
      "cell_type": "code",
      "source": [
        "def fit_model(x_train, y_train):\n",
        "    # Fits a linear regression to find the actual b and w that minimize the loss\n",
        "    regression = LinearRegression()\n",
        "    regression.fit(x_train, y_train)\n",
        "    b_minimum, w_minimum = regression.intercept_[0], regression.coef_[0][0]\n",
        "    return b_minimum, w_minimum"
      ],
      "metadata": {
        "id": "D4BTwUlTXDjJ"
      },
      "execution_count": null,
      "outputs": []
    },
    {
      "cell_type": "code",
      "source": [
        "fig, ax = plt.subplots(1, 1, figsize=(6, 6))\n",
        "ax.set_xlabel('x')\n",
        "ax.set_ylabel('y')\n",
        "ax.set_ylim([0, 3.1])\n",
        "\n",
        "# Dataset\n",
        "ax.scatter(x_train, y_train)\n",
        "fig.tight_layout()\n",
        "\n",
        "x_range = np.linspace(0, 1, 101)\n",
        "\n",
        "regression = LinearRegression()\n",
        "regression.fit(x_train, y_train)\n",
        "b_minimum, w_minimum = regression.intercept_[0], regression.coef_[0][0]\n",
        "\n",
        "yhat_range = b_minimum + w_minimum * x_range\n",
        "ax.plot(x_range, yhat_range, label='Final model\\'s predictions', c='k', linestyle=':')\n",
        "ax.annotate('b = {:.4f} w = {:.4f}'.format(b_minimum, w_minimum), xy=(.4, 1.5), c='k', rotation=34)\n",
        "\n",
        "yhat_pred = b + w * x_range\n",
        "ax.plot(x_range, yhat_pred, label='Final model\\'s predictions', c='k', linestyle='--',color='r')\n",
        "ax.annotate('b = {:.4f} w = {:.4f}'.format(b[0], w[0]), xy=(.01, 1.5), c='k', rotation=34,color='r')"
      ],
      "metadata": {
        "colab": {
          "base_uri": "https://localhost:8080/",
          "height": 485
        },
        "id": "r5QzmHL8WNwt",
        "outputId": "cfd1f81c-8cfb-4e40-e556-9f4346eb5b65"
      },
      "execution_count": null,
      "outputs": [
        {
          "output_type": "stream",
          "name": "stderr",
          "text": [
            "/usr/local/lib/python3.7/dist-packages/ipykernel_launcher.py:21: MatplotlibDeprecationWarning: Saw kwargs ['c', 'color'] which are all aliases for 'color'.  Kept value from 'color'.  Passing multiple aliases for the same property will raise a TypeError in 3.3.\n"
          ]
        },
        {
          "output_type": "execute_result",
          "data": {
            "text/plain": [
              "Text(0.01, 1.5, 'b = 1.0235 w = 1.9690')"
            ]
          },
          "metadata": {},
          "execution_count": 22
        },
        {
          "output_type": "display_data",
          "data": {
            "text/plain": [
              "<Figure size 432x432 with 1 Axes>"
            ],
            "image/png": "[encoded data removed]"
          },
          "metadata": {}
        }
      ]
    },
    {
      "cell_type": "markdown",
      "source": [
        "# PyTorch"
      ],
      "metadata": {
        "id": "cHc4HVBAc7Ms"
      }
    },
    {
      "cell_type": "code",
      "source": [
        "scalar = torch.tensor(1.1234)\n",
        "vector = torch.tensor([1,2,3])\n",
        "matrix = torch.ones((2,3), dtype = torch.float)\n",
        "tensor = torch.randn((2,3,4),dtype = torch.float)"
      ],
      "metadata": {
        "id": "tA2swAj8c5iZ"
      },
      "execution_count": null,
      "outputs": []
    },
    {
      "cell_type": "code",
      "source": [
        "print(scalar)\n",
        "print(vector)\n",
        "print(matrix)\n",
        "print(tensor)"
      ],
      "metadata": {
        "colab": {
          "base_uri": "https://localhost:8080/"
        },
        "id": "jY3qQZ0NeAvq",
        "outputId": "d02d0fb8-5c53-4d44-f908-ca9ee6900df7"
      },
      "execution_count": null,
      "outputs": [
        {
          "output_type": "stream",
          "name": "stdout",
          "text": [
            "tensor(1.1234)\n",
            "tensor([1, 2, 3])\n",
            "tensor([[1., 1., 1.],\n",
            "        [1., 1., 1.]])\n",
            "tensor([[[ 0.0419, -0.4149,  1.8258,  0.1699],\n",
            "         [ 0.0799, -1.0878,  0.1681,  0.7791],\n",
            "         [ 0.1440,  1.2891, -1.0683,  0.7226]],\n",
            "\n",
            "        [[-1.4702, -2.4287,  0.7222, -0.3806],\n",
            "         [ 0.0758,  0.4227,  0.1907, -0.9767],\n",
            "         [-1.0449,  0.1356,  0.5146,  1.0343]]])\n"
          ]
        }
      ]
    },
    {
      "cell_type": "markdown",
      "source": [
        "# convert numpy to tensor "
      ],
      "metadata": {
        "id": "T3P2DFOlg8dv"
      }
    },
    {
      "cell_type": "code",
      "source": [
        "x_train_tensor = torch.as_tensor(x_train).float().to('cuda:0')"
      ],
      "metadata": {
        "id": "j2fvHgexg6mp"
      },
      "execution_count": null,
      "outputs": []
    },
    {
      "cell_type": "code",
      "source": [
        "y_train_tensor = torch.as_tensor(y_train).float().to('cuda:0')"
      ],
      "metadata": {
        "id": "QhLAQjbxTjMS"
      },
      "execution_count": null,
      "outputs": []
    },
    {
      "cell_type": "code",
      "source": [
        "x_train.dtype, x_train_tensor.dtype"
      ],
      "metadata": {
        "colab": {
          "base_uri": "https://localhost:8080/"
        },
        "id": "fZhSHpTmhGD8",
        "outputId": "becbf835-3bc3-4a48-9cc8-f40be3f63bd9"
      },
      "execution_count": null,
      "outputs": [
        {
          "output_type": "execute_result",
          "data": {
            "text/plain": [
              "(dtype('float64'), torch.float32)"
            ]
          },
          "metadata": {},
          "execution_count": 27
        }
      ]
    },
    {
      "cell_type": "code",
      "source": [
        "x_train.shape, x_train_tensor.shape"
      ],
      "metadata": {
        "colab": {
          "base_uri": "https://localhost:8080/"
        },
        "id": "WUwb-ni_hO5h",
        "outputId": "3219ede3-466c-48b9-ac0a-2c3874cc8742"
      },
      "execution_count": null,
      "outputs": [
        {
          "output_type": "execute_result",
          "data": {
            "text/plain": [
              "((80, 1), torch.Size([80, 1]))"
            ]
          },
          "metadata": {},
          "execution_count": 28
        }
      ]
    },
    {
      "cell_type": "code",
      "source": [
        "dummy_array = np.array([1,2,3])\n",
        "dummy_tensor = torch.as_tensor(dummy_array)\n",
        "dummy_array"
      ],
      "metadata": {
        "colab": {
          "base_uri": "https://localhost:8080/"
        },
        "id": "u8q2aeZChgyo",
        "outputId": "94e2eb02-b3a4-4909-9d5a-013b65ff8da9"
      },
      "execution_count": null,
      "outputs": [
        {
          "output_type": "execute_result",
          "data": {
            "text/plain": [
              "array([1, 2, 3])"
            ]
          },
          "metadata": {},
          "execution_count": 29
        }
      ]
    },
    {
      "cell_type": "code",
      "source": [
        "dummy_tensor"
      ],
      "metadata": {
        "colab": {
          "base_uri": "https://localhost:8080/"
        },
        "id": "U9FkNR5Mhvis",
        "outputId": "06e57d68-93ae-46f8-a144-5ddd31b23a99"
      },
      "execution_count": null,
      "outputs": [
        {
          "output_type": "execute_result",
          "data": {
            "text/plain": [
              "tensor([1, 2, 3])"
            ]
          },
          "metadata": {},
          "execution_count": 30
        }
      ]
    },
    {
      "cell_type": "code",
      "source": [
        "dummy_array[0]=5\n",
        "dummy_tensor"
      ],
      "metadata": {
        "colab": {
          "base_uri": "https://localhost:8080/"
        },
        "id": "CDRErR21hyyR",
        "outputId": "a9a2231e-10c9-4717-c061-3035f93c46f2"
      },
      "execution_count": null,
      "outputs": [
        {
          "output_type": "execute_result",
          "data": {
            "text/plain": [
              "tensor([5, 2, 3])"
            ]
          },
          "metadata": {},
          "execution_count": 31
        }
      ]
    },
    {
      "cell_type": "markdown",
      "source": [
        "# creating parameters"
      ],
      "metadata": {
        "id": "edUS6A1JPNEs"
      }
    },
    {
      "cell_type": "code",
      "source": [
        "#initialization of parameters\n",
        "\n",
        "torch.manual_seed(42)\n",
        "b = torch.randn(1, requires_grad = True, dtype = torch.float, device = 'cuda:0')\n",
        "w = torch.randn(1, requires_grad = True, dtype = torch.float, device = 'cuda:0')\n",
        "print(b, w)"
      ],
      "metadata": {
        "colab": {
          "base_uri": "https://localhost:8080/"
        },
        "id": "cacEGjcPPyTZ",
        "outputId": "743cc285-b6dd-4ec5-e14d-53177d212a3f"
      },
      "execution_count": null,
      "outputs": [
        {
          "output_type": "stream",
          "name": "stdout",
          "text": [
            "tensor([0.1940], device='cuda:0', requires_grad=True) tensor([0.1391], device='cuda:0', requires_grad=True)\n"
          ]
        }
      ]
    },
    {
      "cell_type": "markdown",
      "source": [
        "# autograd"
      ],
      "metadata": {
        "id": "yrxNxpahQfo-"
      }
    },
    {
      "cell_type": "code",
      "source": [
        "yhat = b+ w * x_train_tensor"
      ],
      "metadata": {
        "id": "2ozo1LW5Qhc9"
      },
      "execution_count": null,
      "outputs": []
    },
    {
      "cell_type": "code",
      "source": [
        "error = (yhat - y_train_tensor)\n",
        "loss = (error ** 2 ).mean()\n",
        "\n",
        "loss.backward()"
      ],
      "metadata": {
        "id": "UrpOxme-TWnU"
      },
      "execution_count": null,
      "outputs": []
    },
    {
      "cell_type": "code",
      "source": [
        "print(error.requires_grad)\n",
        "print(yhat.requires_grad)\n",
        "print(b.requires_grad)\n",
        "print(w.requires_grad)\n",
        "print(y_train_tensor.requires_grad)\n",
        "print(x_train_tensor.requires_grad)"
      ],
      "metadata": {
        "colab": {
          "base_uri": "https://localhost:8080/"
        },
        "id": "_LX03YteTx9F",
        "outputId": "12ef4518-f226-4537-fd91-67369f25ae22"
      },
      "execution_count": null,
      "outputs": [
        {
          "output_type": "stream",
          "name": "stdout",
          "text": [
            "True\n",
            "True\n",
            "True\n",
            "True\n",
            "False\n",
            "False\n"
          ]
        }
      ]
    },
    {
      "cell_type": "code",
      "source": [
        "print(b.grad, w.grad)"
      ],
      "metadata": {
        "colab": {
          "base_uri": "https://localhost:8080/"
        },
        "id": "F5msHTrcUABT",
        "outputId": "5e500f0e-de3e-4035-8f3b-fdd54ec578e4"
      },
      "execution_count": null,
      "outputs": [
        {
          "output_type": "stream",
          "name": "stdout",
          "text": [
            "tensor([-3.3881], device='cuda:0') tensor([-1.9439], device='cuda:0')\n"
          ]
        }
      ]
    },
    {
      "cell_type": "code",
      "source": [
        ""
      ],
      "metadata": {
        "id": "Hjj45HuzWlSE"
      },
      "execution_count": null,
      "outputs": []
    },
    {
      "cell_type": "markdown",
      "source": [
        "# updating parameters in code"
      ],
      "metadata": {
        "id": "IdfYTVkjWBSu"
      }
    },
    {
      "cell_type": "markdown",
      "source": [
        "### first attempt leads to Attribute Error"
      ],
      "metadata": {
        "id": "O0TlNOrBd-wt"
      }
    },
    {
      "cell_type": "code",
      "source": [
        "lr = 0.1\n",
        "torch.manual_seed(42)\n",
        "\n",
        "b = torch.randn(1, requires_grad = True, dtype=torch.float, device='cuda:0')\n",
        "w = torch.randn(1, requires_grad = True, dtype=torch.float, device='cuda:0')\n",
        "\n",
        "n_epochs = 1000\n",
        "\n",
        "for epoch in range(n_epochs):\n",
        "  yhat = b+w * x_train_tensor\n",
        "\n",
        "  error = (yhat-y_train_tensor)\n",
        "  loss = (error ** 2).mean()\n",
        "\n",
        "  loss.backward()\n",
        "\n",
        "  b = b - lr * b.grad\n",
        "  w = w - lr * w.grad\n",
        "\n",
        "print(b,w)"
      ],
      "metadata": {
        "colab": {
          "base_uri": "https://localhost:8080/",
          "height": 277
        },
        "id": "3ZyksjstWD_K",
        "outputId": "9b529e00-7423-46d1-bf2e-e171e27b6d3c"
      },
      "execution_count": null,
      "outputs": [
        {
          "output_type": "stream",
          "name": "stderr",
          "text": [
            "/usr/local/lib/python3.7/dist-packages/torch/_tensor.py:1104: UserWarning: The .grad attribute of a Tensor that is not a leaf Tensor is being accessed. Its .grad attribute won't be populated during autograd.backward(). If you indeed want the .grad field to be populated for a non-leaf Tensor, use .retain_grad() on the non-leaf Tensor. If you access the non-leaf Tensor by mistake, make sure you access the leaf Tensor instead. See github.com/pytorch/pytorch/pull/30531 for more informations. (Triggered internally at  aten/src/ATen/core/TensorBody.h:475.)\n",
            "  return self._grad\n"
          ]
        },
        {
          "output_type": "error",
          "ename": "TypeError",
          "evalue": "ignored",
          "traceback": [
            "\u001b[0;31m---------------------------------------------------------------------------\u001b[0m",
            "\u001b[0;31mTypeError\u001b[0m                                 Traceback (most recent call last)",
            "\u001b[0;32m<ipython-input-37-7b2e29029af5>\u001b[0m in \u001b[0;36m<module>\u001b[0;34m()\u001b[0m\n\u001b[1;32m     15\u001b[0m   \u001b[0mloss\u001b[0m\u001b[0;34m.\u001b[0m\u001b[0mbackward\u001b[0m\u001b[0;34m(\u001b[0m\u001b[0;34m)\u001b[0m\u001b[0;34m\u001b[0m\u001b[0;34m\u001b[0m\u001b[0m\n\u001b[1;32m     16\u001b[0m \u001b[0;34m\u001b[0m\u001b[0m\n\u001b[0;32m---> 17\u001b[0;31m   \u001b[0mb\u001b[0m \u001b[0;34m=\u001b[0m \u001b[0mb\u001b[0m \u001b[0;34m-\u001b[0m \u001b[0mlr\u001b[0m \u001b[0;34m*\u001b[0m \u001b[0mb\u001b[0m\u001b[0;34m.\u001b[0m\u001b[0mgrad\u001b[0m\u001b[0;34m\u001b[0m\u001b[0;34m\u001b[0m\u001b[0m\n\u001b[0m\u001b[1;32m     18\u001b[0m   \u001b[0mw\u001b[0m \u001b[0;34m=\u001b[0m \u001b[0mw\u001b[0m \u001b[0;34m-\u001b[0m \u001b[0mlr\u001b[0m \u001b[0;34m*\u001b[0m \u001b[0mw\u001b[0m\u001b[0;34m.\u001b[0m\u001b[0mgrad\u001b[0m\u001b[0;34m\u001b[0m\u001b[0;34m\u001b[0m\u001b[0m\n\u001b[1;32m     19\u001b[0m \u001b[0;34m\u001b[0m\u001b[0m\n",
            "\u001b[0;31mTypeError\u001b[0m: unsupported operand type(s) for *: 'float' and 'NoneType'"
          ]
        }
      ]
    },
    {
      "cell_type": "markdown",
      "source": [
        "### second attempt --> RuntimeError"
      ],
      "metadata": {
        "id": "m_hLd4eqeGba"
      }
    },
    {
      "cell_type": "code",
      "source": [
        "lr = 0.1\n",
        "torch.manual_seed(42)\n",
        "\n",
        "b = torch.randn(1, requires_grad = True, dtype=torch.float, device='cuda:0')\n",
        "w = torch.randn(1, requires_grad = True, dtype=torch.float, device='cuda:0')\n",
        "\n",
        "n_epochs = 1000\n",
        "\n",
        "for epoch in range(n_epochs):\n",
        "  yhat = b+w * x_train_tensor\n",
        "\n",
        "  error = (yhat-y_train_tensor)\n",
        "  loss = (error ** 2).mean()\n",
        "\n",
        "  loss.backward()\n",
        "\n",
        "  b -= lr * b.grad\n",
        "  w -= lr * w.grad\n",
        "\n",
        "print(b,w)"
      ],
      "metadata": {
        "colab": {
          "base_uri": "https://localhost:8080/",
          "height": 224
        },
        "id": "ijVgiZODd9mI",
        "outputId": "228ef419-157c-4888-aef1-0bf55501ee65"
      },
      "execution_count": null,
      "outputs": [
        {
          "output_type": "error",
          "ename": "RuntimeError",
          "evalue": "ignored",
          "traceback": [
            "\u001b[0;31m---------------------------------------------------------------------------\u001b[0m",
            "\u001b[0;31mRuntimeError\u001b[0m                              Traceback (most recent call last)",
            "\u001b[0;32m<ipython-input-38-cb9c85304351>\u001b[0m in \u001b[0;36m<module>\u001b[0;34m()\u001b[0m\n\u001b[1;32m     15\u001b[0m   \u001b[0mloss\u001b[0m\u001b[0;34m.\u001b[0m\u001b[0mbackward\u001b[0m\u001b[0;34m(\u001b[0m\u001b[0;34m)\u001b[0m\u001b[0;34m\u001b[0m\u001b[0;34m\u001b[0m\u001b[0m\n\u001b[1;32m     16\u001b[0m \u001b[0;34m\u001b[0m\u001b[0m\n\u001b[0;32m---> 17\u001b[0;31m   \u001b[0mb\u001b[0m \u001b[0;34m-=\u001b[0m \u001b[0mlr\u001b[0m \u001b[0;34m*\u001b[0m \u001b[0mb\u001b[0m\u001b[0;34m.\u001b[0m\u001b[0mgrad\u001b[0m\u001b[0;34m\u001b[0m\u001b[0;34m\u001b[0m\u001b[0m\n\u001b[0m\u001b[1;32m     18\u001b[0m   \u001b[0mw\u001b[0m \u001b[0;34m-=\u001b[0m \u001b[0mlr\u001b[0m \u001b[0;34m*\u001b[0m \u001b[0mw\u001b[0m\u001b[0;34m.\u001b[0m\u001b[0mgrad\u001b[0m\u001b[0;34m\u001b[0m\u001b[0;34m\u001b[0m\u001b[0m\n\u001b[1;32m     19\u001b[0m \u001b[0;34m\u001b[0m\u001b[0m\n",
            "\u001b[0;31mRuntimeError\u001b[0m: a leaf Variable that requires grad is being used in an in-place operation."
          ]
        }
      ]
    },
    {
      "cell_type": "markdown",
      "source": [
        "### no_grad solves the problem"
      ],
      "metadata": {
        "id": "dytHUJOpeWNX"
      }
    },
    {
      "cell_type": "code",
      "source": [
        "lr = 0.1\n",
        "torch.manual_seed(42)\n",
        "\n",
        "b = torch.randn(1, requires_grad = True, dtype=torch.float, device='cuda:0')\n",
        "w = torch.randn(1, requires_grad = True, dtype=torch.float, device='cuda:0')\n",
        "\n",
        "n_epochs = 1000\n",
        "\n",
        "for epoch in range(n_epochs):\n",
        "  yhat = b+w * x_train_tensor\n",
        "\n",
        "  error = (yhat-y_train_tensor)\n",
        "  loss = (error ** 2).mean()\n",
        "\n",
        "  loss.backward()\n",
        "  with torch.no_grad():\n",
        "    b -= lr * b.grad\n",
        "    w -= lr * w.grad\n",
        "\n",
        "print(b,w)"
      ],
      "metadata": {
        "colab": {
          "base_uri": "https://localhost:8080/"
        },
        "id": "SdHZWggnedxV",
        "outputId": "7cdc6fb6-ff31-4cd6-fd0c-37813066ce25"
      },
      "execution_count": null,
      "outputs": [
        {
          "output_type": "stream",
          "name": "stdout",
          "text": [
            "tensor([-0.0068], device='cuda:0', requires_grad=True) tensor([2.6594], device='cuda:0', requires_grad=True)\n"
          ]
        }
      ]
    },
    {
      "cell_type": "markdown",
      "source": [
        "### no grad and non cumulative gradiatns"
      ],
      "metadata": {
        "id": "TpIMGhhofDHX"
      }
    },
    {
      "cell_type": "code",
      "source": [
        "lr = 0.1\n",
        "torch.manual_seed(42)\n",
        "\n",
        "b = torch.randn(1, requires_grad = True, dtype=torch.float, device='cuda:0')\n",
        "w = torch.randn(1, requires_grad = True, dtype=torch.float, device='cuda:0')\n",
        "\n",
        "n_epochs = 1000\n",
        "\n",
        "for epoch in range(n_epochs):\n",
        "  yhat = b+w * x_train_tensor\n",
        "\n",
        "  error = (yhat-y_train_tensor)\n",
        "  loss = (error ** 2).mean()\n",
        "\n",
        "  loss.backward()\n",
        "  with torch.no_grad():\n",
        "    b -= lr * b.grad\n",
        "    w -= lr * w.grad\n",
        "  \n",
        "  b.grad.zero_()\n",
        "  w.grad.zero_()\n",
        "\n",
        "print(b,w)"
      ],
      "metadata": {
        "colab": {
          "base_uri": "https://localhost:8080/"
        },
        "id": "UPAKAMrzfCad",
        "outputId": "b2ae3d45-6947-4455-89a9-6e48a5002e8b"
      },
      "execution_count": null,
      "outputs": [
        {
          "output_type": "stream",
          "name": "stdout",
          "text": [
            "tensor([1.0235], device='cuda:0', requires_grad=True) tensor([1.9690], device='cuda:0', requires_grad=True)\n"
          ]
        }
      ]
    },
    {
      "cell_type": "markdown",
      "source": [
        "# Dynamic Computation Graph"
      ],
      "metadata": {
        "id": "WxOOJ4uofcAS"
      }
    },
    {
      "cell_type": "code",
      "source": [
        "torch.manual_seed(42)\n",
        "\n",
        "b = torch.randn(1, requires_grad = True, dtype=torch.float, device='cuda:0')\n",
        "w = torch.randn(1, requires_grad = True, dtype=torch.float, device='cuda:0')\n",
        "\n",
        "yhat = b + w * x_train_tensor\n",
        "\n",
        "error = (yhat - y_train_tensor)\n",
        "loss = (error ** 2).mean()"
      ],
      "metadata": {
        "id": "7DYPeqJOfhQZ"
      },
      "execution_count": null,
      "outputs": []
    },
    {
      "cell_type": "code",
      "source": [
        "make_dot(yhat)"
      ],
      "metadata": {
        "colab": {
          "base_uri": "https://localhost:8080/",
          "height": 397
        },
        "id": "BJn9fJt8frz3",
        "outputId": "9416b6a6-77c2-4dbb-9652-f765b1326cf4"
      },
      "execution_count": null,
      "outputs": [
        {
          "output_type": "execute_result",
          "data": {
            "text/plain": [
              "<graphviz.dot.Digraph at 0x7f83a1aae9d0>"
            ],
            "image/svg+xml": "<?xml version=\"1.0\" encoding=\"UTF-8\" standalone=\"no\"?>\n<!DOCTYPE svg PUBLIC \"-//W3C//DTD SVG 1.1//EN\"\n \"http://www.w3.org/Graphics/SVG/1.1/DTD/svg11.dtd\">\n<!-- Generated by graphviz version 2.40.1 (20161225.0304)\n -->\n<!-- Title: %3 Pages: 1 -->\n<svg width=\"222pt\" height=\"283pt\"\n viewBox=\"0.00 0.00 222.00 283.00\" xmlns=\"http://www.w3.org/2000/svg\" xmlns:xlink=\"http://www.w3.org/1999/xlink\">\n<g id=\"graph0\" class=\"graph\" transform=\"scale(1 1) rotate(0) translate(4 279)\">\n<title>%3</title>\n<polygon fill=\"#ffffff\" stroke=\"transparent\" points=\"-4,4 -4,-279 218,-279 218,4 -4,4\"/>\n<!-- 140203330369776 -->\n<g id=\"node1\" class=\"node\">\n<title>140203330369776</title>\n<polygon fill=\"#caff70\" stroke=\"#000000\" points=\"139,-31 74,-31 74,0 139,0 139,-31\"/>\n<text text-anchor=\"middle\" x=\"106.5\" y=\"-7\" font-family=\"monospace\" font-size=\"10.00\" fill=\"#000000\"> (80, 1)</text>\n</g>\n<!-- 140203329774864 -->\n<g id=\"node2\" class=\"node\">\n<title>140203329774864</title>\n<polygon fill=\"#d3d3d3\" stroke=\"#000000\" points=\"151,-86 62,-86 62,-67 151,-67 151,-86\"/>\n<text text-anchor=\"middle\" x=\"106.5\" y=\"-74\" font-family=\"monospace\" font-size=\"10.00\" fill=\"#000000\">AddBackward0</text>\n</g>\n<!-- 140203329774864&#45;&gt;140203330369776 -->\n<g id=\"edge6\" class=\"edge\">\n<title>140203329774864&#45;&gt;140203330369776</title>\n<path fill=\"none\" stroke=\"#000000\" d=\"M106.5,-66.9688C106.5,-60.1289 106.5,-50.5621 106.5,-41.5298\"/>\n<polygon fill=\"#000000\" stroke=\"#000000\" points=\"110.0001,-41.3678 106.5,-31.3678 103.0001,-41.3678 110.0001,-41.3678\"/>\n</g>\n<!-- 140203329775632 -->\n<g id=\"node3\" class=\"node\">\n<title>140203329775632</title>\n<polygon fill=\"#d3d3d3\" stroke=\"#000000\" points=\"101,-141 0,-141 0,-122 101,-122 101,-141\"/>\n<text text-anchor=\"middle\" x=\"50.5\" y=\"-129\" font-family=\"monospace\" font-size=\"10.00\" fill=\"#000000\">AccumulateGrad</text>\n</g>\n<!-- 140203329775632&#45;&gt;140203329774864 -->\n<g id=\"edge1\" class=\"edge\">\n<title>140203329775632&#45;&gt;140203329774864</title>\n<path fill=\"none\" stroke=\"#000000\" d=\"M60.2545,-121.9197C68.1865,-114.1293 79.5788,-102.9405 89.0712,-93.6176\"/>\n<polygon fill=\"#000000\" stroke=\"#000000\" points=\"91.7982,-95.845 96.4802,-86.3408 86.8932,-90.8509 91.7982,-95.845\"/>\n</g>\n<!-- 140203330370448 -->\n<g id=\"node4\" class=\"node\">\n<title>140203330370448</title>\n<polygon fill=\"#add8e6\" stroke=\"#000000\" points=\"77.5,-208 23.5,-208 23.5,-177 77.5,-177 77.5,-208\"/>\n<text text-anchor=\"middle\" x=\"50.5\" y=\"-184\" font-family=\"monospace\" font-size=\"10.00\" fill=\"#000000\"> (1)</text>\n</g>\n<!-- 140203330370448&#45;&gt;140203329775632 -->\n<g id=\"edge2\" class=\"edge\">\n<title>140203330370448&#45;&gt;140203329775632</title>\n<path fill=\"none\" stroke=\"#000000\" d=\"M50.5,-176.791C50.5,-169.0249 50.5,-159.5706 50.5,-151.3129\"/>\n<polygon fill=\"#000000\" stroke=\"#000000\" points=\"54.0001,-151.0647 50.5,-141.0648 47.0001,-151.0648 54.0001,-151.0647\"/>\n</g>\n<!-- 140203329775760 -->\n<g id=\"node5\" class=\"node\">\n<title>140203329775760</title>\n<polygon fill=\"#d3d3d3\" stroke=\"#000000\" points=\"208,-141 119,-141 119,-122 208,-122 208,-141\"/>\n<text text-anchor=\"middle\" x=\"163.5\" y=\"-129\" font-family=\"monospace\" font-size=\"10.00\" fill=\"#000000\">MulBackward0</text>\n</g>\n<!-- 140203329775760&#45;&gt;140203329774864 -->\n<g id=\"edge3\" class=\"edge\">\n<title>140203329775760&#45;&gt;140203329774864</title>\n<path fill=\"none\" stroke=\"#000000\" d=\"M153.5714,-121.9197C145.4169,-114.0514 133.6697,-102.7164 123.9508,-93.3385\"/>\n<polygon fill=\"#000000\" stroke=\"#000000\" points=\"126.3252,-90.7659 116.6987,-86.3408 121.4646,-95.8032 126.3252,-90.7659\"/>\n</g>\n<!-- 140207218524752 -->\n<g id=\"node6\" class=\"node\">\n<title>140207218524752</title>\n<polygon fill=\"#d3d3d3\" stroke=\"#000000\" points=\"214,-202 113,-202 113,-183 214,-183 214,-202\"/>\n<text text-anchor=\"middle\" x=\"163.5\" y=\"-190\" font-family=\"monospace\" font-size=\"10.00\" fill=\"#000000\">AccumulateGrad</text>\n</g>\n<!-- 140207218524752&#45;&gt;140203329775760 -->\n<g id=\"edge4\" class=\"edge\">\n<title>140207218524752&#45;&gt;140203329775760</title>\n<path fill=\"none\" stroke=\"#000000\" d=\"M163.5,-182.9688C163.5,-174.5131 163.5,-161.8901 163.5,-151.2615\"/>\n<polygon fill=\"#000000\" stroke=\"#000000\" points=\"167.0001,-151.1656 163.5,-141.1656 160.0001,-151.1657 167.0001,-151.1656\"/>\n</g>\n<!-- 140203330371216 -->\n<g id=\"node7\" class=\"node\">\n<title>140203330371216</title>\n<polygon fill=\"#add8e6\" stroke=\"#000000\" points=\"190.5,-275 136.5,-275 136.5,-244 190.5,-244 190.5,-275\"/>\n<text text-anchor=\"middle\" x=\"163.5\" y=\"-251\" font-family=\"monospace\" font-size=\"10.00\" fill=\"#000000\"> (1)</text>\n</g>\n<!-- 140203330371216&#45;&gt;140207218524752 -->\n<g id=\"edge5\" class=\"edge\">\n<title>140203330371216&#45;&gt;140207218524752</title>\n<path fill=\"none\" stroke=\"#000000\" d=\"M163.5,-243.9604C163.5,-234.6356 163.5,-222.6748 163.5,-212.6317\"/>\n<polygon fill=\"#000000\" stroke=\"#000000\" points=\"167.0001,-212.35 163.5,-202.3501 160.0001,-212.3501 167.0001,-212.35\"/>\n</g>\n</g>\n</svg>\n"
          },
          "metadata": {},
          "execution_count": 63
        }
      ]
    },
    {
      "cell_type": "markdown",
      "source": [
        "# Optimizer \n",
        "SSD, MSpop, Adam"
      ],
      "metadata": {
        "id": "LileQPmWHpmL"
      }
    },
    {
      "cell_type": "markdown",
      "source": [
        "### step/Zero_gad"
      ],
      "metadata": {
        "id": "mQK8uXy1Ia7I"
      }
    },
    {
      "cell_type": "code",
      "source": [
        "#stochastic gradient descent - SGD\n",
        "\n",
        "lr = 0.1\n",
        "torch.manual_seed(42)\n",
        "\n",
        "b = torch.randn(1, requires_grad = True, dtype=torch.float, device='cuda:0')\n",
        "w = torch.randn(1, requires_grad = True, dtype=torch.float, device='cuda:0')\n",
        "\n",
        "optimizer = optim.SGD([b,w],lr=lr)\n",
        "\n",
        "n_epochs = 1000\n",
        "\n",
        "for epoch in range(n_epochs):\n",
        "  yhat = b+w * x_train_tensor\n",
        "\n",
        "  error = (yhat-y_train_tensor)\n",
        "  loss = (error ** 2).mean()\n",
        "\n",
        "  loss.backward()\n",
        "#  with torch.no_grad():\n",
        "#    b -= lr * b.grad\n",
        "#    w -= lr * w.grad\n",
        "\n",
        "  optimizer.step()\n",
        "\n",
        "  #b.grad.zero_()\n",
        "  #w.grad.zero_()\n",
        "  optimizer.zero_grad()\n",
        "\n",
        "print(b,w)"
      ],
      "metadata": {
        "colab": {
          "base_uri": "https://localhost:8080/"
        },
        "id": "WHTL8vePHrHf",
        "outputId": "25d0fd9d-5c99-443f-de42-b8ba8cbe7c02"
      },
      "execution_count": null,
      "outputs": [
        {
          "output_type": "stream",
          "name": "stdout",
          "text": [
            "tensor([1.0235], device='cuda:0', requires_grad=True) tensor([1.9690], device='cuda:0', requires_grad=True)\n"
          ]
        }
      ]
    },
    {
      "cell_type": "markdown",
      "source": [
        "# Loss"
      ],
      "metadata": {
        "id": "fhUjbtJdv2XL"
      }
    },
    {
      "cell_type": "code",
      "source": [
        "loss_fn = nn.MSELoss(reduction = 'mean')\n",
        "loss_fn"
      ],
      "metadata": {
        "colab": {
          "base_uri": "https://localhost:8080/"
        },
        "id": "tsYRdbhRv3ed",
        "outputId": "89d10d9a-af5d-4879-97bf-4abd67961371"
      },
      "execution_count": null,
      "outputs": [
        {
          "output_type": "execute_result",
          "data": {
            "text/plain": [
              "MSELoss()"
            ]
          },
          "metadata": {},
          "execution_count": 65
        }
      ]
    },
    {
      "cell_type": "code",
      "source": [
        "#stochastic gradient descent - SGD\n",
        "\n",
        "lr = 0.1\n",
        "torch.manual_seed(42)\n",
        "\n",
        "b = torch.randn(1, requires_grad = True, dtype=torch.float, device='cuda:0')\n",
        "w = torch.randn(1, requires_grad = True, dtype=torch.float, device='cuda:0')\n",
        "\n",
        "optimizer = optim.SGD([b,w],lr=lr)\n",
        "\n",
        "loss_fn = nn.MSELoss(reduction='mean')\n",
        "n_epochs = 1000\n",
        "\n",
        "for epoch in range(n_epochs):\n",
        "  yhat = b+w * x_train_tensor\n",
        "\n",
        "  error = (yhat-y_train_tensor)\n",
        "  loss = (error ** 2).mean()\n",
        "\n",
        "  loss.backward()\n",
        "#  with torch.no_grad():\n",
        "#    b -= lr * b.grad\n",
        "#    w -= lr * w.grad\n",
        "\n",
        "  optimizer.step()\n",
        "\n",
        "  #b.grad.zero_()\n",
        "  #w.grad.zero_()\n",
        "  optimizer.zero_grad()\n",
        "\n",
        "print(b,w)"
      ],
      "metadata": {
        "colab": {
          "base_uri": "https://localhost:8080/"
        },
        "id": "1TOTiJc6yL0m",
        "outputId": "1a2b52ee-f826-4fb7-eebd-e46fd8e956cf"
      },
      "execution_count": null,
      "outputs": [
        {
          "output_type": "stream",
          "name": "stdout",
          "text": [
            "tensor([1.0235], device='cuda:0', requires_grad=True) tensor([1.9690], device='cuda:0', requires_grad=True)\n"
          ]
        }
      ]
    },
    {
      "cell_type": "code",
      "source": [
        "loss"
      ],
      "metadata": {
        "colab": {
          "base_uri": "https://localhost:8080/"
        },
        "id": "By5LFMhSyWsW",
        "outputId": "756593e1-96ba-46a1-fdef-a1a913186a3d"
      },
      "execution_count": null,
      "outputs": [
        {
          "output_type": "execute_result",
          "data": {
            "text/plain": [
              "tensor(0.0080, device='cuda:0', grad_fn=<MeanBackward0>)"
            ]
          },
          "metadata": {},
          "execution_count": 67
        }
      ]
    },
    {
      "cell_type": "code",
      "source": [
        "loss.detach().cpu().numpy()"
      ],
      "metadata": {
        "colab": {
          "base_uri": "https://localhost:8080/"
        },
        "id": "Lhk-Zjhvyd8x",
        "outputId": "66176958-2c93-4e23-ef3b-b95100a9b26c"
      },
      "execution_count": null,
      "outputs": [
        {
          "output_type": "execute_result",
          "data": {
            "text/plain": [
              "array(0.00804466, dtype=float32)"
            ]
          },
          "metadata": {},
          "execution_count": 68
        }
      ]
    },
    {
      "cell_type": "markdown",
      "source": [
        "# Model"
      ],
      "metadata": {
        "id": "3S7pDLwWypGd"
      }
    },
    {
      "cell_type": "code",
      "source": [
        "class ManualLinearRegression(nn.Module):\n",
        "  def __init__(self):\n",
        "    super().__init__()\n",
        "    self.b = nn.Parameter(torch.randn(1,requires_grad=True,dtype=torch.float))\n",
        "    self.w = nn.Parameter(torch.randn(1,requires_grad=True,dtype=torch.float))\n",
        "\n",
        "  def forward(self,x):\n",
        "    return self.b + self.w*x\n",
        "\n"
      ],
      "metadata": {
        "id": "blx1eIxJyqZb"
      },
      "execution_count": null,
      "outputs": []
    },
    {
      "cell_type": "code",
      "source": [
        "torch.manual_seed(42)\n",
        "dummy = ManualLinearRegression()\n",
        "list(dummy.parameters())"
      ],
      "metadata": {
        "colab": {
          "base_uri": "https://localhost:8080/"
        },
        "id": "OBxg-A7yjHGZ",
        "outputId": "46cae886-1813-4a02-e2aa-a332123fc36a"
      },
      "execution_count": null,
      "outputs": [
        {
          "output_type": "execute_result",
          "data": {
            "text/plain": [
              "[Parameter containing:\n",
              " tensor([0.3367], requires_grad=True), Parameter containing:\n",
              " tensor([0.1288], requires_grad=True)]"
            ]
          },
          "metadata": {},
          "execution_count": 70
        }
      ]
    },
    {
      "cell_type": "markdown",
      "source": [
        "### state_dict"
      ],
      "metadata": {
        "id": "xxNzwf95jzao"
      }
    },
    {
      "cell_type": "code",
      "source": [
        "dummy.state_dict()"
      ],
      "metadata": {
        "colab": {
          "base_uri": "https://localhost:8080/"
        },
        "id": "RYRDaTp-j1nh",
        "outputId": "88694e8d-e4f5-43cc-aeb4-ad3f3198e8a4"
      },
      "execution_count": null,
      "outputs": [
        {
          "output_type": "execute_result",
          "data": {
            "text/plain": [
              "OrderedDict([('b', tensor([0.3367])), ('w', tensor([0.1288]))])"
            ]
          },
          "metadata": {},
          "execution_count": 71
        }
      ]
    },
    {
      "cell_type": "code",
      "source": [
        "optimizer.state_dict()"
      ],
      "metadata": {
        "colab": {
          "base_uri": "https://localhost:8080/"
        },
        "id": "z7g261IYkC9L",
        "outputId": "a172e1e7-c97c-49fc-e138-40fed4260943"
      },
      "execution_count": null,
      "outputs": [
        {
          "output_type": "execute_result",
          "data": {
            "text/plain": [
              "{'param_groups': [{'dampening': 0,\n",
              "   'lr': 0.1,\n",
              "   'maximize': False,\n",
              "   'momentum': 0,\n",
              "   'nesterov': False,\n",
              "   'params': [0, 1],\n",
              "   'weight_decay': 0}],\n",
              " 'state': {0: {'momentum_buffer': None}, 1: {'momentum_buffer': None}}}"
            ]
          },
          "metadata": {},
          "execution_count": 72
        }
      ]
    },
    {
      "cell_type": "markdown",
      "source": [
        "### forward pass"
      ],
      "metadata": {
        "id": "1DzxjwcBkOzE"
      }
    },
    {
      "cell_type": "code",
      "source": [
        "lr = 0.1\n",
        "\n",
        "torch.manual_seed(42)\n",
        "model = ManualLinearRegression().to('cuda:0')\n",
        "\n",
        "optimizer = optim.SGD(model.parameters(), lr=lr)\n",
        "\n",
        "loss_fn = nn.MSELoss(reduction='mean')\n",
        "\n",
        "n_epochs = 1000\n",
        "\n",
        "for epoch in range(n_epochs):\n",
        "  model.train()\n",
        "\n",
        "  yhat = model(x_train_tensor)\n",
        "  loss = loss_fn(yhat, y_train_tensor)\n",
        "\n",
        "  loss.backward()\n",
        "\n",
        "  optimizer.step()\n",
        "  optimizer.zero_grad()\n",
        "\n",
        "print(model.state_dict())"
      ],
      "metadata": {
        "colab": {
          "base_uri": "https://localhost:8080/"
        },
        "id": "sZfzy6t8kQy-",
        "outputId": "2c55f3cf-2a6a-4c79-80aa-a57a09a2ab26"
      },
      "execution_count": null,
      "outputs": [
        {
          "output_type": "stream",
          "name": "stdout",
          "text": [
            "OrderedDict([('b', tensor([1.0235], device='cuda:0')), ('w', tensor([1.9690], device='cuda:0'))])\n"
          ]
        }
      ]
    },
    {
      "cell_type": "markdown",
      "source": [
        "### train"
      ],
      "metadata": {
        "id": "A5V0HFzfmgvN"
      }
    },
    {
      "cell_type": "code",
      "source": [
        ""
      ],
      "metadata": {
        "id": "PHOoVojMmirx"
      },
      "execution_count": null,
      "outputs": []
    },
    {
      "cell_type": "markdown",
      "source": [
        "### nested models"
      ],
      "metadata": {
        "id": "J5rx_fQanCIl"
      }
    },
    {
      "cell_type": "code",
      "source": [
        "class MyLinearRegression(nn.Module):\n",
        "  def __init__(self):\n",
        "    super().__init__()\n",
        "    self.Linear = nn.Linear(1,1)\n",
        "  \n",
        "  def forward(self,x):\n",
        "    self.Linear(x)\n",
        "\n"
      ],
      "metadata": {
        "id": "pPzJyL-XnECy"
      },
      "execution_count": null,
      "outputs": []
    },
    {
      "cell_type": "code",
      "source": [
        "torch.manual_seed(42)\n",
        "dummy2 = MyLinearRegression().to('cuda:0')\n",
        "\n",
        "list(dummy2.parameters())"
      ],
      "metadata": {
        "colab": {
          "base_uri": "https://localhost:8080/"
        },
        "id": "Am5B7FhSoDdh",
        "outputId": "d21a0cca-5928-4ceb-8b51-18e3a8d8c1ad"
      },
      "execution_count": null,
      "outputs": [
        {
          "output_type": "execute_result",
          "data": {
            "text/plain": [
              "[Parameter containing:\n",
              " tensor([[0.7645]], device='cuda:0', requires_grad=True), Parameter containing:\n",
              " tensor([0.8300], device='cuda:0', requires_grad=True)]"
            ]
          },
          "metadata": {},
          "execution_count": 75
        }
      ]
    },
    {
      "cell_type": "code",
      "source": [
        "dummy2.state_dict()"
      ],
      "metadata": {
        "colab": {
          "base_uri": "https://localhost:8080/"
        },
        "id": "_UCpTbyIoth_",
        "outputId": "fbcafd45-5abe-44da-e1b3-c3b2342d7944"
      },
      "execution_count": null,
      "outputs": [
        {
          "output_type": "execute_result",
          "data": {
            "text/plain": [
              "OrderedDict([('Linear.weight', tensor([[0.7645]], device='cuda:0')),\n",
              "             ('Linear.bias', tensor([0.8300], device='cuda:0'))])"
            ]
          },
          "metadata": {},
          "execution_count": 76
        }
      ]
    },
    {
      "cell_type": "markdown",
      "source": [
        "### sequential models"
      ],
      "metadata": {
        "id": "_KA7Z_xNpJOY"
      }
    },
    {
      "cell_type": "code",
      "source": [
        "torch.manual_seed(42)\n",
        "model = nn.Sequential(nn.Linear(1,1).to('cuda:0'))\n",
        "\n",
        "model.state_dict()"
      ],
      "metadata": {
        "colab": {
          "base_uri": "https://localhost:8080/"
        },
        "id": "QRwcVwrUpMKw",
        "outputId": "38441c8a-23b4-455a-cac9-cd3c50231555"
      },
      "execution_count": null,
      "outputs": [
        {
          "output_type": "execute_result",
          "data": {
            "text/plain": [
              "OrderedDict([('0.weight', tensor([[0.7645]], device='cuda:0')),\n",
              "             ('0.bias', tensor([0.8300], device='cuda:0'))])"
            ]
          },
          "metadata": {},
          "execution_count": 77
        }
      ]
    },
    {
      "cell_type": "markdown",
      "source": [
        "# Layers"
      ],
      "metadata": {
        "id": "YVNWbkARqJ79"
      }
    },
    {
      "cell_type": "code",
      "source": [
        "torch.manual_seed(42)\n",
        "model = nn.Sequential(nn.Linear(3,5), nn.Linear(5,1)).to('cuda:0')\n",
        "model.state_dict()"
      ],
      "metadata": {
        "colab": {
          "base_uri": "https://localhost:8080/"
        },
        "id": "NJFl77gqpMTz",
        "outputId": "102e876f-7307-41cb-c40d-c1e33841c513"
      },
      "execution_count": null,
      "outputs": [
        {
          "output_type": "execute_result",
          "data": {
            "text/plain": [
              "OrderedDict([('0.weight', tensor([[ 0.4414,  0.4792, -0.1353],\n",
              "                      [ 0.5304, -0.1265,  0.1165],\n",
              "                      [-0.2811,  0.3391,  0.5090],\n",
              "                      [-0.4236,  0.5018,  0.1081],\n",
              "                      [ 0.4266,  0.0782,  0.2784]], device='cuda:0')),\n",
              "             ('0.bias',\n",
              "              tensor([-0.0815,  0.4451,  0.0853, -0.2695,  0.1472], device='cuda:0')),\n",
              "             ('1.weight',\n",
              "              tensor([[-0.2060, -0.0524, -0.1816,  0.2967, -0.3530]], device='cuda:0')),\n",
              "             ('1.bias', tensor([-0.2062], device='cuda:0'))])"
            ]
          },
          "metadata": {},
          "execution_count": 78
        }
      ]
    },
    {
      "cell_type": "code",
      "source": [
        "torch.manual_seed(42)\n",
        "model_22 = nn.Sequential(nn.Linear(3,5), nn.Linear(5,2)).to('cuda:0')\n",
        "model_22.state_dict()"
      ],
      "metadata": {
        "colab": {
          "base_uri": "https://localhost:8080/"
        },
        "id": "GqUmtel-quMI",
        "outputId": "4131d1e1-2144-470c-e540-1d0f815bca9e"
      },
      "execution_count": null,
      "outputs": [
        {
          "output_type": "execute_result",
          "data": {
            "text/plain": [
              "OrderedDict([('0.weight', tensor([[ 0.4414,  0.4792, -0.1353],\n",
              "                      [ 0.5304, -0.1265,  0.1165],\n",
              "                      [-0.2811,  0.3391,  0.5090],\n",
              "                      [-0.4236,  0.5018,  0.1081],\n",
              "                      [ 0.4266,  0.0782,  0.2784]], device='cuda:0')),\n",
              "             ('0.bias',\n",
              "              tensor([-0.0815,  0.4451,  0.0853, -0.2695,  0.1472], device='cuda:0')),\n",
              "             ('1.weight',\n",
              "              tensor([[-0.2060, -0.0524, -0.1816,  0.2967, -0.3530],\n",
              "                      [-0.2062, -0.1263, -0.2689,  0.0422, -0.4417]], device='cuda:0')),\n",
              "             ('1.bias', tensor([ 0.4039, -0.3799], device='cuda:0'))])"
            ]
          },
          "metadata": {},
          "execution_count": 79
        }
      ]
    },
    {
      "cell_type": "code",
      "source": [
        "torch.manual_seed(42)\n",
        "\n",
        "model_33 = nn.Sequential()\n",
        "model_33.add_module('layer 1', nn.Linear(3,5))\n",
        "model_33.add_module('layer 2', nn.Linear(5,1))\n",
        "\n",
        "model.to('cuda:0')"
      ],
      "metadata": {
        "colab": {
          "base_uri": "https://localhost:8080/"
        },
        "id": "F-2vAT0OrJR_",
        "outputId": "ea68170a-4920-4221-8ce4-f10f93b49321"
      },
      "execution_count": null,
      "outputs": [
        {
          "output_type": "execute_result",
          "data": {
            "text/plain": [
              "Sequential(\n",
              "  (0): Linear(in_features=3, out_features=5, bias=True)\n",
              "  (1): Linear(in_features=5, out_features=1, bias=True)\n",
              ")"
            ]
          },
          "metadata": {},
          "execution_count": 80
        }
      ]
    },
    {
      "cell_type": "markdown",
      "source": [
        "### data geeneration"
      ],
      "metadata": {
        "id": "ChmNqwNweEMK"
      }
    },
    {
      "cell_type": "code",
      "source": [
        "%%writefile data_generation/simple_linear_regression.py\n",
        "\n",
        "import numpy as np\n",
        "\n",
        "true_b = 1\n",
        "true_w = 2\n",
        "N = 100\n",
        "\n",
        "# Data Generation\n",
        "np.random.seed(42)\n",
        "x = np.random.rand(N, 1)\n",
        "y = true_b + true_w * x + (.1 * np.random.randn(N, 1))\n",
        "\n",
        "# Shuffles the indices\n",
        "idx = np.arange(N)\n",
        "np.random.shuffle(idx)\n",
        "\n",
        "# Uses first 80 random indices for train\n",
        "train_idx = idx[:int(N*.8)]\n",
        "# Uses the remaining indices for validation\n",
        "val_idx = idx[int(N*.8):]\n",
        "\n",
        "# Generates train and validation sets\n",
        "x_train, y_train = x[train_idx], y[train_idx]\n",
        "x_val, y_val = x[val_idx], y[val_idx]"
      ],
      "metadata": {
        "colab": {
          "base_uri": "https://localhost:8080/"
        },
        "id": "1dDGJNzOeGQ6",
        "outputId": "a72ad782-24f2-4c0e-cc5a-9edbb7f84f09"
      },
      "execution_count": 92,
      "outputs": [
        {
          "output_type": "stream",
          "name": "stdout",
          "text": [
            "Writing data_generation/simple_linear_regression.py\n"
          ]
        }
      ]
    },
    {
      "cell_type": "markdown",
      "source": [
        "### Data Preparation"
      ],
      "metadata": {
        "id": "ahAXThwwYAhT"
      }
    },
    {
      "cell_type": "code",
      "source": [
        "%%writefile data_preparation/v0.py\n",
        "\n",
        "device = 'cuda:0'\n",
        "\n",
        "x_train_tensor = torch.as_tensor(x_train).float().to(device)\n",
        "y_train_tensor = torch.as_tensor(y_train).float().to(device)\n"
      ],
      "metadata": {
        "colab": {
          "base_uri": "https://localhost:8080/"
        },
        "id": "VH1u4SpEYDEl",
        "outputId": "1dfec01d-7cf2-49ef-d6bd-75f36b6b61f4"
      },
      "execution_count": null,
      "outputs": [
        {
          "output_type": "stream",
          "name": "stdout",
          "text": [
            "Writing data_preparation/v0.py\n"
          ]
        }
      ]
    },
    {
      "cell_type": "code",
      "source": [
        "%run -i data_preparation/v0.py"
      ],
      "metadata": {
        "id": "HTfYtvdeYjMW"
      },
      "execution_count": null,
      "outputs": []
    },
    {
      "cell_type": "markdown",
      "source": [
        "### model configuration"
      ],
      "metadata": {
        "id": "l15kMZuTY5in"
      }
    },
    {
      "cell_type": "code",
      "source": [
        "%%writefile model_configuration/v0.py\n",
        "device = 'cuda:0'\n",
        "\n",
        "lr = 0.1\n",
        "\n",
        "torch.manual_seed(42)\n",
        "\n",
        "model = nn.Sequential(nn.Linear(1,1)).to(device)\n",
        "\n",
        "optimizer = optim.SGD(model.parameters(), lr=lr)\n",
        "\n",
        "loss_fn = nn.MSELoss(reduction='mean')"
      ],
      "metadata": {
        "colab": {
          "base_uri": "https://localhost:8080/"
        },
        "id": "M5AronBSY8ZK",
        "outputId": "e7d5d873-255e-4aa8-a0ee-12d51bbb0217"
      },
      "execution_count": null,
      "outputs": [
        {
          "output_type": "stream",
          "name": "stdout",
          "text": [
            "Writing model_configuration/v0.py\n"
          ]
        }
      ]
    },
    {
      "cell_type": "code",
      "source": [
        "%run -i model_configuration/v0.py"
      ],
      "metadata": {
        "id": "qB0L7Ey5ZmFF"
      },
      "execution_count": null,
      "outputs": []
    },
    {
      "cell_type": "markdown",
      "source": [
        "### model training"
      ],
      "metadata": {
        "id": "wnJw8u2sZxVb"
      }
    },
    {
      "cell_type": "code",
      "source": [
        "%%writefile model_training/v0.py\n",
        "\n",
        "n_epochs = 1000\n",
        "\n",
        "for epoch in range(n_epochs):\n",
        "  model.train()\n",
        "\n",
        "  yhat = model(x_train_tensor)\n",
        "  loss = loss_fn(yhat, y_train_tensor)\n",
        "\n",
        "  loss.backward()\n",
        "\n",
        "  optimizer.step()\n",
        "  optimizer.zero_grad()\n",
        "  "
      ],
      "metadata": {
        "colab": {
          "base_uri": "https://localhost:8080/"
        },
        "id": "nVfnDo_JZzWd",
        "outputId": "2868f150-8435-4a49-ce54-355a6ba16cb0"
      },
      "execution_count": null,
      "outputs": [
        {
          "output_type": "stream",
          "name": "stdout",
          "text": [
            "Writing model_training/v0.py\n"
          ]
        }
      ]
    },
    {
      "cell_type": "code",
      "source": [
        "%run -i model_training/v0.py"
      ],
      "metadata": {
        "id": "J6asZ3QkaPTt"
      },
      "execution_count": null,
      "outputs": []
    },
    {
      "cell_type": "code",
      "source": [
        "print(model.state_dict())"
      ],
      "metadata": {
        "colab": {
          "base_uri": "https://localhost:8080/"
        },
        "id": "xJ4l-blraUYd",
        "outputId": "bafa5f1b-534a-4da8-9535-b0beab86005c"
      },
      "execution_count": null,
      "outputs": [
        {
          "output_type": "stream",
          "name": "stdout",
          "text": [
            "OrderedDict([('0.weight', tensor([[1.9690]], device='cuda:0')), ('0.bias', tensor([1.0235], device='cuda:0'))])\n"
          ]
        }
      ]
    }
  ]
}