{
  "nbformat": 4,
  "nbformat_minor": 0,
  "metadata": {
    "colab": {
      "name": "Deep_Learning_with_PyTorch_01_Regression",
      "provenance": [],
      "collapsed_sections": [],
      "authorship_tag": "ABX9TyOiejR2YATogSi8vDLRDmlo",
      "include_colab_link": true
    },
    "kernelspec": {
      "name": "python3",
      "display_name": "Python 3"
    },
    "language_info": {
      "name": "python"
    }
  },
  "cells": [
    {
      "cell_type": "markdown",
      "metadata": {
        "id": "view-in-github",
        "colab_type": "text"
      },
      "source": [
        "<a href=\"https://colab.research.google.com/github/raviakasapu/DeepLearningPyTorch/blob/main/Deep_Learning_with_PyTorch_01_Regression.ipynb\" target=\"_parent\"><img src=\"https://colab.research.google.com/assets/colab-badge.svg\" alt=\"Open In Colab\"/></a>"
      ]
    },
    {
      "cell_type": "markdown",
      "source": [
        "## Deep Learning with PyTorch - Chapteer 01\n",
        "A simple Regression Problem\n",
        "\n"
      ],
      "metadata": {
        "id": "hpNQO_FnCHOa"
      }
    },
    {
      "cell_type": "markdown",
      "source": [
        "code examples from https://github.com/dvgodoy/PyTorchStepByStep/blob/master/Chapter01.ipynb"
      ],
      "metadata": {
        "id": "wQcEWdBNCp-i"
      }
    },
    {
      "cell_type": "code",
      "source": [
        ""
      ],
      "metadata": {
        "id": "l7MDcpyxCV54"
      },
      "execution_count": null,
      "outputs": []
    }
  ]
}