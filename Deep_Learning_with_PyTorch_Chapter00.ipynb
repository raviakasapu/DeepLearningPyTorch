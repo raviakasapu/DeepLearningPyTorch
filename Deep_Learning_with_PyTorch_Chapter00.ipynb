{
  "nbformat": 4,
  "nbformat_minor": 0,
  "metadata": {
    "colab": {
      "name": "Deep_Learning_with_PyTorch_Chapter00.ipynb",
      "provenance": [],
      "collapsed_sections": [],
      "authorship_tag": "ABX9TyPOsHOIcON8VzVTbyDiwBwt",
      "include_colab_link": true
    },
    "kernelspec": {
      "name": "python3",
      "display_name": "Python 3"
    },
    "language_info": {
      "name": "python"
    }
  },
  "cells": [
    {
      "cell_type": "markdown",
      "metadata": {
        "id": "view-in-github",
        "colab_type": "text"
      },
      "source": [
        "<a href=\"https://colab.research.google.com/github/raviakasapu/DeepLearningPyTorch/blob/main/Deep_Learning_with_PyTorch_Chapter00.ipynb\" target=\"_parent\"><img src=\"https://colab.research.google.com/assets/colab-badge.svg\" alt=\"Open In Colab\"/></a>"
      ]
    },
    {
      "cell_type": "markdown",
      "source": [
        "## Deep Learning with PyTorch"
      ],
      "metadata": {
        "id": "yIM6kv6kEH4b"
      }
    },
    {
      "cell_type": "markdown",
      "source": [
        "code examples from https://github.com/dvgodoy/PyTorchStepByStep"
      ],
      "metadata": {
        "id": "omAT0uywELkO"
      }
    },
    {
      "cell_type": "code",
      "source": [
        "import numpy as np\n",
        "from sklearn.linear_model import LinearRegression\n",
        "from sklearn.preprocessing import StandardScaler"
      ],
      "metadata": {
        "id": "2KizUeGAEP-N"
      },
      "execution_count": 64,
      "outputs": []
    },
    {
      "cell_type": "code",
      "source": [
        "import matplotlib.pyplot as plt\n",
        "plt.style.use('fivethirtyeight')"
      ],
      "metadata": {
        "id": "LXOgmeBUpcyP"
      },
      "execution_count": 96,
      "outputs": []
    },
    {
      "cell_type": "code",
      "source": [
        "def figure1(x_train, y_train, x_val, y_val):\n",
        "    fig, ax = plt.subplots(1, 2, figsize=(16, 8))\n",
        "    \n",
        "    ax[0].scatter(x_train, y_train)\n",
        "    ax[0].set_xlabel('x')\n",
        "    ax[0].set_ylabel('y')\n",
        "    ax[0].set_ylim([0, 3.1])\n",
        "    ax[0].set_title('Generated Data - Train')\n",
        "\n",
        "    ax[1].scatter(x_val, y_val, c='r')\n",
        "    ax[1].set_xlabel('x')\n",
        "    ax[1].set_ylabel('y')\n",
        "    ax[1].set_ylim([0, 3.1])\n",
        "    ax[1].set_title('Generated Data - Validation')\n",
        "    fig.tight_layout()\n",
        "    \n",
        "    return fig, ax"
      ],
      "metadata": {
        "id": "0rb0fUMnsL87"
      },
      "execution_count": 102,
      "outputs": []
    },
    {
      "cell_type": "code",
      "source": [
        "def figure0(x, y):\n",
        "    fig, ax = plt.subplots(1, 1, figsize=(6, 6))\n",
        "    \n",
        "    ax.scatter(x, y)\n",
        "    ax.set_xlabel('x')\n",
        "    ax.set_ylabel('y')\n",
        "    ax.set_ylim([0, 3.1])\n",
        "    ax.set_title('Generated Data - x , y ')\n",
        "\n",
        "    \n",
        "    return fig, ax"
      ],
      "metadata": {
        "id": "Mo2K68TZsXZm"
      },
      "execution_count": 110,
      "outputs": []
    },
    {
      "cell_type": "code",
      "source": [
        "true_b = 1\n",
        "true_w = 2\n",
        "\n",
        "n= 100\n",
        "\n",
        "#random data generation\n",
        "np.random.seed(42)\n",
        "x = np.random.rand(n,1)\n",
        "\n",
        "e = (0.1 * np.random.randn(n,1))\n",
        "\n",
        "# linear equation\n",
        "y = true_b + true_w * x + e"
      ],
      "metadata": {
        "id": "KkhWo1FREg40"
      },
      "execution_count": 65,
      "outputs": []
    },
    {
      "cell_type": "code",
      "source": [
        "figure0(x, y)"
      ],
      "metadata": {
        "colab": {
          "base_uri": "https://localhost:8080/",
          "height": 474
        },
        "id": "SGmJTnRzsQiS",
        "outputId": "06480b2e-a1cf-47ae-de84-8b803ed29c3c"
      },
      "execution_count": 111,
      "outputs": [
        {
          "output_type": "execute_result",
          "data": {
            "text/plain": [
              "(<Figure size 432x432 with 1 Axes>,\n",
              " <matplotlib.axes._subplots.AxesSubplot at 0x7f4d4c214d50>)"
            ]
          },
          "metadata": {},
          "execution_count": 111
        },
        {
          "output_type": "display_data",
          "data": {
            "text/plain": [
              "<Figure size 432x432 with 1 Axes>"
            ],
            "image/png": "[encoded data removed]"
          },
          "metadata": {}
        }
      ]
    },
    {
      "cell_type": "code",
      "source": [
        "idx = np.arange(n)\n",
        "np.random.shuffle(idx)\n",
        "\n",
        "#split 80: 20 train vs test\n",
        "train_idx = idx[:int(n*0.8)]\n",
        "val_idx = idx[int(n*0.8):]\n",
        "\n",
        "print(len(train_idx))\n",
        "print(len(val_idx))"
      ],
      "metadata": {
        "colab": {
          "base_uri": "https://localhost:8080/"
        },
        "id": "MUViJW_MFC0h",
        "outputId": "743ade81-93bd-4344-8a7a-9e937e74750f"
      },
      "execution_count": 66,
      "outputs": [
        {
          "output_type": "stream",
          "name": "stdout",
          "text": [
            "80\n",
            "20\n"
          ]
        }
      ]
    },
    {
      "cell_type": "code",
      "source": [
        "# generates train and validation sets\n",
        "x_train, y_train = x[train_idx], y[train_idx]\n",
        "x_val, y_val =  x[val_idx], y[val_idx]"
      ],
      "metadata": {
        "id": "X_MpBsZNFvh7"
      },
      "execution_count": 67,
      "outputs": []
    },
    {
      "cell_type": "code",
      "source": [
        ""
      ],
      "metadata": {
        "id": "DV2tmyjnpQiZ"
      },
      "execution_count": 100,
      "outputs": []
    },
    {
      "cell_type": "code",
      "source": [
        "figure1(x_train, y_train, x_val, y_val)"
      ],
      "metadata": {
        "colab": {
          "base_uri": "https://localhost:8080/",
          "height": 535
        },
        "id": "PlLPS4iApAQf",
        "outputId": "11949030-0de2-4d27-b95d-6907f344db71"
      },
      "execution_count": 101,
      "outputs": [
        {
          "output_type": "execute_result",
          "data": {
            "text/plain": [
              "(<Figure size 1152x576 with 2 Axes>,\n",
              " array([<matplotlib.axes._subplots.AxesSubplot object at 0x7f4d4c414a10>,\n",
              "        <matplotlib.axes._subplots.AxesSubplot object at 0x7f4d4c3b48d0>],\n",
              "       dtype=object))"
            ]
          },
          "metadata": {},
          "execution_count": 101
        },
        {
          "output_type": "display_data",
          "data": {
            "text/plain": [
              "<Figure size 1152x576 with 2 Axes>"
            ],
            "image/png": "[encoded data removed]"
          },
          "metadata": {}
        }
      ]
    },
    {
      "cell_type": "markdown",
      "source": [
        "# compute model's prediction "
      ],
      "metadata": {
        "id": "s121dBniIBLv"
      }
    },
    {
      "cell_type": "code",
      "source": [
        "np.random.seed(42)\n",
        "b = np.random.randn(1)\n",
        "w = np.random.randn(1)"
      ],
      "metadata": {
        "id": "TCWMztBzIdP_"
      },
      "execution_count": 68,
      "outputs": []
    },
    {
      "cell_type": "code",
      "source": [
        "print(b.shape)\n",
        "print(w.shape)"
      ],
      "metadata": {
        "colab": {
          "base_uri": "https://localhost:8080/"
        },
        "id": "wWilmNDAJRoz",
        "outputId": "f1b5fa9e-9d38-49dd-9d18-77455bd8524d"
      },
      "execution_count": 69,
      "outputs": [
        {
          "output_type": "stream",
          "name": "stdout",
          "text": [
            "(1,)\n",
            "(1,)\n"
          ]
        }
      ]
    },
    {
      "cell_type": "code",
      "source": [
        "yhat = b + w * x_train\n",
        "yhat.shape"
      ],
      "metadata": {
        "colab": {
          "base_uri": "https://localhost:8080/"
        },
        "id": "-6domw42IHbN",
        "outputId": "97fc9961-8644-4c19-e73e-710efd139a90"
      },
      "execution_count": 70,
      "outputs": [
        {
          "output_type": "execute_result",
          "data": {
            "text/plain": [
              "(80, 1)"
            ]
          },
          "metadata": {},
          "execution_count": 70
        }
      ]
    },
    {
      "cell_type": "code",
      "source": [
        "error = (yhat - y_train)\n",
        "error.shape"
      ],
      "metadata": {
        "colab": {
          "base_uri": "https://localhost:8080/"
        },
        "id": "cCXvIqHbI3Zw",
        "outputId": "d56b30f8-7b36-4577-9675-aea9f33f12b5"
      },
      "execution_count": 71,
      "outputs": [
        {
          "output_type": "execute_result",
          "data": {
            "text/plain": [
              "(80, 1)"
            ]
          },
          "metadata": {},
          "execution_count": 71
        }
      ]
    },
    {
      "cell_type": "code",
      "source": [
        "loss = (error ** 2).mean()\n",
        "loss"
      ],
      "metadata": {
        "colab": {
          "base_uri": "https://localhost:8080/"
        },
        "id": "yBLwRwsVJADC",
        "outputId": "05d49348-56c4-4eca-b390-8cd17c52ffa3"
      },
      "execution_count": 72,
      "outputs": [
        {
          "output_type": "execute_result",
          "data": {
            "text/plain": [
              "2.7421577700550976"
            ]
          },
          "metadata": {},
          "execution_count": 72
        }
      ]
    },
    {
      "cell_type": "markdown",
      "source": [
        "# loss surface"
      ],
      "metadata": {
        "id": "C13yMjayJv7q"
      }
    },
    {
      "cell_type": "code",
      "source": [
        "# create possible values for b & w\n",
        "b_range = np.linspace(true_b -3, true_b+3, 101)\n",
        "b_range.shape"
      ],
      "metadata": {
        "colab": {
          "base_uri": "https://localhost:8080/"
        },
        "id": "rAc2I6TOJx7h",
        "outputId": "b2744e4a-ab3f-469e-c429-22b2307c6a44"
      },
      "execution_count": 78,
      "outputs": [
        {
          "output_type": "execute_result",
          "data": {
            "text/plain": [
              "(101,)"
            ]
          },
          "metadata": {},
          "execution_count": 78
        }
      ]
    },
    {
      "cell_type": "code",
      "source": [
        "w_range = np.linspace(true_w -3, true_w+3, 101)\n",
        "w_range.shape"
      ],
      "metadata": {
        "colab": {
          "base_uri": "https://localhost:8080/"
        },
        "id": "6pEGQucTKSpG",
        "outputId": "ec2918e2-7c02-42a6-be08-d699c398de5b"
      },
      "execution_count": 74,
      "outputs": [
        {
          "output_type": "execute_result",
          "data": {
            "text/plain": [
              "(101,)"
            ]
          },
          "metadata": {},
          "execution_count": 74
        }
      ]
    },
    {
      "cell_type": "code",
      "source": [
        "bs, ws = np.meshgrid(b_range, w_range)\n",
        "bs.shape, ws.shape"
      ],
      "metadata": {
        "colab": {
          "base_uri": "https://localhost:8080/"
        },
        "id": "EC6HaN1BK0Ty",
        "outputId": "4345fd40-e620-4920-d36a-f9c09d053e0a"
      },
      "execution_count": 75,
      "outputs": [
        {
          "output_type": "execute_result",
          "data": {
            "text/plain": [
              "((101, 101), (101, 101))"
            ]
          },
          "metadata": {},
          "execution_count": 75
        }
      ]
    },
    {
      "cell_type": "markdown",
      "source": [
        "# prediction for a single data point in training data"
      ],
      "metadata": {
        "id": "cwP0CkNKNN8i"
      }
    },
    {
      "cell_type": "code",
      "source": [
        "dummy_x = x_train[0]\n",
        "dummy_yhat = bs + ws * dummy_x\n",
        "dummy_yhat.shape"
      ],
      "metadata": {
        "colab": {
          "base_uri": "https://localhost:8080/"
        },
        "id": "lcAo4TBJNSWV",
        "outputId": "c7dfce0f-944c-47f5-960d-ba8690c4af00"
      },
      "execution_count": 79,
      "outputs": [
        {
          "output_type": "execute_result",
          "data": {
            "text/plain": [
              "(101, 101)"
            ]
          },
          "metadata": {},
          "execution_count": 79
        }
      ]
    },
    {
      "cell_type": "code",
      "source": [
        "#repeat the same process for every value in training set x_train\n",
        "\n",
        "function = lambda x: bs+ws*x\n",
        "all_predictions = np.apply_along_axis(func1d = function, axis = 1, arr = x_train)"
      ],
      "metadata": {
        "id": "2-Phq1EeNhvI"
      },
      "execution_count": 81,
      "outputs": []
    },
    {
      "cell_type": "code",
      "source": [
        "all_predictions.shape"
      ],
      "metadata": {
        "colab": {
          "base_uri": "https://localhost:8080/"
        },
        "id": "qoG8HmrAQcwx",
        "outputId": "81c00875-29f1-4ada-c2c7-b9e360dff2da"
      },
      "execution_count": 82,
      "outputs": [
        {
          "output_type": "execute_result",
          "data": {
            "text/plain": [
              "(80, 101, 101)"
            ]
          },
          "metadata": {},
          "execution_count": 82
        }
      ]
    },
    {
      "cell_type": "code",
      "source": [
        "y_train.shape"
      ],
      "metadata": {
        "colab": {
          "base_uri": "https://localhost:8080/"
        },
        "id": "d6H6Ws4rQpUd",
        "outputId": "2edd74de-8506-43c9-8c99-171f9a496382"
      },
      "execution_count": 83,
      "outputs": [
        {
          "output_type": "execute_result",
          "data": {
            "text/plain": [
              "(80, 1)"
            ]
          },
          "metadata": {},
          "execution_count": 83
        }
      ]
    },
    {
      "cell_type": "code",
      "source": [
        "all_lables = y_train.reshape(-1,1,1)\n",
        "all_lables.shape"
      ],
      "metadata": {
        "colab": {
          "base_uri": "https://localhost:8080/"
        },
        "id": "Ys8g1vsQQucz",
        "outputId": "8fc990f0-cb42-4921-8871-00509d5aa618"
      },
      "execution_count": 87,
      "outputs": [
        {
          "output_type": "execute_result",
          "data": {
            "text/plain": [
              "(80, 1, 1)"
            ]
          },
          "metadata": {},
          "execution_count": 87
        }
      ]
    },
    {
      "cell_type": "code",
      "source": [
        "all_errors = (all_predictions - all_lables)\n",
        "all_errors.shape"
      ],
      "metadata": {
        "colab": {
          "base_uri": "https://localhost:8080/"
        },
        "id": "STnO7z7dQ57L",
        "outputId": "ddff02a1-428c-4f03-c765-4caceec6180e"
      },
      "execution_count": 88,
      "outputs": [
        {
          "output_type": "execute_result",
          "data": {
            "text/plain": [
              "(80, 101, 101)"
            ]
          },
          "metadata": {},
          "execution_count": 88
        }
      ]
    },
    {
      "cell_type": "code",
      "source": [
        "all_losses = (all_errors ** 2).mean(axis=0)\n",
        "all_losses.shape"
      ],
      "metadata": {
        "colab": {
          "base_uri": "https://localhost:8080/"
        },
        "id": "sOKiQ-OiRDZg",
        "outputId": "596205a1-d20f-4d94-d3d0-56f18caf5851"
      },
      "execution_count": 90,
      "outputs": [
        {
          "output_type": "execute_result",
          "data": {
            "text/plain": [
              "(101, 101)"
            ]
          },
          "metadata": {},
          "execution_count": 90
        }
      ]
    }
  ]
}