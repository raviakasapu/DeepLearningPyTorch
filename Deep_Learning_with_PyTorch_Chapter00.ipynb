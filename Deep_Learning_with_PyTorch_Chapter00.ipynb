{
  "nbformat": 4,
  "nbformat_minor": 0,
  "metadata": {
    "colab": {
      "name": "Deep_Learning_with_PyTorch_Chapter00.ipynb",
      "provenance": [],
      "collapsed_sections": [],
      "authorship_tag": "ABX9TyNqGDcW0XFOYNVGS+hXLtDC",
      "include_colab_link": true
    },
    "kernelspec": {
      "name": "python3",
      "display_name": "Python 3"
    },
    "language_info": {
      "name": "python"
    }
  },
  "cells": [
    {
      "cell_type": "markdown",
      "metadata": {
        "id": "view-in-github",
        "colab_type": "text"
      },
      "source": [
        "<a href=\"https://colab.research.google.com/github/raviakasapu/DeepLearningPyTorch/blob/main/Deep_Learning_with_PyTorch_Chapter00.ipynb\" target=\"_parent\"><img src=\"https://colab.research.google.com/assets/colab-badge.svg\" alt=\"Open In Colab\"/></a>"
      ]
    },
    {
      "cell_type": "markdown",
      "source": [
        "## Deep Learning with PyTorch"
      ],
      "metadata": {
        "id": "yIM6kv6kEH4b"
      }
    },
    {
      "cell_type": "markdown",
      "source": [
        "code examples from https://github.com/dvgodoy/PyTorchStepByStep"
      ],
      "metadata": {
        "id": "omAT0uywELkO"
      }
    },
    {
      "cell_type": "code",
      "source": [
        "import numpy as np\n",
        "from sklearn.linear_model import LinearRegression\n",
        "from sklearn.preprocessing import StandardScaler"
      ],
      "metadata": {
        "id": "2KizUeGAEP-N"
      },
      "execution_count": 64,
      "outputs": []
    },
    {
      "cell_type": "code",
      "source": [
        "true_b = 1\n",
        "true_w = 2\n",
        "\n",
        "n= 100\n",
        "\n",
        "#random data generation\n",
        "np.random.seed(42)\n",
        "x = np.random.rand(n,1)\n",
        "\n",
        "e = (0.1 * np.random.randn(n,1))\n",
        "\n",
        "# linear equation\n",
        "y = true_b + true_w * x + e"
      ],
      "metadata": {
        "id": "KkhWo1FREg40"
      },
      "execution_count": 65,
      "outputs": []
    },
    {
      "cell_type": "code",
      "source": [
        "idx = np.arange(n)\n",
        "np.random.shuffle(idx)\n",
        "\n",
        "#split 80: 20 train vs test\n",
        "train_idx = idx[:int(n*0.8)]\n",
        "val_idx = idx[int(n*0.8):]\n",
        "\n",
        "print(len(train_idx))\n",
        "print(len(val_idx))"
      ],
      "metadata": {
        "colab": {
          "base_uri": "https://localhost:8080/"
        },
        "id": "MUViJW_MFC0h",
        "outputId": "743ade81-93bd-4344-8a7a-9e937e74750f"
      },
      "execution_count": 66,
      "outputs": [
        {
          "output_type": "stream",
          "name": "stdout",
          "text": [
            "80\n",
            "20\n"
          ]
        }
      ]
    },
    {
      "cell_type": "code",
      "source": [
        "# generates train and validation sets\n",
        "x_train, y_train = x[train_idx], y[train_idx]\n",
        "x_val, y_val =  x[val_idx], y[val_idx]"
      ],
      "metadata": {
        "id": "X_MpBsZNFvh7"
      },
      "execution_count": 67,
      "outputs": []
    },
    {
      "cell_type": "markdown",
      "source": [
        "# compute model's prediction "
      ],
      "metadata": {
        "id": "s121dBniIBLv"
      }
    },
    {
      "cell_type": "code",
      "source": [
        "np.random.seed(42)\n",
        "b = np.random.randn(1)\n",
        "w = np.random.randn(1)"
      ],
      "metadata": {
        "id": "TCWMztBzIdP_"
      },
      "execution_count": 68,
      "outputs": []
    },
    {
      "cell_type": "code",
      "source": [
        "print(b.shape)\n",
        "print(w.shape)"
      ],
      "metadata": {
        "colab": {
          "base_uri": "https://localhost:8080/"
        },
        "id": "wWilmNDAJRoz",
        "outputId": "f1b5fa9e-9d38-49dd-9d18-77455bd8524d"
      },
      "execution_count": 69,
      "outputs": [
        {
          "output_type": "stream",
          "name": "stdout",
          "text": [
            "(1,)\n",
            "(1,)\n"
          ]
        }
      ]
    },
    {
      "cell_type": "code",
      "source": [
        "yhat = b + w * x_train\n",
        "yhat.shape"
      ],
      "metadata": {
        "colab": {
          "base_uri": "https://localhost:8080/"
        },
        "id": "-6domw42IHbN",
        "outputId": "97fc9961-8644-4c19-e73e-710efd139a90"
      },
      "execution_count": 70,
      "outputs": [
        {
          "output_type": "execute_result",
          "data": {
            "text/plain": [
              "(80, 1)"
            ]
          },
          "metadata": {},
          "execution_count": 70
        }
      ]
    },
    {
      "cell_type": "code",
      "source": [
        "error = (yhat - y_train)\n",
        "error.shape"
      ],
      "metadata": {
        "colab": {
          "base_uri": "https://localhost:8080/"
        },
        "id": "cCXvIqHbI3Zw",
        "outputId": "d56b30f8-7b36-4577-9675-aea9f33f12b5"
      },
      "execution_count": 71,
      "outputs": [
        {
          "output_type": "execute_result",
          "data": {
            "text/plain": [
              "(80, 1)"
            ]
          },
          "metadata": {},
          "execution_count": 71
        }
      ]
    },
    {
      "cell_type": "code",
      "source": [
        "loss = (error ** 2).mean()\n",
        "loss"
      ],
      "metadata": {
        "colab": {
          "base_uri": "https://localhost:8080/"
        },
        "id": "yBLwRwsVJADC",
        "outputId": "05d49348-56c4-4eca-b390-8cd17c52ffa3"
      },
      "execution_count": 72,
      "outputs": [
        {
          "output_type": "execute_result",
          "data": {
            "text/plain": [
              "2.7421577700550976"
            ]
          },
          "metadata": {},
          "execution_count": 72
        }
      ]
    },
    {
      "cell_type": "markdown",
      "source": [
        "# loss surface"
      ],
      "metadata": {
        "id": "C13yMjayJv7q"
      }
    },
    {
      "cell_type": "code",
      "source": [
        "# create possible values for b & w\n",
        "b_range = np.linspace(true_b -3, true_b+3, 101)\n",
        "b_range.shape"
      ],
      "metadata": {
        "colab": {
          "base_uri": "https://localhost:8080/"
        },
        "id": "rAc2I6TOJx7h",
        "outputId": "b2744e4a-ab3f-469e-c429-22b2307c6a44"
      },
      "execution_count": 78,
      "outputs": [
        {
          "output_type": "execute_result",
          "data": {
            "text/plain": [
              "(101,)"
            ]
          },
          "metadata": {},
          "execution_count": 78
        }
      ]
    },
    {
      "cell_type": "code",
      "source": [
        "w_range = np.linspace(true_w -3, true_w+3, 101)\n",
        "w_range.shape"
      ],
      "metadata": {
        "colab": {
          "base_uri": "https://localhost:8080/"
        },
        "id": "6pEGQucTKSpG",
        "outputId": "ec2918e2-7c02-42a6-be08-d699c398de5b"
      },
      "execution_count": 74,
      "outputs": [
        {
          "output_type": "execute_result",
          "data": {
            "text/plain": [
              "(101,)"
            ]
          },
          "metadata": {},
          "execution_count": 74
        }
      ]
    },
    {
      "cell_type": "code",
      "source": [
        "bs, ws = np.meshgrid(b_range, w_range)\n",
        "bs.shape, ws.shape"
      ],
      "metadata": {
        "colab": {
          "base_uri": "https://localhost:8080/"
        },
        "id": "EC6HaN1BK0Ty",
        "outputId": "4345fd40-e620-4920-d36a-f9c09d053e0a"
      },
      "execution_count": 75,
      "outputs": [
        {
          "output_type": "execute_result",
          "data": {
            "text/plain": [
              "((101, 101), (101, 101))"
            ]
          },
          "metadata": {},
          "execution_count": 75
        }
      ]
    }
  ]
}