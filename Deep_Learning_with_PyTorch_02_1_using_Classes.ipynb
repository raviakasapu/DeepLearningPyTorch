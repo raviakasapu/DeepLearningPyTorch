{
  "nbformat": 4,
  "nbformat_minor": 0,
  "metadata": {
    "colab": {
      "name": "Deep_Learning_with_PyTorch_02_1_using_Classes.ipynb",
      "provenance": [],
      "collapsed_sections": [],
      "authorship_tag": "ABX9TyM1LDVbmva2s72ncUUiM6+q",
      "include_colab_link": true
    },
    "kernelspec": {
      "name": "python3",
      "display_name": "Python 3"
    },
    "language_info": {
      "name": "python"
    }
  },
  "cells": [
    {
      "cell_type": "markdown",
      "metadata": {
        "id": "view-in-github",
        "colab_type": "text"
      },
      "source": [
        "<a href=\"https://colab.research.google.com/github/raviakasapu/DeepLearningPyTorch/blob/main/Deep_Learning_with_PyTorch_02_1_using_Classes.ipynb\" target=\"_parent\"><img src=\"https://colab.research.google.com/assets/colab-badge.svg\" alt=\"Open In Colab\"/></a>"
      ]
    },
    {
      "cell_type": "markdown",
      "source": [
        "#  Deep Learning with PyTorch - Chapter 02-1\n",
        "\n",
        "\n",
        "---\n",
        "Using Classes\n"
      ],
      "metadata": {
        "id": "HnvyngHVyj95"
      }
    },
    {
      "cell_type": "code",
      "source": [
        "import numpy as np\n",
        "import datetime\n",
        "\n",
        "import torch\n",
        "import torch.optim as optim\n",
        "import torch.nn as nn\n",
        "import torch.functional as F\n",
        "from torch.utils.data import DataLoader, TensorDataset, random_split\n",
        "from torch.utils.tensorboard import SummaryWriter\n",
        "\n",
        "import matplotlib.pyplot as plt\n",
        "%matplotlib inline\n",
        "plt.style.use('fivethirtyeight')"
      ],
      "metadata": {
        "id": "L_sJ3bnsyypO"
      },
      "execution_count": 2,
      "outputs": []
    },
    {
      "cell_type": "markdown",
      "source": [
        "# Define the class"
      ],
      "metadata": {
        "id": "EAF8Cyl2zllC"
      }
    },
    {
      "cell_type": "code",
      "source": [
        "class StepByStep(object):\n",
        "  def __init__(self, model, loss_fn, optimizer):\n",
        "    self.model = model\n",
        "    self.loss_fn = loss_fn\n",
        "    self.optimizer = optimizer\n",
        "    self.device = 'cuda:0'\n",
        "    self.model.to(self.device)\n",
        "\n",
        "  def to(self,device):\n",
        "    self.device = device\n",
        "    self.model.to(self.device)"
      ],
      "metadata": {
        "id": "jeVoT61ozk9G"
      },
      "execution_count": null,
      "outputs": []
    }
  ]
}